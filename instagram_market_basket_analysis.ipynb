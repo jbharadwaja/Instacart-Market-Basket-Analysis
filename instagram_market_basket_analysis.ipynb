{
 "cells": [
  {
   "cell_type": "markdown",
   "id": "dafcfda4-03ec-40b7-9a59-6e21ad6a2447",
   "metadata": {
    "id": "dafcfda4-03ec-40b7-9a59-6e21ad6a2447"
   },
   "source": [
    "# Instacart Market Basket Analysis"
   ]
  },
  {
   "cell_type": "markdown",
   "id": "7c513406-9b90-479c-ab2f-a02f79ade6fc",
   "metadata": {
    "id": "7c513406-9b90-479c-ab2f-a02f79ade6fc"
   },
   "source": [
    "## Importing the required libraries"
   ]
  },
  {
   "cell_type": "code",
   "execution_count": 1,
   "id": "fbf1adab",
   "metadata": {
    "id": "fbf1adab"
   },
   "outputs": [],
   "source": [
    "# Import the libraries you'll need for this analysis\n",
    "import pandas as pd\n",
    "import matplotlib.pyplot as plt"
   ]
  },
  {
   "cell_type": "code",
   "execution_count": 2,
   "id": "fe188ef3-27b2-4825-b955-232cdd326307",
   "metadata": {
    "id": "fe188ef3-27b2-4825-b955-232cdd326307"
   },
   "outputs": [],
   "source": [
    "# Load the datasets\n",
    "# Note: These files use semicolon (;) as the separator instead of comma\n",
    "orders         = pd.read_csv('/datasets/instacart_orders.csv', sep=';')\n",
    "products       = pd.read_csv('/datasets/products.csv', sep=';')\n",
    "departments    = pd.read_csv('/datasets/departments.csv', sep=';')\n",
    "aisles         = pd.read_csv('/datasets/aisles.csv', sep=';')\n",
    "order_products = pd.read_csv('/datasets/order_products.csv', sep=';')"
   ]
  },
  {
   "cell_type": "markdown",
   "id": "9a38987c-bf93-4219-b61a-d31781438c8e",
   "metadata": {
    "id": "9a38987c-bf93-4219-b61a-d31781438c8e"
   },
   "source": [
    "## Analyze your data"
   ]
  },
  {
   "cell_type": "markdown",
   "id": "04d4b1a9-a75f-4c89-a297-3a6002b0e53d",
   "metadata": {
    "id": "04d4b1a9-a75f-4c89-a297-3a6002b0e53d"
   },
   "source": [
    "In the cells below, display the datasets using `.info()` and `.head()` to gain insights into their structure and content.\n",
    "\n",
    "- `.info()`: Provides a concise summary of the dataset, including the data types, non-null counts, and memory usage.\n",
    "- `.head()`: Displays the first few rows of the dataset, offering a quick overview of the data values."
   ]
  },
  {
   "cell_type": "code",
   "execution_count": 3,
   "id": "10cc6096-d5ba-40b9-ba42-967e2fb7dec1",
   "metadata": {
    "id": "10cc6096-d5ba-40b9-ba42-967e2fb7dec1"
   },
   "outputs": [
    {
     "data": {
      "text/html": [
       "<div>\n",
       "<style scoped>\n",
       "    .dataframe tbody tr th:only-of-type {\n",
       "        vertical-align: middle;\n",
       "    }\n",
       "\n",
       "    .dataframe tbody tr th {\n",
       "        vertical-align: top;\n",
       "    }\n",
       "\n",
       "    .dataframe thead th {\n",
       "        text-align: right;\n",
       "    }\n",
       "</style>\n",
       "<table border=\"1\" class=\"dataframe\">\n",
       "  <thead>\n",
       "    <tr style=\"text-align: right;\">\n",
       "      <th></th>\n",
       "      <th>order_id</th>\n",
       "      <th>user_id</th>\n",
       "      <th>order_number</th>\n",
       "      <th>order_dow</th>\n",
       "      <th>order_hour_of_day</th>\n",
       "      <th>days_since_prior_order</th>\n",
       "    </tr>\n",
       "  </thead>\n",
       "  <tbody>\n",
       "    <tr>\n",
       "      <th>0</th>\n",
       "      <td>1515936</td>\n",
       "      <td>183418</td>\n",
       "      <td>11</td>\n",
       "      <td>6</td>\n",
       "      <td>13</td>\n",
       "      <td>30.0</td>\n",
       "    </tr>\n",
       "    <tr>\n",
       "      <th>1</th>\n",
       "      <td>1690866</td>\n",
       "      <td>163593</td>\n",
       "      <td>5</td>\n",
       "      <td>5</td>\n",
       "      <td>12</td>\n",
       "      <td>9.0</td>\n",
       "    </tr>\n",
       "    <tr>\n",
       "      <th>2</th>\n",
       "      <td>1454967</td>\n",
       "      <td>39980</td>\n",
       "      <td>4</td>\n",
       "      <td>5</td>\n",
       "      <td>19</td>\n",
       "      <td>2.0</td>\n",
       "    </tr>\n",
       "    <tr>\n",
       "      <th>3</th>\n",
       "      <td>1768857</td>\n",
       "      <td>82516</td>\n",
       "      <td>56</td>\n",
       "      <td>0</td>\n",
       "      <td>20</td>\n",
       "      <td>10.0</td>\n",
       "    </tr>\n",
       "    <tr>\n",
       "      <th>4</th>\n",
       "      <td>3007858</td>\n",
       "      <td>196724</td>\n",
       "      <td>2</td>\n",
       "      <td>4</td>\n",
       "      <td>12</td>\n",
       "      <td>17.0</td>\n",
       "    </tr>\n",
       "    <tr>\n",
       "      <th>...</th>\n",
       "      <td>...</td>\n",
       "      <td>...</td>\n",
       "      <td>...</td>\n",
       "      <td>...</td>\n",
       "      <td>...</td>\n",
       "      <td>...</td>\n",
       "    </tr>\n",
       "    <tr>\n",
       "      <th>478962</th>\n",
       "      <td>3210681</td>\n",
       "      <td>5617</td>\n",
       "      <td>5</td>\n",
       "      <td>1</td>\n",
       "      <td>14</td>\n",
       "      <td>7.0</td>\n",
       "    </tr>\n",
       "    <tr>\n",
       "      <th>478963</th>\n",
       "      <td>3270802</td>\n",
       "      <td>112087</td>\n",
       "      <td>2</td>\n",
       "      <td>3</td>\n",
       "      <td>13</td>\n",
       "      <td>6.0</td>\n",
       "    </tr>\n",
       "    <tr>\n",
       "      <th>478964</th>\n",
       "      <td>885349</td>\n",
       "      <td>82944</td>\n",
       "      <td>16</td>\n",
       "      <td>2</td>\n",
       "      <td>11</td>\n",
       "      <td>6.0</td>\n",
       "    </tr>\n",
       "    <tr>\n",
       "      <th>478965</th>\n",
       "      <td>216274</td>\n",
       "      <td>4391</td>\n",
       "      <td>3</td>\n",
       "      <td>3</td>\n",
       "      <td>8</td>\n",
       "      <td>8.0</td>\n",
       "    </tr>\n",
       "    <tr>\n",
       "      <th>478966</th>\n",
       "      <td>2071924</td>\n",
       "      <td>1730</td>\n",
       "      <td>18</td>\n",
       "      <td>1</td>\n",
       "      <td>14</td>\n",
       "      <td>15.0</td>\n",
       "    </tr>\n",
       "  </tbody>\n",
       "</table>\n",
       "<p>478967 rows × 6 columns</p>\n",
       "</div>"
      ],
      "text/plain": [
       "        order_id  user_id  order_number  order_dow  order_hour_of_day  \\\n",
       "0        1515936   183418            11          6                 13   \n",
       "1        1690866   163593             5          5                 12   \n",
       "2        1454967    39980             4          5                 19   \n",
       "3        1768857    82516            56          0                 20   \n",
       "4        3007858   196724             2          4                 12   \n",
       "...          ...      ...           ...        ...                ...   \n",
       "478962   3210681     5617             5          1                 14   \n",
       "478963   3270802   112087             2          3                 13   \n",
       "478964    885349    82944            16          2                 11   \n",
       "478965    216274     4391             3          3                  8   \n",
       "478966   2071924     1730            18          1                 14   \n",
       "\n",
       "        days_since_prior_order  \n",
       "0                         30.0  \n",
       "1                          9.0  \n",
       "2                          2.0  \n",
       "3                         10.0  \n",
       "4                         17.0  \n",
       "...                        ...  \n",
       "478962                     7.0  \n",
       "478963                     6.0  \n",
       "478964                     6.0  \n",
       "478965                     8.0  \n",
       "478966                    15.0  \n",
       "\n",
       "[478967 rows x 6 columns]"
      ]
     },
     "execution_count": 3,
     "metadata": {},
     "output_type": "execute_result"
    }
   ],
   "source": [
    "# In this cell, type \"orders\" below this line and execute the cell\n",
    "orders"
   ]
  },
  {
   "cell_type": "code",
   "execution_count": 4,
   "id": "5130e05e",
   "metadata": {
    "id": "5130e05e"
   },
   "outputs": [
    {
     "data": {
      "text/html": [
       "<div>\n",
       "<style scoped>\n",
       "    .dataframe tbody tr th:only-of-type {\n",
       "        vertical-align: middle;\n",
       "    }\n",
       "\n",
       "    .dataframe tbody tr th {\n",
       "        vertical-align: top;\n",
       "    }\n",
       "\n",
       "    .dataframe thead th {\n",
       "        text-align: right;\n",
       "    }\n",
       "</style>\n",
       "<table border=\"1\" class=\"dataframe\">\n",
       "  <thead>\n",
       "    <tr style=\"text-align: right;\">\n",
       "      <th></th>\n",
       "      <th>product_id</th>\n",
       "      <th>product_name</th>\n",
       "      <th>aisle_id</th>\n",
       "      <th>department_id</th>\n",
       "    </tr>\n",
       "  </thead>\n",
       "  <tbody>\n",
       "    <tr>\n",
       "      <th>0</th>\n",
       "      <td>1</td>\n",
       "      <td>Chocolate Sandwich Cookies</td>\n",
       "      <td>61</td>\n",
       "      <td>19</td>\n",
       "    </tr>\n",
       "    <tr>\n",
       "      <th>1</th>\n",
       "      <td>2</td>\n",
       "      <td>All-Seasons Salt</td>\n",
       "      <td>104</td>\n",
       "      <td>13</td>\n",
       "    </tr>\n",
       "    <tr>\n",
       "      <th>2</th>\n",
       "      <td>3</td>\n",
       "      <td>Robust Golden Unsweetened Oolong Tea</td>\n",
       "      <td>94</td>\n",
       "      <td>7</td>\n",
       "    </tr>\n",
       "    <tr>\n",
       "      <th>3</th>\n",
       "      <td>4</td>\n",
       "      <td>Smart Ones Classic Favorites Mini Rigatoni Wit...</td>\n",
       "      <td>38</td>\n",
       "      <td>1</td>\n",
       "    </tr>\n",
       "    <tr>\n",
       "      <th>4</th>\n",
       "      <td>5</td>\n",
       "      <td>Green Chile Anytime Sauce</td>\n",
       "      <td>5</td>\n",
       "      <td>13</td>\n",
       "    </tr>\n",
       "    <tr>\n",
       "      <th>...</th>\n",
       "      <td>...</td>\n",
       "      <td>...</td>\n",
       "      <td>...</td>\n",
       "      <td>...</td>\n",
       "    </tr>\n",
       "    <tr>\n",
       "      <th>49689</th>\n",
       "      <td>49690</td>\n",
       "      <td>HIGH PERFORMANCE ENERGY DRINK</td>\n",
       "      <td>64</td>\n",
       "      <td>7</td>\n",
       "    </tr>\n",
       "    <tr>\n",
       "      <th>49690</th>\n",
       "      <td>49691</td>\n",
       "      <td>ORIGINAL PANCAKE &amp; WAFFLE MIX</td>\n",
       "      <td>130</td>\n",
       "      <td>14</td>\n",
       "    </tr>\n",
       "    <tr>\n",
       "      <th>49691</th>\n",
       "      <td>49692</td>\n",
       "      <td>ORGANIC INSTANT OATMEAL LIGHT MAPLE BROWN SUGAR</td>\n",
       "      <td>130</td>\n",
       "      <td>14</td>\n",
       "    </tr>\n",
       "    <tr>\n",
       "      <th>49692</th>\n",
       "      <td>49693</td>\n",
       "      <td>SPRING WATER BODY WASH</td>\n",
       "      <td>127</td>\n",
       "      <td>11</td>\n",
       "    </tr>\n",
       "    <tr>\n",
       "      <th>49693</th>\n",
       "      <td>49694</td>\n",
       "      <td>BURRITO- STEAK &amp; CHEESE</td>\n",
       "      <td>38</td>\n",
       "      <td>1</td>\n",
       "    </tr>\n",
       "  </tbody>\n",
       "</table>\n",
       "<p>49694 rows × 4 columns</p>\n",
       "</div>"
      ],
      "text/plain": [
       "       product_id                                       product_name  \\\n",
       "0               1                         Chocolate Sandwich Cookies   \n",
       "1               2                                   All-Seasons Salt   \n",
       "2               3               Robust Golden Unsweetened Oolong Tea   \n",
       "3               4  Smart Ones Classic Favorites Mini Rigatoni Wit...   \n",
       "4               5                          Green Chile Anytime Sauce   \n",
       "...           ...                                                ...   \n",
       "49689       49690                      HIGH PERFORMANCE ENERGY DRINK   \n",
       "49690       49691                      ORIGINAL PANCAKE & WAFFLE MIX   \n",
       "49691       49692    ORGANIC INSTANT OATMEAL LIGHT MAPLE BROWN SUGAR   \n",
       "49692       49693                             SPRING WATER BODY WASH   \n",
       "49693       49694                            BURRITO- STEAK & CHEESE   \n",
       "\n",
       "       aisle_id  department_id  \n",
       "0            61             19  \n",
       "1           104             13  \n",
       "2            94              7  \n",
       "3            38              1  \n",
       "4             5             13  \n",
       "...         ...            ...  \n",
       "49689        64              7  \n",
       "49690       130             14  \n",
       "49691       130             14  \n",
       "49692       127             11  \n",
       "49693        38              1  \n",
       "\n",
       "[49694 rows x 4 columns]"
      ]
     },
     "execution_count": 4,
     "metadata": {},
     "output_type": "execute_result"
    }
   ],
   "source": [
    "# In this cell, type \"products\" below this line and execute the cell\n",
    "products"
   ]
  },
  {
   "cell_type": "code",
   "execution_count": 5,
   "id": "9e7de308",
   "metadata": {},
   "outputs": [
    {
     "data": {
      "text/html": [
       "<div>\n",
       "<style scoped>\n",
       "    .dataframe tbody tr th:only-of-type {\n",
       "        vertical-align: middle;\n",
       "    }\n",
       "\n",
       "    .dataframe tbody tr th {\n",
       "        vertical-align: top;\n",
       "    }\n",
       "\n",
       "    .dataframe thead th {\n",
       "        text-align: right;\n",
       "    }\n",
       "</style>\n",
       "<table border=\"1\" class=\"dataframe\">\n",
       "  <thead>\n",
       "    <tr style=\"text-align: right;\">\n",
       "      <th></th>\n",
       "      <th>department_id</th>\n",
       "      <th>department</th>\n",
       "    </tr>\n",
       "  </thead>\n",
       "  <tbody>\n",
       "    <tr>\n",
       "      <th>0</th>\n",
       "      <td>1</td>\n",
       "      <td>frozen</td>\n",
       "    </tr>\n",
       "    <tr>\n",
       "      <th>1</th>\n",
       "      <td>2</td>\n",
       "      <td>other</td>\n",
       "    </tr>\n",
       "    <tr>\n",
       "      <th>2</th>\n",
       "      <td>3</td>\n",
       "      <td>bakery</td>\n",
       "    </tr>\n",
       "    <tr>\n",
       "      <th>3</th>\n",
       "      <td>4</td>\n",
       "      <td>produce</td>\n",
       "    </tr>\n",
       "    <tr>\n",
       "      <th>4</th>\n",
       "      <td>5</td>\n",
       "      <td>alcohol</td>\n",
       "    </tr>\n",
       "    <tr>\n",
       "      <th>5</th>\n",
       "      <td>6</td>\n",
       "      <td>international</td>\n",
       "    </tr>\n",
       "    <tr>\n",
       "      <th>6</th>\n",
       "      <td>7</td>\n",
       "      <td>beverages</td>\n",
       "    </tr>\n",
       "    <tr>\n",
       "      <th>7</th>\n",
       "      <td>8</td>\n",
       "      <td>pets</td>\n",
       "    </tr>\n",
       "    <tr>\n",
       "      <th>8</th>\n",
       "      <td>9</td>\n",
       "      <td>dry goods pasta</td>\n",
       "    </tr>\n",
       "    <tr>\n",
       "      <th>9</th>\n",
       "      <td>10</td>\n",
       "      <td>bulk</td>\n",
       "    </tr>\n",
       "    <tr>\n",
       "      <th>10</th>\n",
       "      <td>11</td>\n",
       "      <td>personal care</td>\n",
       "    </tr>\n",
       "    <tr>\n",
       "      <th>11</th>\n",
       "      <td>12</td>\n",
       "      <td>meat seafood</td>\n",
       "    </tr>\n",
       "    <tr>\n",
       "      <th>12</th>\n",
       "      <td>13</td>\n",
       "      <td>pantry</td>\n",
       "    </tr>\n",
       "    <tr>\n",
       "      <th>13</th>\n",
       "      <td>14</td>\n",
       "      <td>breakfast</td>\n",
       "    </tr>\n",
       "    <tr>\n",
       "      <th>14</th>\n",
       "      <td>15</td>\n",
       "      <td>canned goods</td>\n",
       "    </tr>\n",
       "    <tr>\n",
       "      <th>15</th>\n",
       "      <td>16</td>\n",
       "      <td>dairy eggs</td>\n",
       "    </tr>\n",
       "    <tr>\n",
       "      <th>16</th>\n",
       "      <td>17</td>\n",
       "      <td>household</td>\n",
       "    </tr>\n",
       "    <tr>\n",
       "      <th>17</th>\n",
       "      <td>18</td>\n",
       "      <td>babies</td>\n",
       "    </tr>\n",
       "    <tr>\n",
       "      <th>18</th>\n",
       "      <td>19</td>\n",
       "      <td>snacks</td>\n",
       "    </tr>\n",
       "    <tr>\n",
       "      <th>19</th>\n",
       "      <td>20</td>\n",
       "      <td>deli</td>\n",
       "    </tr>\n",
       "    <tr>\n",
       "      <th>20</th>\n",
       "      <td>21</td>\n",
       "      <td>missing</td>\n",
       "    </tr>\n",
       "  </tbody>\n",
       "</table>\n",
       "</div>"
      ],
      "text/plain": [
       "    department_id       department\n",
       "0               1           frozen\n",
       "1               2            other\n",
       "2               3           bakery\n",
       "3               4          produce\n",
       "4               5          alcohol\n",
       "5               6    international\n",
       "6               7        beverages\n",
       "7               8             pets\n",
       "8               9  dry goods pasta\n",
       "9              10             bulk\n",
       "10             11    personal care\n",
       "11             12     meat seafood\n",
       "12             13           pantry\n",
       "13             14        breakfast\n",
       "14             15     canned goods\n",
       "15             16       dairy eggs\n",
       "16             17        household\n",
       "17             18           babies\n",
       "18             19           snacks\n",
       "19             20             deli\n",
       "20             21          missing"
      ]
     },
     "execution_count": 5,
     "metadata": {},
     "output_type": "execute_result"
    }
   ],
   "source": [
    "# departments table\n",
    "departments"
   ]
  },
  {
   "cell_type": "code",
   "execution_count": 6,
   "id": "84ec0e44",
   "metadata": {},
   "outputs": [
    {
     "data": {
      "text/html": [
       "<div>\n",
       "<style scoped>\n",
       "    .dataframe tbody tr th:only-of-type {\n",
       "        vertical-align: middle;\n",
       "    }\n",
       "\n",
       "    .dataframe tbody tr th {\n",
       "        vertical-align: top;\n",
       "    }\n",
       "\n",
       "    .dataframe thead th {\n",
       "        text-align: right;\n",
       "    }\n",
       "</style>\n",
       "<table border=\"1\" class=\"dataframe\">\n",
       "  <thead>\n",
       "    <tr style=\"text-align: right;\">\n",
       "      <th></th>\n",
       "      <th>aisle_id</th>\n",
       "      <th>aisle</th>\n",
       "    </tr>\n",
       "  </thead>\n",
       "  <tbody>\n",
       "    <tr>\n",
       "      <th>0</th>\n",
       "      <td>1</td>\n",
       "      <td>prepared soups salads</td>\n",
       "    </tr>\n",
       "    <tr>\n",
       "      <th>1</th>\n",
       "      <td>2</td>\n",
       "      <td>specialty cheeses</td>\n",
       "    </tr>\n",
       "    <tr>\n",
       "      <th>2</th>\n",
       "      <td>3</td>\n",
       "      <td>energy granola bars</td>\n",
       "    </tr>\n",
       "    <tr>\n",
       "      <th>3</th>\n",
       "      <td>4</td>\n",
       "      <td>instant foods</td>\n",
       "    </tr>\n",
       "    <tr>\n",
       "      <th>4</th>\n",
       "      <td>5</td>\n",
       "      <td>marinades meat preparation</td>\n",
       "    </tr>\n",
       "    <tr>\n",
       "      <th>...</th>\n",
       "      <td>...</td>\n",
       "      <td>...</td>\n",
       "    </tr>\n",
       "    <tr>\n",
       "      <th>129</th>\n",
       "      <td>130</td>\n",
       "      <td>hot cereal pancake mixes</td>\n",
       "    </tr>\n",
       "    <tr>\n",
       "      <th>130</th>\n",
       "      <td>131</td>\n",
       "      <td>dry pasta</td>\n",
       "    </tr>\n",
       "    <tr>\n",
       "      <th>131</th>\n",
       "      <td>132</td>\n",
       "      <td>beauty</td>\n",
       "    </tr>\n",
       "    <tr>\n",
       "      <th>132</th>\n",
       "      <td>133</td>\n",
       "      <td>muscles joints pain relief</td>\n",
       "    </tr>\n",
       "    <tr>\n",
       "      <th>133</th>\n",
       "      <td>134</td>\n",
       "      <td>specialty wines champagnes</td>\n",
       "    </tr>\n",
       "  </tbody>\n",
       "</table>\n",
       "<p>134 rows × 2 columns</p>\n",
       "</div>"
      ],
      "text/plain": [
       "     aisle_id                       aisle\n",
       "0           1       prepared soups salads\n",
       "1           2           specialty cheeses\n",
       "2           3         energy granola bars\n",
       "3           4               instant foods\n",
       "4           5  marinades meat preparation\n",
       "..        ...                         ...\n",
       "129       130    hot cereal pancake mixes\n",
       "130       131                   dry pasta\n",
       "131       132                      beauty\n",
       "132       133  muscles joints pain relief\n",
       "133       134  specialty wines champagnes\n",
       "\n",
       "[134 rows x 2 columns]"
      ]
     },
     "execution_count": 6,
     "metadata": {},
     "output_type": "execute_result"
    }
   ],
   "source": [
    "# aisles table\n",
    "aisles"
   ]
  },
  {
   "cell_type": "code",
   "execution_count": 7,
   "id": "f938ae5a",
   "metadata": {},
   "outputs": [
    {
     "data": {
      "text/html": [
       "<div>\n",
       "<style scoped>\n",
       "    .dataframe tbody tr th:only-of-type {\n",
       "        vertical-align: middle;\n",
       "    }\n",
       "\n",
       "    .dataframe tbody tr th {\n",
       "        vertical-align: top;\n",
       "    }\n",
       "\n",
       "    .dataframe thead th {\n",
       "        text-align: right;\n",
       "    }\n",
       "</style>\n",
       "<table border=\"1\" class=\"dataframe\">\n",
       "  <thead>\n",
       "    <tr style=\"text-align: right;\">\n",
       "      <th></th>\n",
       "      <th>order_id</th>\n",
       "      <th>product_id</th>\n",
       "      <th>add_to_cart_order</th>\n",
       "      <th>reordered</th>\n",
       "    </tr>\n",
       "  </thead>\n",
       "  <tbody>\n",
       "    <tr>\n",
       "      <th>0</th>\n",
       "      <td>2141543</td>\n",
       "      <td>11440</td>\n",
       "      <td>17.0</td>\n",
       "      <td>0</td>\n",
       "    </tr>\n",
       "    <tr>\n",
       "      <th>1</th>\n",
       "      <td>567889</td>\n",
       "      <td>1560</td>\n",
       "      <td>1.0</td>\n",
       "      <td>1</td>\n",
       "    </tr>\n",
       "    <tr>\n",
       "      <th>2</th>\n",
       "      <td>2261212</td>\n",
       "      <td>26683</td>\n",
       "      <td>1.0</td>\n",
       "      <td>1</td>\n",
       "    </tr>\n",
       "    <tr>\n",
       "      <th>3</th>\n",
       "      <td>491251</td>\n",
       "      <td>8670</td>\n",
       "      <td>35.0</td>\n",
       "      <td>1</td>\n",
       "    </tr>\n",
       "    <tr>\n",
       "      <th>4</th>\n",
       "      <td>2571142</td>\n",
       "      <td>1940</td>\n",
       "      <td>5.0</td>\n",
       "      <td>1</td>\n",
       "    </tr>\n",
       "    <tr>\n",
       "      <th>...</th>\n",
       "      <td>...</td>\n",
       "      <td>...</td>\n",
       "      <td>...</td>\n",
       "      <td>...</td>\n",
       "    </tr>\n",
       "    <tr>\n",
       "      <th>4545002</th>\n",
       "      <td>577211</td>\n",
       "      <td>15290</td>\n",
       "      <td>12.0</td>\n",
       "      <td>1</td>\n",
       "    </tr>\n",
       "    <tr>\n",
       "      <th>4545003</th>\n",
       "      <td>1219554</td>\n",
       "      <td>21914</td>\n",
       "      <td>9.0</td>\n",
       "      <td>0</td>\n",
       "    </tr>\n",
       "    <tr>\n",
       "      <th>4545004</th>\n",
       "      <td>692640</td>\n",
       "      <td>47766</td>\n",
       "      <td>4.0</td>\n",
       "      <td>1</td>\n",
       "    </tr>\n",
       "    <tr>\n",
       "      <th>4545005</th>\n",
       "      <td>319435</td>\n",
       "      <td>691</td>\n",
       "      <td>8.0</td>\n",
       "      <td>1</td>\n",
       "    </tr>\n",
       "    <tr>\n",
       "      <th>4545006</th>\n",
       "      <td>1398151</td>\n",
       "      <td>28733</td>\n",
       "      <td>9.0</td>\n",
       "      <td>0</td>\n",
       "    </tr>\n",
       "  </tbody>\n",
       "</table>\n",
       "<p>4545007 rows × 4 columns</p>\n",
       "</div>"
      ],
      "text/plain": [
       "         order_id  product_id  add_to_cart_order  reordered\n",
       "0         2141543       11440               17.0          0\n",
       "1          567889        1560                1.0          1\n",
       "2         2261212       26683                1.0          1\n",
       "3          491251        8670               35.0          1\n",
       "4         2571142        1940                5.0          1\n",
       "...           ...         ...                ...        ...\n",
       "4545002    577211       15290               12.0          1\n",
       "4545003   1219554       21914                9.0          0\n",
       "4545004    692640       47766                4.0          1\n",
       "4545005    319435         691                8.0          1\n",
       "4545006   1398151       28733                9.0          0\n",
       "\n",
       "[4545007 rows x 4 columns]"
      ]
     },
     "execution_count": 7,
     "metadata": {},
     "output_type": "execute_result"
    }
   ],
   "source": [
    "# order_products table\n",
    "order_products"
   ]
  },
  {
   "cell_type": "markdown",
   "id": "5143e30d-f791-4596-b1f2-3c64cf8d2243",
   "metadata": {
    "id": "5143e30d-f791-4596-b1f2-3c64cf8d2243"
   },
   "source": [
    "Repeat this process for each dataset to understand the structure, including the types of columns and rows they contain. Add additional code cells as needed for your analysis."
   ]
  },
  {
   "cell_type": "code",
   "execution_count": 8,
   "id": "d8370c05",
   "metadata": {
    "id": "d8370c05"
   },
   "outputs": [
    {
     "name": "stdout",
     "output_type": "stream",
     "text": [
      "<class 'pandas.core.frame.DataFrame'>\n",
      "RangeIndex: 478967 entries, 0 to 478966\n",
      "Data columns (total 6 columns):\n",
      " #   Column                  Non-Null Count   Dtype  \n",
      "---  ------                  --------------   -----  \n",
      " 0   order_id                478967 non-null  int64  \n",
      " 1   user_id                 478967 non-null  int64  \n",
      " 2   order_number            478967 non-null  int64  \n",
      " 3   order_dow               478967 non-null  int64  \n",
      " 4   order_hour_of_day       478967 non-null  int64  \n",
      " 5   days_since_prior_order  450148 non-null  float64\n",
      "dtypes: float64(1), int64(5)\n",
      "memory usage: 21.9 MB\n"
     ]
    }
   ],
   "source": [
    "# In this cell, type \"orders.info() below this line and execute the cell\n",
    "orders.info()"
   ]
  },
  {
   "cell_type": "markdown",
   "id": "73bc6c88-e73f-4d53-b887-5ee6b5e6c570",
   "metadata": {
    "id": "73bc6c88-e73f-4d53-b887-5ee6b5e6c570"
   },
   "source": [
    "The \"Non-Null Count\" column provides information about any missing values in each column of the dataset. With a total of 478,952 entries, observe any columns where the non-null count is less than this number to identify missing values."
   ]
  },
  {
   "cell_type": "code",
   "execution_count": 9,
   "id": "59e2090f",
   "metadata": {
    "id": "59e2090f"
   },
   "outputs": [
    {
     "name": "stdout",
     "output_type": "stream",
     "text": [
      "<class 'pandas.core.frame.DataFrame'>\n",
      "RangeIndex: 4545007 entries, 0 to 4545006\n",
      "Data columns (total 4 columns):\n",
      " #   Column             Non-Null Count    Dtype  \n",
      "---  ------             --------------    -----  \n",
      " 0   order_id           4545007 non-null  int64  \n",
      " 1   product_id         4545007 non-null  int64  \n",
      " 2   add_to_cart_order  4544171 non-null  float64\n",
      " 3   reordered          4545007 non-null  int64  \n",
      "dtypes: float64(1), int64(3)\n",
      "memory usage: 138.7 MB\n"
     ]
    }
   ],
   "source": [
    "# In this cell, run orders_products.info() below, but include the argument show_counts=True since this is a large file.\n",
    "order_products.info(show_counts = True)"
   ]
  },
  {
   "cell_type": "code",
   "execution_count": 10,
   "id": "c14274ea",
   "metadata": {},
   "outputs": [
    {
     "name": "stdout",
     "output_type": "stream",
     "text": [
      "<class 'pandas.core.frame.DataFrame'>\n",
      "RangeIndex: 21 entries, 0 to 20\n",
      "Data columns (total 2 columns):\n",
      " #   Column         Non-Null Count  Dtype \n",
      "---  ------         --------------  ----- \n",
      " 0   department_id  21 non-null     int64 \n",
      " 1   department     21 non-null     object\n",
      "dtypes: int64(1), object(1)\n",
      "memory usage: 464.0+ bytes\n"
     ]
    }
   ],
   "source": [
    "# diagnosting deparments info\n",
    "departments.info()"
   ]
  },
  {
   "cell_type": "code",
   "execution_count": 11,
   "id": "73372e0c",
   "metadata": {},
   "outputs": [
    {
     "name": "stdout",
     "output_type": "stream",
     "text": [
      "<class 'pandas.core.frame.DataFrame'>\n",
      "RangeIndex: 49694 entries, 0 to 49693\n",
      "Data columns (total 4 columns):\n",
      " #   Column         Non-Null Count  Dtype \n",
      "---  ------         --------------  ----- \n",
      " 0   product_id     49694 non-null  int64 \n",
      " 1   product_name   48436 non-null  object\n",
      " 2   aisle_id       49694 non-null  int64 \n",
      " 3   department_id  49694 non-null  int64 \n",
      "dtypes: int64(3), object(1)\n",
      "memory usage: 1.5+ MB\n"
     ]
    }
   ],
   "source": [
    "# diagnosting products info\n",
    "products.info(show_counts = True)"
   ]
  },
  {
   "cell_type": "code",
   "execution_count": 12,
   "id": "ceda981b",
   "metadata": {},
   "outputs": [
    {
     "name": "stdout",
     "output_type": "stream",
     "text": [
      "<class 'pandas.core.frame.DataFrame'>\n",
      "RangeIndex: 134 entries, 0 to 133\n",
      "Data columns (total 2 columns):\n",
      " #   Column    Non-Null Count  Dtype \n",
      "---  ------    --------------  ----- \n",
      " 0   aisle_id  134 non-null    int64 \n",
      " 1   aisle     134 non-null    object\n",
      "dtypes: int64(1), object(1)\n",
      "memory usage: 2.2+ KB\n"
     ]
    }
   ],
   "source": [
    "# diagnosting aisles info\n",
    "aisles.info()"
   ]
  },
  {
   "cell_type": "markdown",
   "id": "3360e4ce-723c-45bd-8998-ca2f1db53349",
   "metadata": {
    "id": "3360e4ce-723c-45bd-8998-ca2f1db53349"
   },
   "source": [
    "Repeat the use of .info() on the remaining datasets to identify missing values and understand their structure. Check the \"Non-Null Count\" for each dataset to spot any columns with missing values."
   ]
  },
  {
   "cell_type": "markdown",
   "id": "1e46de76",
   "metadata": {
    "id": "1e46de76"
   },
   "source": [
    "## Find and Remove Missing Values\n",
    "\n",
    "We noticed that some columns contain missing values.\n",
    "\n",
    "Here are some useful code snippets:\n",
    "\n",
    "```python\n",
    "# Identify missing values in each column\n",
    "print(dataset.isnull().sum())\n",
    "\n",
    "# Display rows where a specific column has missing values\n",
    "print(dataset[dataset['column_name'].isna()])\n",
    "\n",
    "# Confirm no missing values remain\n",
    "print(dataset.isnull().sum())\n",
    "```"
   ]
  },
  {
   "cell_type": "markdown",
   "id": "c0aebd78",
   "metadata": {
    "id": "c0aebd78"
   },
   "source": [
    "### `products` Data Frame\n",
    "\n",
    "We will begin by addressing the missing values in the `products` data frame."
   ]
  },
  {
   "cell_type": "code",
   "execution_count": 13,
   "id": "fe4a8b0f",
   "metadata": {
    "id": "fe4a8b0f"
   },
   "outputs": [
    {
     "data": {
      "text/html": [
       "<div>\n",
       "<style scoped>\n",
       "    .dataframe tbody tr th:only-of-type {\n",
       "        vertical-align: middle;\n",
       "    }\n",
       "\n",
       "    .dataframe tbody tr th {\n",
       "        vertical-align: top;\n",
       "    }\n",
       "\n",
       "    .dataframe thead th {\n",
       "        text-align: right;\n",
       "    }\n",
       "</style>\n",
       "<table border=\"1\" class=\"dataframe\">\n",
       "  <thead>\n",
       "    <tr style=\"text-align: right;\">\n",
       "      <th></th>\n",
       "      <th>product_id</th>\n",
       "      <th>product_name</th>\n",
       "      <th>aisle_id</th>\n",
       "      <th>department_id</th>\n",
       "    </tr>\n",
       "  </thead>\n",
       "  <tbody>\n",
       "    <tr>\n",
       "      <th>37</th>\n",
       "      <td>38</td>\n",
       "      <td>NaN</td>\n",
       "      <td>100</td>\n",
       "      <td>21</td>\n",
       "    </tr>\n",
       "    <tr>\n",
       "      <th>71</th>\n",
       "      <td>72</td>\n",
       "      <td>NaN</td>\n",
       "      <td>100</td>\n",
       "      <td>21</td>\n",
       "    </tr>\n",
       "    <tr>\n",
       "      <th>109</th>\n",
       "      <td>110</td>\n",
       "      <td>NaN</td>\n",
       "      <td>100</td>\n",
       "      <td>21</td>\n",
       "    </tr>\n",
       "    <tr>\n",
       "      <th>296</th>\n",
       "      <td>297</td>\n",
       "      <td>NaN</td>\n",
       "      <td>100</td>\n",
       "      <td>21</td>\n",
       "    </tr>\n",
       "    <tr>\n",
       "      <th>416</th>\n",
       "      <td>417</td>\n",
       "      <td>NaN</td>\n",
       "      <td>100</td>\n",
       "      <td>21</td>\n",
       "    </tr>\n",
       "    <tr>\n",
       "      <th>...</th>\n",
       "      <td>...</td>\n",
       "      <td>...</td>\n",
       "      <td>...</td>\n",
       "      <td>...</td>\n",
       "    </tr>\n",
       "    <tr>\n",
       "      <th>49552</th>\n",
       "      <td>49553</td>\n",
       "      <td>NaN</td>\n",
       "      <td>100</td>\n",
       "      <td>21</td>\n",
       "    </tr>\n",
       "    <tr>\n",
       "      <th>49574</th>\n",
       "      <td>49575</td>\n",
       "      <td>NaN</td>\n",
       "      <td>100</td>\n",
       "      <td>21</td>\n",
       "    </tr>\n",
       "    <tr>\n",
       "      <th>49640</th>\n",
       "      <td>49641</td>\n",
       "      <td>NaN</td>\n",
       "      <td>100</td>\n",
       "      <td>21</td>\n",
       "    </tr>\n",
       "    <tr>\n",
       "      <th>49663</th>\n",
       "      <td>49664</td>\n",
       "      <td>NaN</td>\n",
       "      <td>100</td>\n",
       "      <td>21</td>\n",
       "    </tr>\n",
       "    <tr>\n",
       "      <th>49668</th>\n",
       "      <td>49669</td>\n",
       "      <td>NaN</td>\n",
       "      <td>100</td>\n",
       "      <td>21</td>\n",
       "    </tr>\n",
       "  </tbody>\n",
       "</table>\n",
       "<p>1258 rows × 4 columns</p>\n",
       "</div>"
      ],
      "text/plain": [
       "       product_id product_name  aisle_id  department_id\n",
       "37             38          NaN       100             21\n",
       "71             72          NaN       100             21\n",
       "109           110          NaN       100             21\n",
       "296           297          NaN       100             21\n",
       "416           417          NaN       100             21\n",
       "...           ...          ...       ...            ...\n",
       "49552       49553          NaN       100             21\n",
       "49574       49575          NaN       100             21\n",
       "49640       49641          NaN       100             21\n",
       "49663       49664          NaN       100             21\n",
       "49668       49669          NaN       100             21\n",
       "\n",
       "[1258 rows x 4 columns]"
      ]
     },
     "execution_count": 13,
     "metadata": {},
     "output_type": "execute_result"
    }
   ],
   "source": [
    "# Display rows where the product_name column has missing values\n",
    "products[products['product_name'].isna()]"
   ]
  },
  {
   "cell_type": "markdown",
   "id": "b077fb59-f1f2-4390-a2bd-cdccadd5a747",
   "metadata": {
    "id": "b077fb59-f1f2-4390-a2bd-cdccadd5a747"
   },
   "source": [
    "It seems suspicious that all rows with missing `product_name` might be associated with `aisle_id` 100 and `department_id` 21. Let’s verify this by checking if any rows with missing `product_name` have an `aisle_id` different from 100 and 21. This will help us confirm if the issue is isolated to this aisle or spread across others."
   ]
  },
  {
   "cell_type": "code",
   "execution_count": 14,
   "id": "e96167bc",
   "metadata": {
    "id": "e96167bc"
   },
   "outputs": [
    {
     "data": {
      "text/html": [
       "<div>\n",
       "<style scoped>\n",
       "    .dataframe tbody tr th:only-of-type {\n",
       "        vertical-align: middle;\n",
       "    }\n",
       "\n",
       "    .dataframe tbody tr th {\n",
       "        vertical-align: top;\n",
       "    }\n",
       "\n",
       "    .dataframe thead th {\n",
       "        text-align: right;\n",
       "    }\n",
       "</style>\n",
       "<table border=\"1\" class=\"dataframe\">\n",
       "  <thead>\n",
       "    <tr style=\"text-align: right;\">\n",
       "      <th></th>\n",
       "      <th>product_id</th>\n",
       "      <th>product_name</th>\n",
       "      <th>aisle_id</th>\n",
       "      <th>department_id</th>\n",
       "    </tr>\n",
       "  </thead>\n",
       "  <tbody>\n",
       "  </tbody>\n",
       "</table>\n",
       "</div>"
      ],
      "text/plain": [
       "Empty DataFrame\n",
       "Columns: [product_id, product_name, aisle_id, department_id]\n",
       "Index: []"
      ]
     },
     "execution_count": 14,
     "metadata": {},
     "output_type": "execute_result"
    }
   ],
   "source": [
    "# Combine conditions to check for missing product names in aisles other than 100\n",
    "products[(products['product_name'].isna()) & (products['aisle_id'] != 100)]"
   ]
  },
  {
   "cell_type": "code",
   "execution_count": 15,
   "id": "8fd0a541",
   "metadata": {
    "id": "8fd0a541"
   },
   "outputs": [
    {
     "data": {
      "text/html": [
       "<div>\n",
       "<style scoped>\n",
       "    .dataframe tbody tr th:only-of-type {\n",
       "        vertical-align: middle;\n",
       "    }\n",
       "\n",
       "    .dataframe tbody tr th {\n",
       "        vertical-align: top;\n",
       "    }\n",
       "\n",
       "    .dataframe thead th {\n",
       "        text-align: right;\n",
       "    }\n",
       "</style>\n",
       "<table border=\"1\" class=\"dataframe\">\n",
       "  <thead>\n",
       "    <tr style=\"text-align: right;\">\n",
       "      <th></th>\n",
       "      <th>product_id</th>\n",
       "      <th>product_name</th>\n",
       "      <th>aisle_id</th>\n",
       "      <th>department_id</th>\n",
       "    </tr>\n",
       "  </thead>\n",
       "  <tbody>\n",
       "  </tbody>\n",
       "</table>\n",
       "</div>"
      ],
      "text/plain": [
       "Empty DataFrame\n",
       "Columns: [product_id, product_name, aisle_id, department_id]\n",
       "Index: []"
      ]
     },
     "execution_count": 15,
     "metadata": {},
     "output_type": "execute_result"
    }
   ],
   "source": [
    "# Combine conditions to check for missing product names in aisles other than 21\n",
    "products[(products['product_name'].isna()) & (products['department_id'] != 21)]"
   ]
  },
  {
   "cell_type": "markdown",
   "id": "2c74c53f-a139-4d83-9be9-628fca74ce7c",
   "metadata": {
    "id": "2c74c53f-a139-4d83-9be9-628fca74ce7c"
   },
   "source": [
    "To better understand the missing product_name values, let’s determine what department_id 21 and aisle_id 100 represent by referencing the departments and aisles tables."
   ]
  },
  {
   "cell_type": "code",
   "execution_count": 16,
   "id": "325c3464",
   "metadata": {
    "id": "325c3464"
   },
   "outputs": [
    {
     "data": {
      "text/html": [
       "<div>\n",
       "<style scoped>\n",
       "    .dataframe tbody tr th:only-of-type {\n",
       "        vertical-align: middle;\n",
       "    }\n",
       "\n",
       "    .dataframe tbody tr th {\n",
       "        vertical-align: top;\n",
       "    }\n",
       "\n",
       "    .dataframe thead th {\n",
       "        text-align: right;\n",
       "    }\n",
       "</style>\n",
       "<table border=\"1\" class=\"dataframe\">\n",
       "  <thead>\n",
       "    <tr style=\"text-align: right;\">\n",
       "      <th></th>\n",
       "      <th>aisle_id</th>\n",
       "      <th>aisle</th>\n",
       "    </tr>\n",
       "  </thead>\n",
       "  <tbody>\n",
       "    <tr>\n",
       "      <th>99</th>\n",
       "      <td>100</td>\n",
       "      <td>missing</td>\n",
       "    </tr>\n",
       "  </tbody>\n",
       "</table>\n",
       "</div>"
      ],
      "text/plain": [
       "    aisle_id    aisle\n",
       "99       100  missing"
      ]
     },
     "execution_count": 16,
     "metadata": {},
     "output_type": "execute_result"
    }
   ],
   "source": [
    "# What is this aisle and department?\n",
    "# Check aisle_id 100\n",
    "aisles[aisles['aisle_id'] == 100]"
   ]
  },
  {
   "cell_type": "code",
   "execution_count": 17,
   "id": "f63ad8ca",
   "metadata": {},
   "outputs": [
    {
     "data": {
      "text/html": [
       "<div>\n",
       "<style scoped>\n",
       "    .dataframe tbody tr th:only-of-type {\n",
       "        vertical-align: middle;\n",
       "    }\n",
       "\n",
       "    .dataframe tbody tr th {\n",
       "        vertical-align: top;\n",
       "    }\n",
       "\n",
       "    .dataframe thead th {\n",
       "        text-align: right;\n",
       "    }\n",
       "</style>\n",
       "<table border=\"1\" class=\"dataframe\">\n",
       "  <thead>\n",
       "    <tr style=\"text-align: right;\">\n",
       "      <th></th>\n",
       "      <th>department_id</th>\n",
       "      <th>department</th>\n",
       "    </tr>\n",
       "  </thead>\n",
       "  <tbody>\n",
       "    <tr>\n",
       "      <th>20</th>\n",
       "      <td>21</td>\n",
       "      <td>missing</td>\n",
       "    </tr>\n",
       "  </tbody>\n",
       "</table>\n",
       "</div>"
      ],
      "text/plain": [
       "    department_id department\n",
       "20             21    missing"
      ]
     },
     "execution_count": 17,
     "metadata": {},
     "output_type": "execute_result"
    }
   ],
   "source": [
    "# Check department_id 21\n",
    "departments[departments['department_id'] == 21]"
   ]
  },
  {
   "cell_type": "code",
   "execution_count": 18,
   "id": "6b295120",
   "metadata": {
    "id": "6b295120"
   },
   "outputs": [],
   "source": [
    "# Fill missing product names with 'Unknown'\n",
    "products['product_name'] = products['product_name'].fillna('Unknown')"
   ]
  },
  {
   "cell_type": "markdown",
   "id": "7eb45c86",
   "metadata": {
    "id": "7eb45c86"
   },
   "source": [
    "### `orders` data frame\n",
    "\n",
    "Now let's fill in missing values from the `orders` table."
   ]
  },
  {
   "cell_type": "code",
   "execution_count": 19,
   "id": "93e41d96",
   "metadata": {
    "id": "93e41d96"
   },
   "outputs": [
    {
     "data": {
      "text/html": [
       "<div>\n",
       "<style scoped>\n",
       "    .dataframe tbody tr th:only-of-type {\n",
       "        vertical-align: middle;\n",
       "    }\n",
       "\n",
       "    .dataframe tbody tr th {\n",
       "        vertical-align: top;\n",
       "    }\n",
       "\n",
       "    .dataframe thead th {\n",
       "        text-align: right;\n",
       "    }\n",
       "</style>\n",
       "<table border=\"1\" class=\"dataframe\">\n",
       "  <thead>\n",
       "    <tr style=\"text-align: right;\">\n",
       "      <th></th>\n",
       "      <th>order_id</th>\n",
       "      <th>user_id</th>\n",
       "      <th>order_number</th>\n",
       "      <th>order_dow</th>\n",
       "      <th>order_hour_of_day</th>\n",
       "      <th>days_since_prior_order</th>\n",
       "    </tr>\n",
       "  </thead>\n",
       "  <tbody>\n",
       "    <tr>\n",
       "      <th>28</th>\n",
       "      <td>133707</td>\n",
       "      <td>182261</td>\n",
       "      <td>1</td>\n",
       "      <td>3</td>\n",
       "      <td>10</td>\n",
       "      <td>NaN</td>\n",
       "    </tr>\n",
       "    <tr>\n",
       "      <th>96</th>\n",
       "      <td>787445</td>\n",
       "      <td>25685</td>\n",
       "      <td>1</td>\n",
       "      <td>6</td>\n",
       "      <td>18</td>\n",
       "      <td>NaN</td>\n",
       "    </tr>\n",
       "    <tr>\n",
       "      <th>100</th>\n",
       "      <td>294410</td>\n",
       "      <td>111449</td>\n",
       "      <td>1</td>\n",
       "      <td>0</td>\n",
       "      <td>19</td>\n",
       "      <td>NaN</td>\n",
       "    </tr>\n",
       "    <tr>\n",
       "      <th>103</th>\n",
       "      <td>2869915</td>\n",
       "      <td>123958</td>\n",
       "      <td>1</td>\n",
       "      <td>4</td>\n",
       "      <td>16</td>\n",
       "      <td>NaN</td>\n",
       "    </tr>\n",
       "    <tr>\n",
       "      <th>104</th>\n",
       "      <td>2521921</td>\n",
       "      <td>42286</td>\n",
       "      <td>1</td>\n",
       "      <td>3</td>\n",
       "      <td>18</td>\n",
       "      <td>NaN</td>\n",
       "    </tr>\n",
       "    <tr>\n",
       "      <th>...</th>\n",
       "      <td>...</td>\n",
       "      <td>...</td>\n",
       "      <td>...</td>\n",
       "      <td>...</td>\n",
       "      <td>...</td>\n",
       "      <td>...</td>\n",
       "    </tr>\n",
       "    <tr>\n",
       "      <th>478895</th>\n",
       "      <td>2589657</td>\n",
       "      <td>205028</td>\n",
       "      <td>1</td>\n",
       "      <td>0</td>\n",
       "      <td>16</td>\n",
       "      <td>NaN</td>\n",
       "    </tr>\n",
       "    <tr>\n",
       "      <th>478896</th>\n",
       "      <td>2222353</td>\n",
       "      <td>141211</td>\n",
       "      <td>1</td>\n",
       "      <td>2</td>\n",
       "      <td>13</td>\n",
       "      <td>NaN</td>\n",
       "    </tr>\n",
       "    <tr>\n",
       "      <th>478922</th>\n",
       "      <td>2272807</td>\n",
       "      <td>204154</td>\n",
       "      <td>1</td>\n",
       "      <td>1</td>\n",
       "      <td>15</td>\n",
       "      <td>NaN</td>\n",
       "    </tr>\n",
       "    <tr>\n",
       "      <th>478926</th>\n",
       "      <td>2499542</td>\n",
       "      <td>68810</td>\n",
       "      <td>1</td>\n",
       "      <td>4</td>\n",
       "      <td>19</td>\n",
       "      <td>NaN</td>\n",
       "    </tr>\n",
       "    <tr>\n",
       "      <th>478945</th>\n",
       "      <td>1387033</td>\n",
       "      <td>22496</td>\n",
       "      <td>1</td>\n",
       "      <td>5</td>\n",
       "      <td>14</td>\n",
       "      <td>NaN</td>\n",
       "    </tr>\n",
       "  </tbody>\n",
       "</table>\n",
       "<p>28819 rows × 6 columns</p>\n",
       "</div>"
      ],
      "text/plain": [
       "        order_id  user_id  order_number  order_dow  order_hour_of_day  \\\n",
       "28        133707   182261             1          3                 10   \n",
       "96        787445    25685             1          6                 18   \n",
       "100       294410   111449             1          0                 19   \n",
       "103      2869915   123958             1          4                 16   \n",
       "104      2521921    42286             1          3                 18   \n",
       "...          ...      ...           ...        ...                ...   \n",
       "478895   2589657   205028             1          0                 16   \n",
       "478896   2222353   141211             1          2                 13   \n",
       "478922   2272807   204154             1          1                 15   \n",
       "478926   2499542    68810             1          4                 19   \n",
       "478945   1387033    22496             1          5                 14   \n",
       "\n",
       "        days_since_prior_order  \n",
       "28                         NaN  \n",
       "96                         NaN  \n",
       "100                        NaN  \n",
       "103                        NaN  \n",
       "104                        NaN  \n",
       "...                        ...  \n",
       "478895                     NaN  \n",
       "478896                     NaN  \n",
       "478922                     NaN  \n",
       "478926                     NaN  \n",
       "478945                     NaN  \n",
       "\n",
       "[28819 rows x 6 columns]"
      ]
     },
     "execution_count": 19,
     "metadata": {},
     "output_type": "execute_result"
    }
   ],
   "source": [
    "# Display rows where the days_since_prior_order column has missing values\n",
    "orders[orders['days_since_prior_order'].isna()]"
   ]
  },
  {
   "cell_type": "code",
   "execution_count": 20,
   "id": "166e5a86",
   "metadata": {
    "id": "166e5a86"
   },
   "outputs": [
    {
     "data": {
      "text/html": [
       "<div>\n",
       "<style scoped>\n",
       "    .dataframe tbody tr th:only-of-type {\n",
       "        vertical-align: middle;\n",
       "    }\n",
       "\n",
       "    .dataframe tbody tr th {\n",
       "        vertical-align: top;\n",
       "    }\n",
       "\n",
       "    .dataframe thead th {\n",
       "        text-align: right;\n",
       "    }\n",
       "</style>\n",
       "<table border=\"1\" class=\"dataframe\">\n",
       "  <thead>\n",
       "    <tr style=\"text-align: right;\">\n",
       "      <th></th>\n",
       "      <th>order_id</th>\n",
       "      <th>user_id</th>\n",
       "      <th>order_number</th>\n",
       "      <th>order_dow</th>\n",
       "      <th>order_hour_of_day</th>\n",
       "      <th>days_since_prior_order</th>\n",
       "    </tr>\n",
       "  </thead>\n",
       "  <tbody>\n",
       "  </tbody>\n",
       "</table>\n",
       "</div>"
      ],
      "text/plain": [
       "Empty DataFrame\n",
       "Columns: [order_id, user_id, order_number, order_dow, order_hour_of_day, days_since_prior_order]\n",
       "Index: []"
      ]
     },
     "execution_count": 20,
     "metadata": {},
     "output_type": "execute_result"
    }
   ],
   "source": [
    "# Are there any missing values where it's not a customer's first order?\n",
    "orders[(orders['days_since_prior_order'].isna()) & (orders['order_number'] != 1)]"
   ]
  },
  {
   "cell_type": "markdown",
   "id": "4e23d089",
   "metadata": {
    "id": "4e23d089"
   },
   "source": [
    "All of the missing `'days_since_prior_order'` values correspond to a customer's first ever order. This makes sense because there is no prior order! We'll leave the values as `NaN` so the column can remain numeric. Also, the `NaN` values shouldn't interfere with any calculations we might do using this column."
   ]
  },
  {
   "cell_type": "markdown",
   "id": "69dc9ca4",
   "metadata": {
    "id": "69dc9ca4"
   },
   "source": [
    "### `order_products` data frame\n",
    "\n",
    "Now let's fill in missing values from the order_products table."
   ]
  },
  {
   "cell_type": "code",
   "execution_count": 21,
   "id": "b8240253",
   "metadata": {
    "id": "b8240253"
   },
   "outputs": [
    {
     "data": {
      "text/html": [
       "<div>\n",
       "<style scoped>\n",
       "    .dataframe tbody tr th:only-of-type {\n",
       "        vertical-align: middle;\n",
       "    }\n",
       "\n",
       "    .dataframe tbody tr th {\n",
       "        vertical-align: top;\n",
       "    }\n",
       "\n",
       "    .dataframe thead th {\n",
       "        text-align: right;\n",
       "    }\n",
       "</style>\n",
       "<table border=\"1\" class=\"dataframe\">\n",
       "  <thead>\n",
       "    <tr style=\"text-align: right;\">\n",
       "      <th></th>\n",
       "      <th>order_id</th>\n",
       "      <th>product_id</th>\n",
       "      <th>add_to_cart_order</th>\n",
       "      <th>reordered</th>\n",
       "    </tr>\n",
       "  </thead>\n",
       "  <tbody>\n",
       "    <tr>\n",
       "      <th>737</th>\n",
       "      <td>2449164</td>\n",
       "      <td>5068</td>\n",
       "      <td>NaN</td>\n",
       "      <td>0</td>\n",
       "    </tr>\n",
       "    <tr>\n",
       "      <th>9926</th>\n",
       "      <td>1968313</td>\n",
       "      <td>43867</td>\n",
       "      <td>NaN</td>\n",
       "      <td>0</td>\n",
       "    </tr>\n",
       "    <tr>\n",
       "      <th>14394</th>\n",
       "      <td>2926893</td>\n",
       "      <td>11688</td>\n",
       "      <td>NaN</td>\n",
       "      <td>0</td>\n",
       "    </tr>\n",
       "    <tr>\n",
       "      <th>16418</th>\n",
       "      <td>1717990</td>\n",
       "      <td>4142</td>\n",
       "      <td>NaN</td>\n",
       "      <td>0</td>\n",
       "    </tr>\n",
       "    <tr>\n",
       "      <th>30114</th>\n",
       "      <td>1959075</td>\n",
       "      <td>42828</td>\n",
       "      <td>NaN</td>\n",
       "      <td>1</td>\n",
       "    </tr>\n",
       "    <tr>\n",
       "      <th>...</th>\n",
       "      <td>...</td>\n",
       "      <td>...</td>\n",
       "      <td>...</td>\n",
       "      <td>...</td>\n",
       "    </tr>\n",
       "    <tr>\n",
       "      <th>4505662</th>\n",
       "      <td>1800005</td>\n",
       "      <td>7411</td>\n",
       "      <td>NaN</td>\n",
       "      <td>0</td>\n",
       "    </tr>\n",
       "    <tr>\n",
       "      <th>4511400</th>\n",
       "      <td>1633337</td>\n",
       "      <td>260</td>\n",
       "      <td>NaN</td>\n",
       "      <td>0</td>\n",
       "    </tr>\n",
       "    <tr>\n",
       "      <th>4517562</th>\n",
       "      <td>404157</td>\n",
       "      <td>9517</td>\n",
       "      <td>NaN</td>\n",
       "      <td>0</td>\n",
       "    </tr>\n",
       "    <tr>\n",
       "      <th>4534112</th>\n",
       "      <td>1673227</td>\n",
       "      <td>17835</td>\n",
       "      <td>NaN</td>\n",
       "      <td>0</td>\n",
       "    </tr>\n",
       "    <tr>\n",
       "      <th>4535739</th>\n",
       "      <td>1832957</td>\n",
       "      <td>17949</td>\n",
       "      <td>NaN</td>\n",
       "      <td>1</td>\n",
       "    </tr>\n",
       "  </tbody>\n",
       "</table>\n",
       "<p>836 rows × 4 columns</p>\n",
       "</div>"
      ],
      "text/plain": [
       "         order_id  product_id  add_to_cart_order  reordered\n",
       "737       2449164        5068                NaN          0\n",
       "9926      1968313       43867                NaN          0\n",
       "14394     2926893       11688                NaN          0\n",
       "16418     1717990        4142                NaN          0\n",
       "30114     1959075       42828                NaN          1\n",
       "...           ...         ...                ...        ...\n",
       "4505662   1800005        7411                NaN          0\n",
       "4511400   1633337         260                NaN          0\n",
       "4517562    404157        9517                NaN          0\n",
       "4534112   1673227       17835                NaN          0\n",
       "4535739   1832957       17949                NaN          1\n",
       "\n",
       "[836 rows x 4 columns]"
      ]
     },
     "execution_count": 21,
     "metadata": {},
     "output_type": "execute_result"
    }
   ],
   "source": [
    "# Display rows where the add_to_cart_order column has missing values\n",
    "order_products[order_products['add_to_cart_order'].isna()]"
   ]
  },
  {
   "cell_type": "code",
   "execution_count": 22,
   "id": "9a78e5ee",
   "metadata": {
    "id": "9a78e5ee"
   },
   "outputs": [
    {
     "data": {
      "text/plain": [
       "1.0"
      ]
     },
     "execution_count": 22,
     "metadata": {},
     "output_type": "execute_result"
    }
   ],
   "source": [
    "# Use .min() and .max() to find the minimum and maximum values for this column.\n",
    "order_products['add_to_cart_order'].min() # minimum for add_to_cart_order"
   ]
  },
  {
   "cell_type": "code",
   "execution_count": 23,
   "id": "e7b70f6a",
   "metadata": {},
   "outputs": [
    {
     "data": {
      "text/plain": [
       "64.0"
      ]
     },
     "execution_count": 23,
     "metadata": {},
     "output_type": "execute_result"
    }
   ],
   "source": [
    "order_products['add_to_cart_order'].max() # maximum for add_to_cart_order"
   ]
  },
  {
   "cell_type": "code",
   "execution_count": 24,
   "id": "ab9d0c2b",
   "metadata": {
    "id": "ab9d0c2b"
   },
   "outputs": [
    {
     "data": {
      "text/plain": [
       "array([2449164, 1968313, 2926893, 1717990, 1959075,  844733,   61355,\n",
       "        936852,  264710, 1564093,  129627,  293169, 2849370, 1386261,\n",
       "       3308010,  903110, 2136777, 3347453, 1888628,  165801, 2094761,\n",
       "       1038146, 2997021,  813364, 2256933,  171934, 2409109, 1730767,\n",
       "       1169835,  733526,  404157, 3125735,  747668, 1800005, 1961723,\n",
       "        871281,  388234, 1648217, 1477139,  102236, 1021563, 1832957,\n",
       "       2721963,  678116, 1220886, 1673227, 2999801, 1633337, 2470674,\n",
       "       2625444, 1677118, 2479011, 3383594, 1183255, 1713430, 2652650,\n",
       "       1598369, 1916118,  854647, 1302315,  888470,  180546, 2621907,\n",
       "       1308785, 2729254,    9310, 2170451, 2979697, 1625713, 1529171])"
      ]
     },
     "execution_count": 24,
     "metadata": {},
     "output_type": "execute_result"
    }
   ],
   "source": [
    "# Save all order IDs with at least one missing value in 'add_to_cart_order'\n",
    "add_to_cart_order = order_products[order_products['add_to_cart_order'].isna()]['order_id'].unique()\n",
    "add_to_cart_order"
   ]
  },
  {
   "cell_type": "code",
   "execution_count": 25,
   "id": "54c31695",
   "metadata": {
    "id": "54c31695"
   },
   "outputs": [
    {
     "data": {
      "text/plain": [
       "65"
      ]
     },
     "execution_count": 25,
     "metadata": {},
     "output_type": "execute_result"
    }
   ],
   "source": [
    "# Do all orders with missing values have more than 64 products?\n",
    "order_products[order_products['order_id'].isin(add_to_cart_order)].groupby('order_id').size().min()"
   ]
  },
  {
   "cell_type": "code",
   "execution_count": 26,
   "id": "7a987d08",
   "metadata": {
    "id": "7a987d08"
   },
   "outputs": [
    {
     "name": "stdout",
     "output_type": "stream",
     "text": [
      "<class 'pandas.core.frame.DataFrame'>\n",
      "RangeIndex: 4545007 entries, 0 to 4545006\n",
      "Data columns (total 4 columns):\n",
      " #   Column             Dtype\n",
      "---  ------             -----\n",
      " 0   order_id           int64\n",
      " 1   product_id         int64\n",
      " 2   add_to_cart_order  int64\n",
      " 3   reordered          int64\n",
      "dtypes: int64(4)\n",
      "memory usage: 138.7 MB\n"
     ]
    }
   ],
   "source": [
    "# Replace missing values with 999 and convert column to integer type\n",
    "order_products['add_to_cart_order'].fillna(999, inplace=True)\n",
    "order_products['add_to_cart_order'] = order_products['add_to_cart_order'].astype('int')\n",
    "order_products.info()"
   ]
  },
  {
   "cell_type": "markdown",
   "id": "fea4bcc7",
   "metadata": {
    "id": "fea4bcc7"
   },
   "source": [
    "For some reason, any item placed in the cart 65th or later has a missing value in the `'add_to_cart_order'` column. Maybe the data type of that column in the database could only hold integer values from 1 to 64. We've decided to replace the missing values with a code value, 999, that represents an unknown placed in cart order above 64. We also converted the column to integer data type. We just need to be careful to remember this if we perform calculations using this column during our analysis.\n",
    "\n",
    "Other sensible code values we could've used are 0 or -1 because they don't show up elsewhere in the dataset and they don't have any real physical meaning for this variable.\n",
    "\n",
    "Also note that, for orders with exactly 65 items, we could replace the missing value with 65. But we're going to neglect that for now since we can't determine the 65th item for all orders with 66 items or more."
   ]
  },
  {
   "cell_type": "markdown",
   "id": "07357848-dc64-4156-9cc3-01ff4365226d",
   "metadata": {
    "id": "07357848-dc64-4156-9cc3-01ff4365226d"
   },
   "source": [
    "## Find and Remove Duplicate Values from All the Datasets\n",
    "\n",
    "Each dataset may contain duplicate rows, which can lead to redundancy and affect the accuracy of our analysis. To handle this:\n",
    "\n",
    "1. Use the `.duplicated()` method to identify duplicate rows. This method returns a Boolean series where `True` indicates a duplicate row.\n",
    "2. Apply the `.drop_duplicates()` method to remove these duplicate rows, ensuring a cleaner dataset.\n",
    "3. Optionally, you can set the `keep` parameter in `.drop_duplicates()` to specify which duplicate to retain (`'first'` or `'last'`).\n",
    "\n",
    "Here is some example code for reference:\n",
    "```python\n",
    "# Check for duplicates\n",
    "print(dataset.duplicated().sum())  # Number of duplicate rows\n",
    "\n",
    "# View duplicate rows\n",
    "print(dataset[dataset.duplicated()]\n",
    "\n",
    "# Remove duplicates\n",
    "dataset = dataset.drop_duplicates().reset_index(drop=True)\n",
    "\n",
    "# Confirm removal\n",
    "print(dataset.duplicated().sum())  # Should return 0\n",
    "```\n",
    "\n",
    "Repeat this process for all datasets to ensure they are free of duplicate rows."
   ]
  },
  {
   "cell_type": "markdown",
   "id": "f179f0a9",
   "metadata": {
    "id": "f179f0a9"
   },
   "source": [
    "### `orders` data frame"
   ]
  },
  {
   "cell_type": "code",
   "execution_count": 27,
   "id": "bb1a8c31-0a95-487a-98fc-c040228245f6",
   "metadata": {
    "id": "bb1a8c31-0a95-487a-98fc-c040228245f6"
   },
   "outputs": [
    {
     "data": {
      "text/plain": [
       "order_id                  15\n",
       "user_id                   15\n",
       "order_number              15\n",
       "order_dow                 15\n",
       "order_hour_of_day         15\n",
       "days_since_prior_order    13\n",
       "dtype: int64"
      ]
     },
     "execution_count": 27,
     "metadata": {},
     "output_type": "execute_result"
    }
   ],
   "source": [
    "# Find the number of duplicate rows in the orders dataframe\n",
    "orders[orders.duplicated()].count()"
   ]
  },
  {
   "cell_type": "code",
   "execution_count": 28,
   "id": "b99297a5-405a-463d-8535-9adc3da4ad74",
   "metadata": {
    "id": "b99297a5-405a-463d-8535-9adc3da4ad74"
   },
   "outputs": [
    {
     "data": {
      "text/html": [
       "<div>\n",
       "<style scoped>\n",
       "    .dataframe tbody tr th:only-of-type {\n",
       "        vertical-align: middle;\n",
       "    }\n",
       "\n",
       "    .dataframe tbody tr th {\n",
       "        vertical-align: top;\n",
       "    }\n",
       "\n",
       "    .dataframe thead th {\n",
       "        text-align: right;\n",
       "    }\n",
       "</style>\n",
       "<table border=\"1\" class=\"dataframe\">\n",
       "  <thead>\n",
       "    <tr style=\"text-align: right;\">\n",
       "      <th></th>\n",
       "      <th>order_id</th>\n",
       "      <th>user_id</th>\n",
       "      <th>order_number</th>\n",
       "      <th>order_dow</th>\n",
       "      <th>order_hour_of_day</th>\n",
       "      <th>days_since_prior_order</th>\n",
       "    </tr>\n",
       "  </thead>\n",
       "  <tbody>\n",
       "    <tr>\n",
       "      <th>145574</th>\n",
       "      <td>794638</td>\n",
       "      <td>50898</td>\n",
       "      <td>24</td>\n",
       "      <td>3</td>\n",
       "      <td>2</td>\n",
       "      <td>2.0</td>\n",
       "    </tr>\n",
       "    <tr>\n",
       "      <th>223105</th>\n",
       "      <td>2160484</td>\n",
       "      <td>107525</td>\n",
       "      <td>16</td>\n",
       "      <td>3</td>\n",
       "      <td>2</td>\n",
       "      <td>30.0</td>\n",
       "    </tr>\n",
       "    <tr>\n",
       "      <th>230807</th>\n",
       "      <td>1918001</td>\n",
       "      <td>188546</td>\n",
       "      <td>14</td>\n",
       "      <td>3</td>\n",
       "      <td>2</td>\n",
       "      <td>16.0</td>\n",
       "    </tr>\n",
       "    <tr>\n",
       "      <th>266232</th>\n",
       "      <td>1782114</td>\n",
       "      <td>106752</td>\n",
       "      <td>1</td>\n",
       "      <td>3</td>\n",
       "      <td>2</td>\n",
       "      <td>NaN</td>\n",
       "    </tr>\n",
       "    <tr>\n",
       "      <th>273805</th>\n",
       "      <td>1112182</td>\n",
       "      <td>202304</td>\n",
       "      <td>84</td>\n",
       "      <td>3</td>\n",
       "      <td>2</td>\n",
       "      <td>6.0</td>\n",
       "    </tr>\n",
       "    <tr>\n",
       "      <th>284038</th>\n",
       "      <td>2845099</td>\n",
       "      <td>31189</td>\n",
       "      <td>11</td>\n",
       "      <td>3</td>\n",
       "      <td>2</td>\n",
       "      <td>7.0</td>\n",
       "    </tr>\n",
       "    <tr>\n",
       "      <th>311713</th>\n",
       "      <td>1021560</td>\n",
       "      <td>53767</td>\n",
       "      <td>3</td>\n",
       "      <td>3</td>\n",
       "      <td>2</td>\n",
       "      <td>9.0</td>\n",
       "    </tr>\n",
       "    <tr>\n",
       "      <th>321100</th>\n",
       "      <td>408114</td>\n",
       "      <td>68324</td>\n",
       "      <td>4</td>\n",
       "      <td>3</td>\n",
       "      <td>2</td>\n",
       "      <td>18.0</td>\n",
       "    </tr>\n",
       "    <tr>\n",
       "      <th>323900</th>\n",
       "      <td>1919531</td>\n",
       "      <td>191501</td>\n",
       "      <td>32</td>\n",
       "      <td>3</td>\n",
       "      <td>2</td>\n",
       "      <td>7.0</td>\n",
       "    </tr>\n",
       "    <tr>\n",
       "      <th>345917</th>\n",
       "      <td>2232988</td>\n",
       "      <td>82565</td>\n",
       "      <td>1</td>\n",
       "      <td>3</td>\n",
       "      <td>2</td>\n",
       "      <td>NaN</td>\n",
       "    </tr>\n",
       "    <tr>\n",
       "      <th>371905</th>\n",
       "      <td>391768</td>\n",
       "      <td>57671</td>\n",
       "      <td>19</td>\n",
       "      <td>3</td>\n",
       "      <td>2</td>\n",
       "      <td>10.0</td>\n",
       "    </tr>\n",
       "    <tr>\n",
       "      <th>394347</th>\n",
       "      <td>467134</td>\n",
       "      <td>63189</td>\n",
       "      <td>21</td>\n",
       "      <td>3</td>\n",
       "      <td>2</td>\n",
       "      <td>2.0</td>\n",
       "    </tr>\n",
       "    <tr>\n",
       "      <th>411408</th>\n",
       "      <td>1286742</td>\n",
       "      <td>183220</td>\n",
       "      <td>48</td>\n",
       "      <td>3</td>\n",
       "      <td>2</td>\n",
       "      <td>4.0</td>\n",
       "    </tr>\n",
       "    <tr>\n",
       "      <th>415163</th>\n",
       "      <td>2282673</td>\n",
       "      <td>86751</td>\n",
       "      <td>49</td>\n",
       "      <td>3</td>\n",
       "      <td>2</td>\n",
       "      <td>2.0</td>\n",
       "    </tr>\n",
       "    <tr>\n",
       "      <th>441599</th>\n",
       "      <td>2125197</td>\n",
       "      <td>14050</td>\n",
       "      <td>48</td>\n",
       "      <td>3</td>\n",
       "      <td>2</td>\n",
       "      <td>3.0</td>\n",
       "    </tr>\n",
       "  </tbody>\n",
       "</table>\n",
       "</div>"
      ],
      "text/plain": [
       "        order_id  user_id  order_number  order_dow  order_hour_of_day  \\\n",
       "145574    794638    50898            24          3                  2   \n",
       "223105   2160484   107525            16          3                  2   \n",
       "230807   1918001   188546            14          3                  2   \n",
       "266232   1782114   106752             1          3                  2   \n",
       "273805   1112182   202304            84          3                  2   \n",
       "284038   2845099    31189            11          3                  2   \n",
       "311713   1021560    53767             3          3                  2   \n",
       "321100    408114    68324             4          3                  2   \n",
       "323900   1919531   191501            32          3                  2   \n",
       "345917   2232988    82565             1          3                  2   \n",
       "371905    391768    57671            19          3                  2   \n",
       "394347    467134    63189            21          3                  2   \n",
       "411408   1286742   183220            48          3                  2   \n",
       "415163   2282673    86751            49          3                  2   \n",
       "441599   2125197    14050            48          3                  2   \n",
       "\n",
       "        days_since_prior_order  \n",
       "145574                     2.0  \n",
       "223105                    30.0  \n",
       "230807                    16.0  \n",
       "266232                     NaN  \n",
       "273805                     6.0  \n",
       "284038                     7.0  \n",
       "311713                     9.0  \n",
       "321100                    18.0  \n",
       "323900                     7.0  \n",
       "345917                     NaN  \n",
       "371905                    10.0  \n",
       "394347                     2.0  \n",
       "411408                     4.0  \n",
       "415163                     2.0  \n",
       "441599                     3.0  "
      ]
     },
     "execution_count": 28,
     "metadata": {},
     "output_type": "execute_result"
    }
   ],
   "source": [
    "# View the duplicate rows\n",
    "orders[orders.duplicated()]"
   ]
  },
  {
   "cell_type": "code",
   "execution_count": 29,
   "id": "480563c7",
   "metadata": {
    "id": "480563c7"
   },
   "outputs": [],
   "source": [
    "# Remove duplicate orders\n",
    "orders = orders.drop_duplicates()"
   ]
  },
  {
   "cell_type": "code",
   "execution_count": 30,
   "id": "0b2396a2",
   "metadata": {
    "id": "0b2396a2"
   },
   "outputs": [
    {
     "data": {
      "text/plain": [
       "0"
      ]
     },
     "execution_count": 30,
     "metadata": {},
     "output_type": "execute_result"
    }
   ],
   "source": [
    "# Double check for duplicate rows\n",
    "orders.duplicated().sum()"
   ]
  },
  {
   "cell_type": "markdown",
   "id": "45e6bc46",
   "metadata": {
    "id": "45e6bc46"
   },
   "source": [
    "### `products` data frame"
   ]
  },
  {
   "cell_type": "code",
   "execution_count": 31,
   "id": "5f526b5b-8175-46fa-a0fd-441767d50e64",
   "metadata": {
    "id": "5f526b5b-8175-46fa-a0fd-441767d50e64"
   },
   "outputs": [
    {
     "name": "stdout",
     "output_type": "stream",
     "text": [
      "Number of duplicate rows: 0\n"
     ]
    }
   ],
   "source": [
    "# Check for fully duplicate rows\n",
    "duplicate_rows = products.duplicated().sum()\n",
    "print(f\"Number of duplicate rows: {duplicate_rows}\")"
   ]
  },
  {
   "cell_type": "code",
   "execution_count": 32,
   "id": "88daa4f4",
   "metadata": {
    "id": "88daa4f4"
   },
   "outputs": [
    {
     "data": {
      "text/plain": [
       "0"
      ]
     },
     "execution_count": 32,
     "metadata": {},
     "output_type": "execute_result"
    }
   ],
   "source": [
    "# Check for just duplicate product IDs using subset='product_id' in duplicated()\n",
    "products.duplicated(subset='product_id').sum()"
   ]
  },
  {
   "cell_type": "markdown",
   "id": "03c82be5-3463-4adb-a5eb-1755f011faa0",
   "metadata": {
    "id": "03c82be5-3463-4adb-a5eb-1755f011faa0"
   },
   "source": [
    "Hint: To identify duplicate product names more effectively, convert the names to lowercase for consistent comparison. Use the .str.lower() method on the product_name column to standardize the text before checking for duplicates."
   ]
  },
  {
   "cell_type": "code",
   "execution_count": 33,
   "id": "c773f0bf",
   "metadata": {
    "id": "c773f0bf"
   },
   "outputs": [
    {
     "data": {
      "text/plain": [
       "1361"
      ]
     },
     "execution_count": 33,
     "metadata": {},
     "output_type": "execute_result"
    }
   ],
   "source": [
    "# Check for just duplicate product names (convert names to lowercase to compare better)\n",
    "products['product_name'].str.lower().duplicated().sum()"
   ]
  },
  {
   "cell_type": "markdown",
   "id": "c502f00b-979b-4f6a-9457-569f412e1183",
   "metadata": {
    "id": "c502f00b-979b-4f6a-9457-569f412e1183"
   },
   "source": [
    "Let's see what that looks like in our dataset :"
   ]
  },
  {
   "cell_type": "code",
   "execution_count": 34,
   "id": "515b21b1-f458-4428-ba10-2820fef6158d",
   "metadata": {
    "id": "515b21b1-f458-4428-ba10-2820fef6158d"
   },
   "outputs": [
    {
     "data": {
      "text/html": [
       "<div>\n",
       "<style scoped>\n",
       "    .dataframe tbody tr th:only-of-type {\n",
       "        vertical-align: middle;\n",
       "    }\n",
       "\n",
       "    .dataframe tbody tr th {\n",
       "        vertical-align: top;\n",
       "    }\n",
       "\n",
       "    .dataframe thead th {\n",
       "        text-align: right;\n",
       "    }\n",
       "</style>\n",
       "<table border=\"1\" class=\"dataframe\">\n",
       "  <thead>\n",
       "    <tr style=\"text-align: right;\">\n",
       "      <th></th>\n",
       "      <th>product_id</th>\n",
       "      <th>product_name</th>\n",
       "      <th>aisle_id</th>\n",
       "      <th>department_id</th>\n",
       "    </tr>\n",
       "  </thead>\n",
       "  <tbody>\n",
       "    <tr>\n",
       "      <th>22540</th>\n",
       "      <td>22541</td>\n",
       "      <td>High Performance Energy Drink</td>\n",
       "      <td>64</td>\n",
       "      <td>7</td>\n",
       "    </tr>\n",
       "    <tr>\n",
       "      <th>49689</th>\n",
       "      <td>49690</td>\n",
       "      <td>HIGH PERFORMANCE ENERGY DRINK</td>\n",
       "      <td>64</td>\n",
       "      <td>7</td>\n",
       "    </tr>\n",
       "  </tbody>\n",
       "</table>\n",
       "</div>"
      ],
      "text/plain": [
       "       product_id                   product_name  aisle_id  department_id\n",
       "22540       22541  High Performance Energy Drink        64              7\n",
       "49689       49690  HIGH PERFORMANCE ENERGY DRINK        64              7"
      ]
     },
     "execution_count": 34,
     "metadata": {},
     "output_type": "execute_result"
    }
   ],
   "source": [
    "products[products['product_name'].str.lower() == 'high performance energy drink']"
   ]
  },
  {
   "cell_type": "code",
   "execution_count": 35,
   "id": "51a0e65f-2c0d-42f7-98d6-fd962a599a18",
   "metadata": {
    "id": "51a0e65f-2c0d-42f7-98d6-fd962a599a18"
   },
   "outputs": [
    {
     "data": {
      "text/plain": [
       "104"
      ]
     },
     "execution_count": 35,
     "metadata": {},
     "output_type": "execute_result"
    }
   ],
   "source": [
    "# Drop duplicate product names (case insensitive)\n",
    "products = products.drop_duplicates(subset='product_name').reset_index(drop=True)\n",
    "products['product_name'].str.lower().duplicated().sum()"
   ]
  },
  {
   "cell_type": "markdown",
   "id": "60f30db1",
   "metadata": {
    "id": "60f30db1"
   },
   "source": [
    "### `departments` data frame"
   ]
  },
  {
   "cell_type": "code",
   "execution_count": 36,
   "id": "fb410ad4-0fbf-4b80-bb09-23fdea79afe3",
   "metadata": {
    "id": "fb410ad4-0fbf-4b80-bb09-23fdea79afe3"
   },
   "outputs": [
    {
     "data": {
      "text/plain": [
       "0"
      ]
     },
     "execution_count": 36,
     "metadata": {},
     "output_type": "execute_result"
    }
   ],
   "source": [
    "# Check for duplicate entries in the departments dataframe\n",
    "# departments[departments.duplicated()]\n",
    "departments.duplicated().sum()"
   ]
  },
  {
   "cell_type": "markdown",
   "id": "889349c1",
   "metadata": {
    "id": "889349c1"
   },
   "source": [
    "### `aisles` data frame"
   ]
  },
  {
   "cell_type": "code",
   "execution_count": 37,
   "id": "9da89fb9-4679-40f5-ad0d-c34df753a3f8",
   "metadata": {
    "id": "9da89fb9-4679-40f5-ad0d-c34df753a3f8"
   },
   "outputs": [
    {
     "data": {
      "text/plain": [
       "0"
      ]
     },
     "execution_count": 37,
     "metadata": {},
     "output_type": "execute_result"
    }
   ],
   "source": [
    "# Check for aisles entries in the departments dataframe\n",
    "aisles.duplicated().sum()"
   ]
  },
  {
   "cell_type": "markdown",
   "id": "274cd06a",
   "metadata": {
    "id": "274cd06a"
   },
   "source": [
    "### `order_products` data frame"
   ]
  },
  {
   "cell_type": "code",
   "execution_count": 38,
   "id": "52326689-84a8-4b8f-a881-7c68780f62c9",
   "metadata": {
    "id": "52326689-84a8-4b8f-a881-7c68780f62c9"
   },
   "outputs": [
    {
     "data": {
      "text/plain": [
       "0"
      ]
     },
     "execution_count": 38,
     "metadata": {},
     "output_type": "execute_result"
    }
   ],
   "source": [
    "# Check for duplicate entries in the order_products dataframe\n",
    "order_products.duplicated().sum()"
   ]
  },
  {
   "cell_type": "markdown",
   "id": "e5952f1b-3a4a-4144-a58e-77d72e1ed599",
   "metadata": {
    "id": "e5952f1b-3a4a-4144-a58e-77d72e1ed599"
   },
   "source": [
    "We have now successfully cleaned our data. Let's begin our exploratory data analysis."
   ]
  },
  {
   "cell_type": "markdown",
   "id": "turkish-kidney",
   "metadata": {
    "id": "turkish-kidney"
   },
   "source": [
    "# [A] Easy (must complete all to pass)"
   ]
  },
  {
   "cell_type": "markdown",
   "id": "short-capability",
   "metadata": {
    "id": "short-capability"
   },
   "source": [
    "### [A1] Verify that the `'order_hour_of_day'` and `'order_dow'` values in the `orders` tables are sensible (i.e. `'order_hour_of_day'` ranges from 0 to 23 and `'order_dow'` ranges from 0 to 6)\n",
    "\n",
    "To verify that the values in the `order_hour_of_day` and `order_dow` columns are sensible:\n",
    "\n",
    "1. **Check unique values**: Use `.unique()` on each column to extract all distinct values present.\n",
    "2. **Sort the results**: Use `sorted()` to arrange the unique values in ascending order for easier verification.\n",
    "3. **Validate ranges**:\n",
    "   - Ensure `order_hour_of_day` values range from 0 to 23 (representing hours of the day).\n",
    "   - Ensure `order_dow` values range from 0 to 6 (representing days of the week).\n",
    "\n",
    "This process confirms that the data aligns with expected ranges and there are no out-of-bound or invalid entries."
   ]
  },
  {
   "cell_type": "code",
   "execution_count": 39,
   "id": "growing-fruit",
   "metadata": {
    "id": "growing-fruit"
   },
   "outputs": [
    {
     "data": {
      "text/plain": [
       "array([13, 12, 19, 20, 11,  8, 18, 15, 16,  9, 22, 10,  0, 14, 17,  1,  7,\n",
       "        6,  2, 21,  3, 23,  5,  4])"
      ]
     },
     "execution_count": 39,
     "metadata": {},
     "output_type": "execute_result"
    }
   ],
   "source": [
    "#check the .unique() order_hour_of_day'\n",
    "orders['order_hour_of_day'].unique()"
   ]
  },
  {
   "cell_type": "code",
   "execution_count": 40,
   "id": "dab59d03",
   "metadata": {},
   "outputs": [
    {
     "data": {
      "text/plain": [
       "array([6, 5, 0, 4, 3, 1, 2])"
      ]
     },
     "execution_count": 40,
     "metadata": {},
     "output_type": "execute_result"
    }
   ],
   "source": [
    "#check the .unique() order_dow'\n",
    "orders['order_dow'].unique()"
   ]
  },
  {
   "cell_type": "code",
   "execution_count": 41,
   "id": "accessory-malaysia",
   "metadata": {
    "id": "accessory-malaysia"
   },
   "outputs": [],
   "source": [
    "# sort the results for hour of days\n",
    "sorted_unique_hour_of_day = sorted(orders['order_hour_of_day'].unique())\n",
    "# sorted_unique_hour_of_day"
   ]
  },
  {
   "cell_type": "code",
   "execution_count": 42,
   "id": "9d845cf8",
   "metadata": {},
   "outputs": [],
   "source": [
    "# sort the results for order dow\n",
    "sorted_unique_order_dow = sorted(orders['order_dow'].unique())\n",
    "# sorted_unique_order_dow"
   ]
  },
  {
   "cell_type": "code",
   "execution_count": 43,
   "id": "763facae",
   "metadata": {},
   "outputs": [
    {
     "name": "stdout",
     "output_type": "stream",
     "text": [
      "Hour of day values range from 0 to 23\n"
     ]
    }
   ],
   "source": [
    "# Validating the ranges for order hour of day\n",
    "print(f\"Hour of day values range from {min(sorted_unique_hour_of_day)} to {max(sorted_unique_hour_of_day)}\")"
   ]
  },
  {
   "cell_type": "code",
   "execution_count": 44,
   "id": "272cfc44",
   "metadata": {},
   "outputs": [
    {
     "name": "stdout",
     "output_type": "stream",
     "text": [
      "Days of week values range from 0 to 6\n"
     ]
    }
   ],
   "source": [
    "# Validating the ranges for order dow\n",
    "print(f\"Days of week values range from {min(sorted_unique_order_dow)} to {max(sorted_unique_order_dow)}\")"
   ]
  },
  {
   "cell_type": "markdown",
   "id": "a6743a70",
   "metadata": {
    "id": "a6743a70"
   },
   "source": [
    "### [A2] What time of day do people shop for groceries?\n",
    "\n",
    "To determine the time of day people shop for groceries, analyze the order_hour_of_day column in the orders dataset. Use .value_counts() to count the number of orders placed at each hour, and then sort the results by the hour for a clear chronological order.\n",
    "\n",
    "Finally, visualize the data with a bar plot to easily observe the shopping trends across different times of the day."
   ]
  },
  {
   "cell_type": "code",
   "execution_count": 45,
   "id": "a36cca27",
   "metadata": {
    "id": "a36cca27"
   },
   "outputs": [
    {
     "data": {
      "image/png": "[encoded data removed]",
      "text/plain": [
       "<Figure size 1200x600 with 1 Axes>"
      ]
     },
     "metadata": {},
     "output_type": "display_data"
    }
   ],
   "source": [
    "# orders['order_hour_of_day'].value_counts()\n",
    "hourly_orders = orders['order_hour_of_day'].value_counts().sort_index()\n",
    "\n",
    "# Visualization for Orders by Hour of Day\n",
    "hourly_orders.plot(\n",
    "    kind = 'bar',\n",
    "    figsize = (12,6),\n",
    "    title = 'Distribution of Orders by Hour of Day',\n",
    "    color = 'mediumseagreen',\n",
    ")\n",
    "plt.grid(True, axis = 'y')\n",
    "plt.xticks(rotation = 0)\n",
    "plt.xlabel('Hour of Day (0-23)',labelpad=15 , size=14, weight='bold')\n",
    "plt.ylabel('Number of Orders',labelpad=15 , size=14, weight='bold')\n",
    "plt.title('Distribution of Orders by Hour of Day', size=16, weight='bold')\n",
    "plt.tight_layout()\n",
    "\n",
    "plt.show()"
   ]
  },
  {
   "cell_type": "markdown",
   "id": "11270eed",
   "metadata": {
    "id": "11270eed"
   },
   "source": [
    "Most orders occur between 9:00 AM and 5:00 PM, with peaks at 10:00 AM and 3:00 PM"
   ]
  },
  {
   "cell_type": "markdown",
   "id": "documented-command",
   "metadata": {
    "id": "documented-command"
   },
   "source": [
    "### [A3] What day of the week do people shop for groceries?\n",
    "\n",
    "To figure out what day of the week people shop for groceries, analyze the order_dow column in the orders dataset. Use .value_counts() to count the number of orders for each day of the week, and then sort the results by the day index to maintain the correct order.\n",
    "\n",
    "Visualize the data with a bar plot to clearly observe shopping patterns across the days of the week."
   ]
  },
  {
   "cell_type": "code",
   "execution_count": 46,
   "id": "chief-digit",
   "metadata": {
    "id": "chief-digit"
   },
   "outputs": [
    {
     "data": {
      "image/png": "[encoded data removed]",
      "text/plain": [
       "<Figure size 1000x600 with 1 Axes>"
      ]
     },
     "metadata": {},
     "output_type": "display_data"
    }
   ],
   "source": [
    "week_orders = orders['order_dow'].value_counts().sort_index()\n",
    "week_orders.plot(\n",
    "    kind = 'bar',\n",
    "    color = '#4FB0C6', #color teal\n",
    "    figsize = (10,6),\n",
    ")\n",
    "plt.grid(True, axis = 'y')\n",
    "plt.xticks(rotation = 0)\n",
    "plt.xlabel('Day of Week(0-6)', size=14,labelpad=15, weight='bold')\n",
    "plt.ylabel('Number of Orders', size=14,labelpad=15, weight='bold')\n",
    "plt.title('Distribution of Orders by Day of Week', size=16, weight='bold')\n",
    "plt.tight_layout()\n",
    "plt.show()"
   ]
  },
  {
   "cell_type": "markdown",
   "id": "dominant-lightning",
   "metadata": {
    "id": "dominant-lightning"
   },
   "source": [
    "The data dictionary does not state which integer corresponds to which day of the week. Assuming Sunday = 0, then people place more orders at the beginning of the week (Sunday and Monday)."
   ]
  },
  {
   "cell_type": "markdown",
   "id": "cutting-concert",
   "metadata": {
    "id": "cutting-concert"
   },
   "source": [
    "### [A4] How long do people wait until placing another order?\n",
    "\n",
    "To understand how long people wait before placing another order, analyze the days_since_prior_order column in the orders dataset. Use .value_counts() to count how many orders were placed for each interval of days, then sort the results by the number of days for clarity.\n",
    "\n",
    "Visualize the data using a bar plot to observe patterns in ordering frequency over time."
   ]
  },
  {
   "cell_type": "code",
   "execution_count": 47,
   "id": "81fb36d5-e46a-4f1f-90fa-1bd46a363006",
   "metadata": {
    "id": "c231f523"
   },
   "outputs": [
    {
     "data": {
      "image/png": "[encoded data removed]",
      "text/plain": [
       "<Figure size 1200x600 with 1 Axes>"
      ]
     },
     "metadata": {},
     "output_type": "display_data"
    }
   ],
   "source": [
    "# median_value = orders['days_since_prior_order'].median()\n",
    "# orders.loc[orders['days_since_prior_order'].isna().index]['days_since_prior_order']=median_value\n",
    "\n",
    "# Setting Prior Order & Sorting Value\n",
    "prior_order = orders['days_since_prior_order'].value_counts().sort_index()\n",
    "prior_order.index = prior_order.index.astype(int) #Changing the index value from float to int\n",
    "\n",
    "# Plot\n",
    "prior_order.plot(\n",
    "    kind = 'bar',\n",
    "    color = '#FFCC99', #color teal\n",
    "    figsize = (12,6),\n",
    ")\n",
    "plt.grid(True, axis = 'y')\n",
    "plt.xticks(rotation = 0)\n",
    "plt.xlabel('Days Since Prior Order', size=14,labelpad=15, weight='bold')\n",
    "plt.ylabel('Number of Orders Placed', size=14,labelpad=15, weight='bold')\n",
    "plt.title('Customer Reorder Frequency by Days Since Prior Order', size=16, weight='bold')\n",
    "plt.tight_layout()\n",
    "plt.show()"
   ]
  },
  {
   "cell_type": "markdown",
   "id": "discrete-vertex",
   "metadata": {
    "id": "discrete-vertex"
   },
   "source": [
    "The 0 values probably correspond to customers who placed more than one order on the same day.\n",
    "\n",
    "The max value of 30 days and the high spike at that value is puzzling though. The spike might be explained by people who set up recurring subscriptions to automatically order once a month. But that doesn't explain why there are no values above 30 days. I would expect many customers to place orders less often than once a month. Maybe those customers were intentionally excluded from the dataset."
   ]
  },
  {
   "cell_type": "markdown",
   "id": "8d926614",
   "metadata": {
    "id": "8d926614"
   },
   "source": [
    "Disregarding the spike at 30 days, most people wait between 2 to 10 days in between orders. The most common wait time is 7 days. In other words, it's common for people to place weekly grocery orders. Interestingly, in the tail of the distribution we also see small spikes at 14, 21, and 28 days. These would correspond to orders every 2, 3, or 4 weeks."
   ]
  },
  {
   "cell_type": "markdown",
   "id": "tight-staff",
   "metadata": {
    "id": "tight-staff"
   },
   "source": [
    "# [B] Medium (must complete all to pass)"
   ]
  },
  {
   "cell_type": "markdown",
   "id": "packed-classic",
   "metadata": {
    "id": "packed-classic"
   },
   "source": [
    "### [B1] Is there a difference in `'order_hour_of_day'` distributions on Wednesdays and Saturdays? Plot the histograms for both days and describe the differences that you see.\n",
    "\n",
    "To determine if there’s a difference in the `order_hour_of_day` distributions on Wednesdays and Saturdays, follow these steps:\n",
    "\n",
    "1. **Create masks** for Wednesday (`order_dow == 3`) and Saturday (`order_dow == 6`) to filter the orders data.\n",
    "2. **Count the order hours** for each day using `.value_counts()` and sort them by hour with `.sort_index()` for clarity.\n",
    "3. **Combine the counts** for both days into a single DataFrame using `pd.concat()`, and label the columns for easier interpretation.\n",
    "\n",
    "After preparing the data, plot histograms for both days to visually compare the distribution of order times. Look for patterns such as peaks or differences in the busiest times."
   ]
  },
  {
   "cell_type": "code",
   "execution_count": 48,
   "id": "d89b8403",
   "metadata": {
    "id": "d89b8403"
   },
   "outputs": [],
   "source": [
    "# Filter data for Wednesday (order_dow == 3) and Saturday (order_dow == 6)\n",
    "wednesday = orders[(orders['order_dow'] == 3)]\n",
    "saturday = orders[(orders['order_dow'] == 6)]"
   ]
  },
  {
   "cell_type": "code",
   "execution_count": 49,
   "id": "94e54e8a",
   "metadata": {
    "id": "94e54e8a"
   },
   "outputs": [],
   "source": [
    "# Extract the order_hour_of_day for each\n",
    "wednesday_hours = wednesday['order_hour_of_day'].value_counts().sort_index()\n",
    "saturday_hours = saturday['order_hour_of_day'].value_counts().sort_index()"
   ]
  },
  {
   "cell_type": "code",
   "execution_count": 50,
   "id": "797c90a8",
   "metadata": {
    "id": "797c90a8"
   },
   "outputs": [],
   "source": [
    "#Combine the counts\n",
    "combined_counts = pd.concat([wednesday_hours, saturday_hours], axis=1)"
   ]
  },
  {
   "cell_type": "code",
   "execution_count": 51,
   "id": "35bcea30",
   "metadata": {
    "id": "35bcea30"
   },
   "outputs": [
    {
     "data": {
      "image/png": "[encoded data removed]",
      "text/plain": [
       "<Figure size 1400x600 with 1 Axes>"
      ]
     },
     "metadata": {},
     "output_type": "display_data"
    }
   ],
   "source": [
    "# Step 4: Plot histograms for both days side by side\n",
    "combined_counts.columns = ['wed_order_hours', 'sat_order_hours']\n",
    "combined_counts.plot(kind = 'bar',width=.50,figsize=[14,6], color=['#FFD700', '#2C3E50'])\n",
    "plt.title('No. of Customers (in 1000s) by Hour of the Day', size=16, weight='bold')\n",
    "plt.xlabel(xlabel= 'Hour of the Day / 24H',labelpad=15, size=14, weight='bold')\n",
    "plt.ylabel(ylabel= 'Customers',labelpad=15, size=14, weight='bold')\n",
    "plt.grid(True, axis = 'y')\n",
    "# plt.xticks([0,2,4,6,8,10,12,14,16,18,20,22])\n",
    "plt.xticks(rotation=0)\n",
    "plt.legend(['Wed. Order Hours','Sat. Order Hours'])\n",
    "plt.tight_layout()\n",
    "plt.show()"
   ]
  },
  {
   "cell_type": "markdown",
   "id": "charitable-congo",
   "metadata": {
    "id": "charitable-congo"
   },
   "source": [
    "There's a small dip from 11h to 13h on Wednesdays. This dip is absent on Saturdays. Maybe this dip can be attributed to people who don't use Instacart because they have lunch somewhere between 11h and 13h."
   ]
  },
  {
   "cell_type": "markdown",
   "id": "e3891143",
   "metadata": {
    "id": "e3891143"
   },
   "source": [
    "### [B2] What's the distribution for the number of orders per customer?\n",
    "\n",
    "To explore the distribution of the number of orders per customer:\n",
    "\n",
    "1. **Group the data** by `user_id` to calculate the total number of orders for each customer. Use `.groupby('user_id')` and count the `order_id` for each group.\n",
    "2. **Sort the results** using `.sort_values()` for better readability.\n",
    "3. **Visualize the distribution** using a histogram to observe how many orders most customers typically place.\n",
    "\n",
    "Adjust the number of bins in the histogram to refine the visualization and better capture the pattern."
   ]
  },
  {
   "cell_type": "code",
   "execution_count": 52,
   "id": "d8c26c23",
   "metadata": {
    "id": "d8c26c23"
   },
   "outputs": [
    {
     "name": "stdout",
     "output_type": "stream",
     "text": [
      "user_id\n",
      "152331     1\n",
      "139876     1\n",
      "60408      1\n",
      "139873     1\n",
      "139871     1\n",
      "          ..\n",
      "66664     24\n",
      "148162    24\n",
      "78375     25\n",
      "193164    26\n",
      "149605    28\n",
      "Name: order_id, Length: 157437, dtype: int64\n"
     ]
    }
   ],
   "source": [
    "print(orders.groupby('user_id')['order_id'].count().sort_values())\n",
    "distribution = orders.groupby('user_id')['order_id'].count().sort_values()"
   ]
  },
  {
   "cell_type": "code",
   "execution_count": 53,
   "id": "00e69a66",
   "metadata": {
    "id": "00e69a66"
   },
   "outputs": [
    {
     "data": {
      "image/png": "[encoded data removed]",
      "text/plain": [
       "<Figure size 1200x600 with 1 Axes>"
      ]
     },
     "metadata": {},
     "output_type": "display_data"
    },
    {
     "data": {
      "image/png": "[encoded data removed]",
      "text/plain": [
       "<Figure size 1200x600 with 1 Axes>"
      ]
     },
     "metadata": {},
     "output_type": "display_data"
    }
   ],
   "source": [
    "#plotting Histogram\n",
    "distribution.plot(\n",
    "    kind='hist',\n",
    "    bins=100,\n",
    "    figsize=(12,6)\n",
    ")\n",
    "plt.xlabel(\"Number of Orders Placed by Customer\")\n",
    "plt.ylabel(\"Number of Customers\")\n",
    "plt.title(\"Distribution of Number of Orders per Customer\")\n",
    "plt.show()\n",
    "\n",
    "# Plotting a bar chart instead of a histogram for better clarity\n",
    "plt.figure(figsize=(12, 6))\n",
    "distribution.value_counts().sort_index().plot(kind='bar', color='#4A90E2')\n",
    "\n",
    "# Customizing the plot for storytelling\n",
    "plt.title(\"Distribution of Number of Orders per Customer\")\n",
    "plt.xlabel(\"Number of Orders Placed by Customer\")\n",
    "plt.ylabel(\"Number of Customers\")\n",
    "plt.grid(axis='y', linestyle='--', alpha=0.6)\n",
    "plt.show()\n",
    "\n",
    "# Can you please answer why do you think histogram is better here? For me, it doesn't make sense since the values are not continuous at the same time if I play on bins for the better visualization, it ends up as bar graph. then why not use bar graph?"
   ]
  },
  {
   "cell_type": "markdown",
   "id": "d2eff7d5",
   "metadata": {
    "id": "d2eff7d5"
   },
   "source": [
    "Most customers in the dataset have placed between 1 and 10 orders, with number of orders per customer sharply decreasing after just 1 order."
   ]
  },
  {
   "cell_type": "markdown",
   "id": "54a0319c",
   "metadata": {
    "id": "54a0319c"
   },
   "source": [
    "### [B3] What are the top 20 popular products (display their id and name)?\n",
    "\n",
    "To identify the top 20 most popular products:\n",
    "\n",
    "1. **Merge the datasets**: Combine `order_products` and `products` on `product_id` to access both the product IDs and names in a single DataFrame.\n",
    "2. **Group the data**: Group by both `product_id` and `product_name` to aggregate the order counts for each product using `.size()`.\n",
    "3. **Sort the results**: Use `.sort_values(ascending=False)` to rank products by their popularity.\n",
    "4. **Display the top 20**: Use `.head(20)` to focus on the most frequently ordered products.\n",
    "5. **Visualize the results**: Create a bar chart to highlight the top products and their order counts.\n",
    "\n",
    "This will give you a clear view of the most popular products and their ranking.\n"
   ]
  },
  {
   "cell_type": "code",
   "execution_count": 54,
   "id": "exterior-arizona",
   "metadata": {
    "id": "exterior-arizona",
    "scrolled": true
   },
   "outputs": [],
   "source": [
    "# Merge the datasets\n",
    "merged_products = order_products.merge(products, on='product_id', how='outer')\n",
    "\n",
    "# Grouping & Sorting by product id & product name\n",
    "grouped_products = merged_products.groupby(['product_id','product_name']).size().sort_values(ascending=False)"
   ]
  },
  {
   "cell_type": "code",
   "execution_count": 55,
   "id": "universal-facial",
   "metadata": {
    "id": "universal-facial"
   },
   "outputs": [
    {
     "data": {
      "text/html": [
       "<div>\n",
       "<style scoped>\n",
       "    .dataframe tbody tr th:only-of-type {\n",
       "        vertical-align: middle;\n",
       "    }\n",
       "\n",
       "    .dataframe tbody tr th {\n",
       "        vertical-align: top;\n",
       "    }\n",
       "\n",
       "    .dataframe thead th {\n",
       "        text-align: right;\n",
       "    }\n",
       "</style>\n",
       "<table border=\"1\" class=\"dataframe\">\n",
       "  <thead>\n",
       "    <tr style=\"text-align: right;\">\n",
       "      <th></th>\n",
       "      <th>product_id</th>\n",
       "      <th>product_name</th>\n",
       "      <th>Order Count</th>\n",
       "    </tr>\n",
       "  </thead>\n",
       "  <tbody>\n",
       "    <tr>\n",
       "      <th>0</th>\n",
       "      <td>24852</td>\n",
       "      <td>Banana</td>\n",
       "      <td>66050</td>\n",
       "    </tr>\n",
       "    <tr>\n",
       "      <th>1</th>\n",
       "      <td>13176</td>\n",
       "      <td>Bag of Organic Bananas</td>\n",
       "      <td>53297</td>\n",
       "    </tr>\n",
       "    <tr>\n",
       "      <th>2</th>\n",
       "      <td>21137</td>\n",
       "      <td>Organic Strawberries</td>\n",
       "      <td>37039</td>\n",
       "    </tr>\n",
       "    <tr>\n",
       "      <th>3</th>\n",
       "      <td>21903</td>\n",
       "      <td>Organic Baby Spinach</td>\n",
       "      <td>33971</td>\n",
       "    </tr>\n",
       "    <tr>\n",
       "      <th>4</th>\n",
       "      <td>47209</td>\n",
       "      <td>Organic Hass Avocado</td>\n",
       "      <td>29773</td>\n",
       "    </tr>\n",
       "    <tr>\n",
       "      <th>5</th>\n",
       "      <td>47766</td>\n",
       "      <td>Organic Avocado</td>\n",
       "      <td>24689</td>\n",
       "    </tr>\n",
       "    <tr>\n",
       "      <th>6</th>\n",
       "      <td>47626</td>\n",
       "      <td>Large Lemon</td>\n",
       "      <td>21495</td>\n",
       "    </tr>\n",
       "    <tr>\n",
       "      <th>7</th>\n",
       "      <td>16797</td>\n",
       "      <td>Strawberries</td>\n",
       "      <td>20018</td>\n",
       "    </tr>\n",
       "    <tr>\n",
       "      <th>8</th>\n",
       "      <td>26209</td>\n",
       "      <td>Limes</td>\n",
       "      <td>19690</td>\n",
       "    </tr>\n",
       "    <tr>\n",
       "      <th>9</th>\n",
       "      <td>27845</td>\n",
       "      <td>Organic Whole Milk</td>\n",
       "      <td>19600</td>\n",
       "    </tr>\n",
       "    <tr>\n",
       "      <th>10</th>\n",
       "      <td>27966</td>\n",
       "      <td>Organic Raspberries</td>\n",
       "      <td>19197</td>\n",
       "    </tr>\n",
       "    <tr>\n",
       "      <th>11</th>\n",
       "      <td>22935</td>\n",
       "      <td>Organic Yellow Onion</td>\n",
       "      <td>15898</td>\n",
       "    </tr>\n",
       "    <tr>\n",
       "      <th>12</th>\n",
       "      <td>24964</td>\n",
       "      <td>Organic Garlic</td>\n",
       "      <td>15292</td>\n",
       "    </tr>\n",
       "    <tr>\n",
       "      <th>13</th>\n",
       "      <td>45007</td>\n",
       "      <td>Organic Zucchini</td>\n",
       "      <td>14584</td>\n",
       "    </tr>\n",
       "    <tr>\n",
       "      <th>14</th>\n",
       "      <td>39275</td>\n",
       "      <td>Organic Blueberries</td>\n",
       "      <td>13879</td>\n",
       "    </tr>\n",
       "    <tr>\n",
       "      <th>15</th>\n",
       "      <td>49683</td>\n",
       "      <td>Cucumber Kirby</td>\n",
       "      <td>13675</td>\n",
       "    </tr>\n",
       "    <tr>\n",
       "      <th>16</th>\n",
       "      <td>28204</td>\n",
       "      <td>Organic Fuji Apple</td>\n",
       "      <td>12544</td>\n",
       "    </tr>\n",
       "    <tr>\n",
       "      <th>17</th>\n",
       "      <td>5876</td>\n",
       "      <td>Organic Lemon</td>\n",
       "      <td>12232</td>\n",
       "    </tr>\n",
       "    <tr>\n",
       "      <th>18</th>\n",
       "      <td>8277</td>\n",
       "      <td>Apple Honeycrisp Organic</td>\n",
       "      <td>11993</td>\n",
       "    </tr>\n",
       "    <tr>\n",
       "      <th>19</th>\n",
       "      <td>40706</td>\n",
       "      <td>Organic Grape Tomatoes</td>\n",
       "      <td>11781</td>\n",
       "    </tr>\n",
       "  </tbody>\n",
       "</table>\n",
       "</div>"
      ],
      "text/plain": [
       "    product_id              product_name  Order Count\n",
       "0        24852                    Banana        66050\n",
       "1        13176    Bag of Organic Bananas        53297\n",
       "2        21137      Organic Strawberries        37039\n",
       "3        21903      Organic Baby Spinach        33971\n",
       "4        47209      Organic Hass Avocado        29773\n",
       "5        47766           Organic Avocado        24689\n",
       "6        47626               Large Lemon        21495\n",
       "7        16797              Strawberries        20018\n",
       "8        26209                     Limes        19690\n",
       "9        27845        Organic Whole Milk        19600\n",
       "10       27966       Organic Raspberries        19197\n",
       "11       22935      Organic Yellow Onion        15898\n",
       "12       24964            Organic Garlic        15292\n",
       "13       45007          Organic Zucchini        14584\n",
       "14       39275       Organic Blueberries        13879\n",
       "15       49683            Cucumber Kirby        13675\n",
       "16       28204        Organic Fuji Apple        12544\n",
       "17        5876             Organic Lemon        12232\n",
       "18        8277  Apple Honeycrisp Organic        11993\n",
       "19       40706    Organic Grape Tomatoes        11781"
      ]
     },
     "metadata": {},
     "output_type": "display_data"
    }
   ],
   "source": [
    "# Displaying top 20\n",
    "top_20_products = grouped_products.head(20).reset_index(name='Order Count')\n",
    "display(top_20_products)"
   ]
  },
  {
   "cell_type": "code",
   "execution_count": 56,
   "id": "bbcdd20b",
   "metadata": {
    "id": "bbcdd20b"
   },
   "outputs": [
    {
     "data": {
      "image/png": "[encoded data removed]",
      "text/plain": [
       "<Figure size 1200x600 with 1 Axes>"
      ]
     },
     "metadata": {},
     "output_type": "display_data"
    }
   ],
   "source": [
    "# Plotting the bar chart using only product names\n",
    "plt.figure(figsize=(12, 6))\n",
    "plt.bar(top_20_products['product_name'], top_20_products['Order Count'], color='#20B2AA', width=0.50)\n",
    "\n",
    "# Customizing the plot\n",
    "plt.title(\"Top 20 Popular Products\", size=16, weight='bold')\n",
    "plt.xlabel(\"Product Name\", size=14, weight='bold', labelpad=15)\n",
    "plt.ylabel(\"Order Count\", size=14, weight='bold', labelpad=15)\n",
    "plt.xticks(rotation=45, ha='right')  # Rotating x-axis labels for better readability\n",
    "plt.grid(axis='y', linestyle='--', alpha=0.6)\n",
    "plt.tight_layout()\n",
    "plt.show()"
   ]
  },
  {
   "cell_type": "markdown",
   "id": "7df00f47",
   "metadata": {
    "id": "7df00f47"
   },
   "source": [
    "The top 20 items are all produce, except for the milk. Looks like people want delicious and nutritious!"
   ]
  },
  {
   "cell_type": "markdown",
   "id": "gross-theme",
   "metadata": {
    "id": "gross-theme"
   },
   "source": [
    "# [C] Hard (must complete at least two to pass)"
   ]
  },
  {
   "cell_type": "markdown",
   "id": "romantic-deposit",
   "metadata": {
    "id": "romantic-deposit"
   },
   "source": [
    "### [C1] How many items do people typically buy in one order? What does the distribution look like?\n",
    "To analyze how many items people typically buy in one order:\n",
    "\n",
    "1. **Group the data** by `order_id` and count the number of products (`product_id`) in each order using `.count()`. This gives the number of items in each order.\n",
    "2. **Aggregate the counts**: Use `.value_counts()` to determine how frequently different order sizes occur, and then sort the results with `.sort_index()` to organize by the number of items.\n",
    "3. **Visualize the distribution**: Use a bar plot to show the frequency of orders for each size, with the x-axis representing the number of items and the y-axis representing the number of orders.\n",
    "\n",
    "This will help you understand the typical size of a grocery order and identify any trends in purchasing behavior."
   ]
  },
  {
   "cell_type": "code",
   "execution_count": 57,
   "id": "virtual-punch",
   "metadata": {
    "id": "virtual-punch"
   },
   "outputs": [
    {
     "data": {
      "text/plain": [
       "1      21847\n",
       "2      26292\n",
       "3      29046\n",
       "4      31054\n",
       "5      31923\n",
       "       ...  \n",
       "98         1\n",
       "104        1\n",
       "108        1\n",
       "115        1\n",
       "127        1\n",
       "Name: product_id, Length: 90, dtype: int64"
      ]
     },
     "execution_count": 57,
     "metadata": {},
     "output_type": "execute_result"
    }
   ],
   "source": [
    "# Grouping Data to get the number of items in each order\n",
    "num_of_items_each_order = order_products.groupby('order_id')['product_id'].count().value_counts().sort_index()\n",
    "num_of_items_each_order                          "
   ]
  },
  {
   "cell_type": "code",
   "execution_count": 58,
   "id": "sensitive-breathing",
   "metadata": {
    "id": "sensitive-breathing"
   },
   "outputs": [
    {
     "data": {
      "image/png": "[encoded data removed]",
      "text/plain": [
       "<Figure size 2000x1000 with 1 Axes>"
      ]
     },
     "metadata": {},
     "output_type": "display_data"
    }
   ],
   "source": [
    "# Visualising the whole data\n",
    "num_of_items_each_order.plot(kind='bar', figsize=[20,10], width=0.3)\n",
    "plt.xlabel('Number of Items', size=14, weight='bold', labelpad=15)\n",
    "plt.ylabel('Number of Orders', size=14, weight='bold', labelpad=15)\n",
    "plt.title('Items Count In Each Order', size=16, weight='bold')\n",
    "plt.show()"
   ]
  },
  {
   "cell_type": "markdown",
   "id": "bd4ed530",
   "metadata": {
    "id": "bd4ed530"
   },
   "source": [
    "Most of the order numbers are in the tail of the distribution. To get a better look at the non-tail part, let's choose a value in the tail as a cutoff and just plot order with fewer than that many items. An order size of 35 items is far enough into the tail for this."
   ]
  },
  {
   "cell_type": "code",
   "execution_count": 59,
   "id": "completed-frank",
   "metadata": {
    "id": "completed-frank"
   },
   "outputs": [
    {
     "data": {
      "image/png": "[encoded data removed]",
      "text/plain": [
       "<Figure size 1200x600 with 1 Axes>"
      ]
     },
     "metadata": {},
     "output_type": "display_data"
    }
   ],
   "source": [
    "# Limiting the data to the first 35 items (avoiding the long tail)\n",
    "num_of_items_each_order_limited = num_of_items_each_order[num_of_items_each_order.index <= 35]\n",
    "\n",
    "# Plotting the improved bar chart\n",
    "plt.figure(figsize=(12, 6))\n",
    "num_of_items_each_order_limited.plot(kind='bar', color='#4A90E2', width=0.6)\n",
    "\n",
    "# Customizing the plot for clarity\n",
    "plt.title(\"Distribution of Number of Items in Each Order\", fontsize=16, weight='bold')\n",
    "plt.xlabel(\"Number of Items per Order\", fontsize=14, weight='bold', labelpad=15, ha='left')\n",
    "plt.ylabel(\"Number of Orders\", fontsize=14, weight='bold', labelpad=15)\n",
    "plt.grid(axis='y', linestyle='--', alpha=0.6)\n",
    "plt.xticks(rotation=45, ha='right', fontsize=12)\n",
    "plt.tight_layout()\n",
    "plt.show()"
   ]
  },
  {
   "cell_type": "markdown",
   "id": "designed-mortality",
   "metadata": {
    "id": "designed-mortality"
   },
   "source": [
    "The typical order contains 5 or 6 items, with most orders having between 1 and 20 items."
   ]
  },
  {
   "cell_type": "markdown",
   "id": "5e6b5537",
   "metadata": {
    "id": "5e6b5537"
   },
   "source": [
    "### [C2] What are the top 20 items that are reordered most frequently (display their names and product IDs)?\n",
    "\n",
    "To find the top 20 most frequently reordered items:\n",
    "\n",
    "1. **Filter the data**: Use `order_products['reordered'] == 1` to isolate only the products that have been reordered.\n",
    "2. **Merge the datasets**: Combine the filtered `order_products` with the `products` dataset on `product_id` to get both the product names and IDs.\n",
    "3. **Group the data**: Group by both `product_id` and `product_name` to calculate how many times each product was reordered, using `.size()`.\n",
    "4. **Sort the results**: Use `.sort_values(ascending=False)` to rank the products by reorder frequency.\n",
    "5. **Display the top 20**: Use `.head(20)` to focus on the most frequently reordered products.\n",
    "6. **Visualize the data**: Create a bar chart to showcase the top reordered items and their frequencies.\n",
    "\n",
    "This process highlights the products that customers consistently return to and reorder."
   ]
  },
  {
   "cell_type": "code",
   "execution_count": 60,
   "id": "9374e55a",
   "metadata": {
    "id": "9374e55a"
   },
   "outputs": [],
   "source": [
    "# Filter the data\n",
    "filter_reorder = order_products[order_products['reordered'] == 1]"
   ]
  },
  {
   "cell_type": "code",
   "execution_count": 61,
   "id": "possible-change",
   "metadata": {
    "id": "possible-change",
    "scrolled": true
   },
   "outputs": [],
   "source": [
    "# Merge the datasets\n",
    "merged_reorder = filter_reorder.merge(products, on='product_id', how='outer')\n",
    "\n",
    "# Group the data, Sort the results\n",
    "group_reorder = merged_reorder.groupby(['product_id','product_name']).size().sort_values(ascending=False)"
   ]
  },
  {
   "cell_type": "code",
   "execution_count": 62,
   "id": "professional-surfing",
   "metadata": {
    "id": "professional-surfing",
    "scrolled": true
   },
   "outputs": [
    {
     "data": {
      "text/html": [
       "<div>\n",
       "<style scoped>\n",
       "    .dataframe tbody tr th:only-of-type {\n",
       "        vertical-align: middle;\n",
       "    }\n",
       "\n",
       "    .dataframe tbody tr th {\n",
       "        vertical-align: top;\n",
       "    }\n",
       "\n",
       "    .dataframe thead th {\n",
       "        text-align: right;\n",
       "    }\n",
       "</style>\n",
       "<table border=\"1\" class=\"dataframe\">\n",
       "  <thead>\n",
       "    <tr style=\"text-align: right;\">\n",
       "      <th></th>\n",
       "      <th>product_id</th>\n",
       "      <th>product_name</th>\n",
       "      <th>Order Count</th>\n",
       "    </tr>\n",
       "  </thead>\n",
       "  <tbody>\n",
       "    <tr>\n",
       "      <th>0</th>\n",
       "      <td>24852</td>\n",
       "      <td>Banana</td>\n",
       "      <td>55763</td>\n",
       "    </tr>\n",
       "    <tr>\n",
       "      <th>1</th>\n",
       "      <td>13176</td>\n",
       "      <td>Bag of Organic Bananas</td>\n",
       "      <td>44450</td>\n",
       "    </tr>\n",
       "    <tr>\n",
       "      <th>2</th>\n",
       "      <td>21137</td>\n",
       "      <td>Organic Strawberries</td>\n",
       "      <td>28639</td>\n",
       "    </tr>\n",
       "    <tr>\n",
       "      <th>3</th>\n",
       "      <td>21903</td>\n",
       "      <td>Organic Baby Spinach</td>\n",
       "      <td>26233</td>\n",
       "    </tr>\n",
       "    <tr>\n",
       "      <th>4</th>\n",
       "      <td>47209</td>\n",
       "      <td>Organic Hass Avocado</td>\n",
       "      <td>23629</td>\n",
       "    </tr>\n",
       "    <tr>\n",
       "      <th>5</th>\n",
       "      <td>47766</td>\n",
       "      <td>Organic Avocado</td>\n",
       "      <td>18743</td>\n",
       "    </tr>\n",
       "    <tr>\n",
       "      <th>6</th>\n",
       "      <td>27845</td>\n",
       "      <td>Organic Whole Milk</td>\n",
       "      <td>16251</td>\n",
       "    </tr>\n",
       "    <tr>\n",
       "      <th>7</th>\n",
       "      <td>47626</td>\n",
       "      <td>Large Lemon</td>\n",
       "      <td>15044</td>\n",
       "    </tr>\n",
       "    <tr>\n",
       "      <th>8</th>\n",
       "      <td>27966</td>\n",
       "      <td>Organic Raspberries</td>\n",
       "      <td>14748</td>\n",
       "    </tr>\n",
       "    <tr>\n",
       "      <th>9</th>\n",
       "      <td>16797</td>\n",
       "      <td>Strawberries</td>\n",
       "      <td>13945</td>\n",
       "    </tr>\n",
       "    <tr>\n",
       "      <th>10</th>\n",
       "      <td>26209</td>\n",
       "      <td>Limes</td>\n",
       "      <td>13327</td>\n",
       "    </tr>\n",
       "    <tr>\n",
       "      <th>11</th>\n",
       "      <td>22935</td>\n",
       "      <td>Organic Yellow Onion</td>\n",
       "      <td>11145</td>\n",
       "    </tr>\n",
       "    <tr>\n",
       "      <th>12</th>\n",
       "      <td>24964</td>\n",
       "      <td>Organic Garlic</td>\n",
       "      <td>10411</td>\n",
       "    </tr>\n",
       "    <tr>\n",
       "      <th>13</th>\n",
       "      <td>45007</td>\n",
       "      <td>Organic Zucchini</td>\n",
       "      <td>10076</td>\n",
       "    </tr>\n",
       "    <tr>\n",
       "      <th>14</th>\n",
       "      <td>49683</td>\n",
       "      <td>Cucumber Kirby</td>\n",
       "      <td>9538</td>\n",
       "    </tr>\n",
       "    <tr>\n",
       "      <th>15</th>\n",
       "      <td>28204</td>\n",
       "      <td>Organic Fuji Apple</td>\n",
       "      <td>8989</td>\n",
       "    </tr>\n",
       "    <tr>\n",
       "      <th>16</th>\n",
       "      <td>8277</td>\n",
       "      <td>Apple Honeycrisp Organic</td>\n",
       "      <td>8836</td>\n",
       "    </tr>\n",
       "    <tr>\n",
       "      <th>17</th>\n",
       "      <td>39275</td>\n",
       "      <td>Organic Blueberries</td>\n",
       "      <td>8799</td>\n",
       "    </tr>\n",
       "    <tr>\n",
       "      <th>18</th>\n",
       "      <td>5876</td>\n",
       "      <td>Organic Lemon</td>\n",
       "      <td>8412</td>\n",
       "    </tr>\n",
       "    <tr>\n",
       "      <th>19</th>\n",
       "      <td>49235</td>\n",
       "      <td>Organic Half &amp; Half</td>\n",
       "      <td>8389</td>\n",
       "    </tr>\n",
       "  </tbody>\n",
       "</table>\n",
       "</div>"
      ],
      "text/plain": [
       "    product_id              product_name  Order Count\n",
       "0        24852                    Banana        55763\n",
       "1        13176    Bag of Organic Bananas        44450\n",
       "2        21137      Organic Strawberries        28639\n",
       "3        21903      Organic Baby Spinach        26233\n",
       "4        47209      Organic Hass Avocado        23629\n",
       "5        47766           Organic Avocado        18743\n",
       "6        27845        Organic Whole Milk        16251\n",
       "7        47626               Large Lemon        15044\n",
       "8        27966       Organic Raspberries        14748\n",
       "9        16797              Strawberries        13945\n",
       "10       26209                     Limes        13327\n",
       "11       22935      Organic Yellow Onion        11145\n",
       "12       24964            Organic Garlic        10411\n",
       "13       45007          Organic Zucchini        10076\n",
       "14       49683            Cucumber Kirby         9538\n",
       "15       28204        Organic Fuji Apple         8989\n",
       "16        8277  Apple Honeycrisp Organic         8836\n",
       "17       39275       Organic Blueberries         8799\n",
       "18        5876             Organic Lemon         8412\n",
       "19       49235       Organic Half & Half         8389"
      ]
     },
     "execution_count": 62,
     "metadata": {},
     "output_type": "execute_result"
    }
   ],
   "source": [
    "# Display the top 20\n",
    "top_20_reorder = group_reorder.head(20).reset_index(name='Order Count')\n",
    "top_20_reorder"
   ]
  },
  {
   "cell_type": "code",
   "execution_count": 63,
   "id": "48dd3658",
   "metadata": {
    "id": "48dd3658"
   },
   "outputs": [
    {
     "data": {
      "image/png": "[encoded data removed]",
      "text/plain": [
       "<Figure size 1200x600 with 1 Axes>"
      ]
     },
     "metadata": {},
     "output_type": "display_data"
    }
   ],
   "source": [
    "# Plotting the bar chart using only product names\n",
    "plt.figure(figsize=(12, 6))\n",
    "plt.bar(top_20_reorder['product_name'], top_20_reorder['Order Count'], color='#20B2AA', width=0.50)\n",
    "\n",
    "# Customizing the plot\n",
    "plt.title(\"Top 20 Most Frequently Reordered Products\", size=16, weight='bold')\n",
    "plt.xlabel(\"Product Name\", size=14, weight='bold', labelpad=15)\n",
    "plt.ylabel(\"Number of Reorders\", size=14, weight='bold', labelpad=15)\n",
    "plt.xticks(rotation=45, ha='right')  # Rotating x-axis labels for better readability\n",
    "plt.grid(axis='y', linestyle='--', alpha=0.6)\n",
    "plt.tight_layout()\n",
    "plt.show()"
   ]
  },
  {
   "cell_type": "markdown",
   "id": "80e70c74",
   "metadata": {
    "id": "80e70c74"
   },
   "source": [
    "It looks like produce and dairy comprise the most reordered products as well. It makes sense that perishables would be the most reordered items."
   ]
  },
  {
   "cell_type": "markdown",
   "id": "9d312b14",
   "metadata": {
    "id": "9d312b14"
   },
   "source": [
    "### [C3] For each product, what proportion of its orders are reorders?\n",
    "\n",
    "To calculate the proportion of orders for each product that are reorders:\n",
    "\n",
    "1. **Merge the datasets**: Combine `order_products` with the `products` dataset to access product names and IDs in the same DataFrame.\n",
    "2. **Group the data**: Group by `product_id` and `product_name` to isolate each product's order history.\n",
    "3. **Calculate the mean of `reordered`**: Use `.mean()` on the `reordered` column to compute the proportion of orders for each product that were reorders. The value represents the reorder rate.\n",
    "4. **Sort the results**: Use `.sort_values(ascending=False)` to rank products by their reorder rates.\n",
    "5. **Convert to a DataFrame**: Use `.reset_index()` to organize the grouped data into a readable DataFrame.\n",
    "6. **Optional Sorting**: Sort the results by `product_id` or another column for better clarity.\n",
    "\n",
    "This approach provides insights into how frequently each product is reordered, helping identify customer favorites or staples.\n"
   ]
  },
  {
   "cell_type": "code",
   "execution_count": 64,
   "id": "8ae9f4b1",
   "metadata": {
    "id": "8ae9f4b1"
   },
   "outputs": [],
   "source": [
    "# Merging the datasets\n",
    "merge_data = order_products.merge(products, on='product_id', how='outer')\n",
    "\n",
    "# Grouping product id and product name and mean\n",
    "mean_reorder = merge_data.groupby(['product_id','product_name'])['reordered'].mean().reset_index()"
   ]
  },
  {
   "cell_type": "code",
   "execution_count": 65,
   "id": "103e7fe1",
   "metadata": {
    "id": "103e7fe1"
   },
   "outputs": [],
   "source": [
    "# Sorting by reorer rate and renaming\n",
    "mean_reorder = mean_reorder.sort_values(\"reordered\").reset_index().rename(columns={'reordered':'avg_reorder'})"
   ]
  },
  {
   "cell_type": "code",
   "execution_count": 66,
   "id": "2188cf46-0e77-47da-9ff5-4ebe2e75c913",
   "metadata": {},
   "outputs": [
    {
     "data": {
      "text/html": [
       "<div>\n",
       "<style scoped>\n",
       "    .dataframe tbody tr th:only-of-type {\n",
       "        vertical-align: middle;\n",
       "    }\n",
       "\n",
       "    .dataframe tbody tr th {\n",
       "        vertical-align: top;\n",
       "    }\n",
       "\n",
       "    .dataframe thead th {\n",
       "        text-align: right;\n",
       "    }\n",
       "</style>\n",
       "<table border=\"1\" class=\"dataframe\">\n",
       "  <thead>\n",
       "    <tr style=\"text-align: right;\">\n",
       "      <th></th>\n",
       "      <th>index</th>\n",
       "      <th>product_id</th>\n",
       "      <th>product_name</th>\n",
       "      <th>avg_reorder</th>\n",
       "    </tr>\n",
       "  </thead>\n",
       "  <tbody>\n",
       "    <tr>\n",
       "      <th>0</th>\n",
       "      <td>19647</td>\n",
       "      <td>20154</td>\n",
       "      <td>Lightly Salted Corn Chips</td>\n",
       "      <td>0.0</td>\n",
       "    </tr>\n",
       "    <tr>\n",
       "      <th>1</th>\n",
       "      <td>36386</td>\n",
       "      <td>37316</td>\n",
       "      <td>Vanilla Oval Wafers</td>\n",
       "      <td>0.0</td>\n",
       "    </tr>\n",
       "    <tr>\n",
       "      <th>2</th>\n",
       "      <td>8221</td>\n",
       "      <td>8417</td>\n",
       "      <td>Unscented Sport Broad Spectrum SPF 35- All Sea...</td>\n",
       "      <td>0.0</td>\n",
       "    </tr>\n",
       "    <tr>\n",
       "      <th>3</th>\n",
       "      <td>8222</td>\n",
       "      <td>8418</td>\n",
       "      <td>Organic Sweetened Dried Cranberries</td>\n",
       "      <td>0.0</td>\n",
       "    </tr>\n",
       "    <tr>\n",
       "      <th>4</th>\n",
       "      <td>8223</td>\n",
       "      <td>8419</td>\n",
       "      <td>Dish Soap- Pink Grapefruit</td>\n",
       "      <td>0.0</td>\n",
       "    </tr>\n",
       "    <tr>\n",
       "      <th>...</th>\n",
       "      <td>...</td>\n",
       "      <td>...</td>\n",
       "      <td>...</td>\n",
       "      <td>...</td>\n",
       "    </tr>\n",
       "    <tr>\n",
       "      <th>48432</th>\n",
       "      <td>48368</td>\n",
       "      <td>49623</td>\n",
       "      <td>Freeze-Dried Powder Coconut Water</td>\n",
       "      <td>NaN</td>\n",
       "    </tr>\n",
       "    <tr>\n",
       "      <th>48433</th>\n",
       "      <td>48377</td>\n",
       "      <td>49632</td>\n",
       "      <td>Lavender &amp; Bergamot Sleep Balm</td>\n",
       "      <td>NaN</td>\n",
       "    </tr>\n",
       "    <tr>\n",
       "      <th>48434</th>\n",
       "      <td>48387</td>\n",
       "      <td>49643</td>\n",
       "      <td>Tomatillo Salsa Cranberry-Mango</td>\n",
       "      <td>NaN</td>\n",
       "    </tr>\n",
       "    <tr>\n",
       "      <th>48435</th>\n",
       "      <td>48400</td>\n",
       "      <td>49656</td>\n",
       "      <td>Masada Kosher Pocket Bread</td>\n",
       "      <td>NaN</td>\n",
       "    </tr>\n",
       "    <tr>\n",
       "      <th>48436</th>\n",
       "      <td>48409</td>\n",
       "      <td>49666</td>\n",
       "      <td>Ginger Snaps Snacking Cookies</td>\n",
       "      <td>NaN</td>\n",
       "    </tr>\n",
       "  </tbody>\n",
       "</table>\n",
       "<p>48437 rows × 4 columns</p>\n",
       "</div>"
      ],
      "text/plain": [
       "       index  product_id                                       product_name  \\\n",
       "0      19647       20154                          Lightly Salted Corn Chips   \n",
       "1      36386       37316                                Vanilla Oval Wafers   \n",
       "2       8221        8417  Unscented Sport Broad Spectrum SPF 35- All Sea...   \n",
       "3       8222        8418                Organic Sweetened Dried Cranberries   \n",
       "4       8223        8419                         Dish Soap- Pink Grapefruit   \n",
       "...      ...         ...                                                ...   \n",
       "48432  48368       49623                  Freeze-Dried Powder Coconut Water   \n",
       "48433  48377       49632                     Lavender & Bergamot Sleep Balm   \n",
       "48434  48387       49643                    Tomatillo Salsa Cranberry-Mango   \n",
       "48435  48400       49656                         Masada Kosher Pocket Bread   \n",
       "48436  48409       49666                      Ginger Snaps Snacking Cookies   \n",
       "\n",
       "       avg_reorder  \n",
       "0              0.0  \n",
       "1              0.0  \n",
       "2              0.0  \n",
       "3              0.0  \n",
       "4              0.0  \n",
       "...            ...  \n",
       "48432          NaN  \n",
       "48433          NaN  \n",
       "48434          NaN  \n",
       "48435          NaN  \n",
       "48436          NaN  \n",
       "\n",
       "[48437 rows x 4 columns]"
      ]
     },
     "execution_count": 66,
     "metadata": {},
     "output_type": "execute_result"
    }
   ],
   "source": [
    "mean_reorder"
   ]
  },
  {
   "cell_type": "code",
   "execution_count": 67,
   "id": "social-individual",
   "metadata": {
    "id": "social-individual"
   },
   "outputs": [
    {
     "data": {
      "text/html": [
       "<div>\n",
       "<style scoped>\n",
       "    .dataframe tbody tr th:only-of-type {\n",
       "        vertical-align: middle;\n",
       "    }\n",
       "\n",
       "    .dataframe tbody tr th {\n",
       "        vertical-align: top;\n",
       "    }\n",
       "\n",
       "    .dataframe thead th {\n",
       "        text-align: right;\n",
       "    }\n",
       "</style>\n",
       "<table border=\"1\" class=\"dataframe\">\n",
       "  <thead>\n",
       "    <tr style=\"text-align: right;\">\n",
       "      <th></th>\n",
       "      <th>index</th>\n",
       "      <th>product_id</th>\n",
       "      <th>product_name</th>\n",
       "      <th>avg_reorder</th>\n",
       "    </tr>\n",
       "  </thead>\n",
       "  <tbody>\n",
       "    <tr>\n",
       "      <th>0</th>\n",
       "      <td>0</td>\n",
       "      <td>1</td>\n",
       "      <td>Chocolate Sandwich Cookies</td>\n",
       "      <td>0.564286</td>\n",
       "    </tr>\n",
       "    <tr>\n",
       "      <th>1</th>\n",
       "      <td>1</td>\n",
       "      <td>2</td>\n",
       "      <td>All-Seasons Salt</td>\n",
       "      <td>0.000000</td>\n",
       "    </tr>\n",
       "    <tr>\n",
       "      <th>2</th>\n",
       "      <td>2</td>\n",
       "      <td>3</td>\n",
       "      <td>Robust Golden Unsweetened Oolong Tea</td>\n",
       "      <td>0.738095</td>\n",
       "    </tr>\n",
       "    <tr>\n",
       "      <th>3</th>\n",
       "      <td>3</td>\n",
       "      <td>4</td>\n",
       "      <td>Smart Ones Classic Favorites Mini Rigatoni Wit...</td>\n",
       "      <td>0.510204</td>\n",
       "    </tr>\n",
       "    <tr>\n",
       "      <th>4</th>\n",
       "      <td>4</td>\n",
       "      <td>5</td>\n",
       "      <td>Green Chile Anytime Sauce</td>\n",
       "      <td>NaN</td>\n",
       "    </tr>\n",
       "    <tr>\n",
       "      <th>...</th>\n",
       "      <td>...</td>\n",
       "      <td>...</td>\n",
       "      <td>...</td>\n",
       "      <td>...</td>\n",
       "    </tr>\n",
       "    <tr>\n",
       "      <th>48432</th>\n",
       "      <td>48432</td>\n",
       "      <td>49690</td>\n",
       "      <td>HIGH PERFORMANCE ENERGY DRINK</td>\n",
       "      <td>0.800000</td>\n",
       "    </tr>\n",
       "    <tr>\n",
       "      <th>48433</th>\n",
       "      <td>48433</td>\n",
       "      <td>49691</td>\n",
       "      <td>ORIGINAL PANCAKE &amp; WAFFLE MIX</td>\n",
       "      <td>0.430556</td>\n",
       "    </tr>\n",
       "    <tr>\n",
       "      <th>48434</th>\n",
       "      <td>48434</td>\n",
       "      <td>49692</td>\n",
       "      <td>ORGANIC INSTANT OATMEAL LIGHT MAPLE BROWN SUGAR</td>\n",
       "      <td>0.416667</td>\n",
       "    </tr>\n",
       "    <tr>\n",
       "      <th>48435</th>\n",
       "      <td>48435</td>\n",
       "      <td>49693</td>\n",
       "      <td>SPRING WATER BODY WASH</td>\n",
       "      <td>0.440000</td>\n",
       "    </tr>\n",
       "    <tr>\n",
       "      <th>48436</th>\n",
       "      <td>48436</td>\n",
       "      <td>49694</td>\n",
       "      <td>BURRITO- STEAK &amp; CHEESE</td>\n",
       "      <td>0.333333</td>\n",
       "    </tr>\n",
       "  </tbody>\n",
       "</table>\n",
       "<p>48437 rows × 4 columns</p>\n",
       "</div>"
      ],
      "text/plain": [
       "       index  product_id                                       product_name  \\\n",
       "0          0           1                         Chocolate Sandwich Cookies   \n",
       "1          1           2                                   All-Seasons Salt   \n",
       "2          2           3               Robust Golden Unsweetened Oolong Tea   \n",
       "3          3           4  Smart Ones Classic Favorites Mini Rigatoni Wit...   \n",
       "4          4           5                          Green Chile Anytime Sauce   \n",
       "...      ...         ...                                                ...   \n",
       "48432  48432       49690                      HIGH PERFORMANCE ENERGY DRINK   \n",
       "48433  48433       49691                      ORIGINAL PANCAKE & WAFFLE MIX   \n",
       "48434  48434       49692    ORGANIC INSTANT OATMEAL LIGHT MAPLE BROWN SUGAR   \n",
       "48435  48435       49693                             SPRING WATER BODY WASH   \n",
       "48436  48436       49694                            BURRITO- STEAK & CHEESE   \n",
       "\n",
       "       avg_reorder  \n",
       "0         0.564286  \n",
       "1         0.000000  \n",
       "2         0.738095  \n",
       "3         0.510204  \n",
       "4              NaN  \n",
       "...            ...  \n",
       "48432     0.800000  \n",
       "48433     0.430556  \n",
       "48434     0.416667  \n",
       "48435     0.440000  \n",
       "48436     0.333333  \n",
       "\n",
       "[48437 rows x 4 columns]"
      ]
     },
     "execution_count": 67,
     "metadata": {},
     "output_type": "execute_result"
    }
   ],
   "source": [
    "# Sorting by product id and renaming\n",
    "mean_reorder_sorted = mean_reorder.sort_values('product_id').reset_index(drop=True)\n",
    "mean_reorder_sorted"
   ]
  },
  {
   "cell_type": "markdown",
   "id": "subject-boxing",
   "metadata": {
    "id": "subject-boxing"
   },
   "source": [
    "### [C4] For each customer, what proportion of their products ordered are reorders?\n",
    "\n",
    "To calculate the proportion of products reordered by each customer:\n",
    "\n",
    "1. **Merge the datasets**: Combine `order_products` with `orders` to link order and customer information.\n",
    "2. **Group the data**: Group by `user_id` to focus on each customer's ordering behavior.\n",
    "3. **Calculate the mean of `reordered`**: Use `.mean()` on the `reordered` column to determine the proportion of products reordered by each customer.\n",
    "4. **Sort the results**: Use `.sort_values(ascending=False)` to identify customers with the highest reorder rates.\n",
    "5. **Convert to a DataFrame**: Use `.reset_index()` to format the grouped data into a structured DataFrame for further analysis.\n",
    "\n",
    "This analysis reveals the extent to which individual customers reorder products, providing insights into customer loyalty and preferences.\n"
   ]
  },
  {
   "cell_type": "code",
   "execution_count": 68,
   "id": "medical-couple",
   "metadata": {
    "id": "medical-couple",
    "scrolled": true
   },
   "outputs": [
    {
     "data": {
      "text/html": [
       "<div>\n",
       "<style scoped>\n",
       "    .dataframe tbody tr th:only-of-type {\n",
       "        vertical-align: middle;\n",
       "    }\n",
       "\n",
       "    .dataframe tbody tr th {\n",
       "        vertical-align: top;\n",
       "    }\n",
       "\n",
       "    .dataframe thead th {\n",
       "        text-align: right;\n",
       "    }\n",
       "</style>\n",
       "<table border=\"1\" class=\"dataframe\">\n",
       "  <thead>\n",
       "    <tr style=\"text-align: right;\">\n",
       "      <th></th>\n",
       "      <th>user_id</th>\n",
       "      <th>reordered</th>\n",
       "    </tr>\n",
       "  </thead>\n",
       "  <tbody>\n",
       "    <tr>\n",
       "      <th>0</th>\n",
       "      <td>137587</td>\n",
       "      <td>1.0</td>\n",
       "    </tr>\n",
       "    <tr>\n",
       "      <th>1</th>\n",
       "      <td>173474</td>\n",
       "      <td>1.0</td>\n",
       "    </tr>\n",
       "    <tr>\n",
       "      <th>2</th>\n",
       "      <td>13918</td>\n",
       "      <td>1.0</td>\n",
       "    </tr>\n",
       "    <tr>\n",
       "      <th>3</th>\n",
       "      <td>62300</td>\n",
       "      <td>1.0</td>\n",
       "    </tr>\n",
       "    <tr>\n",
       "      <th>4</th>\n",
       "      <td>62307</td>\n",
       "      <td>1.0</td>\n",
       "    </tr>\n",
       "    <tr>\n",
       "      <th>...</th>\n",
       "      <td>...</td>\n",
       "      <td>...</td>\n",
       "    </tr>\n",
       "    <tr>\n",
       "      <th>157432</th>\n",
       "      <td>206072</td>\n",
       "      <td>NaN</td>\n",
       "    </tr>\n",
       "    <tr>\n",
       "      <th>157433</th>\n",
       "      <td>206116</td>\n",
       "      <td>NaN</td>\n",
       "    </tr>\n",
       "    <tr>\n",
       "      <th>157434</th>\n",
       "      <td>206169</td>\n",
       "      <td>NaN</td>\n",
       "    </tr>\n",
       "    <tr>\n",
       "      <th>157435</th>\n",
       "      <td>206186</td>\n",
       "      <td>NaN</td>\n",
       "    </tr>\n",
       "    <tr>\n",
       "      <th>157436</th>\n",
       "      <td>206191</td>\n",
       "      <td>NaN</td>\n",
       "    </tr>\n",
       "  </tbody>\n",
       "</table>\n",
       "<p>157437 rows × 2 columns</p>\n",
       "</div>"
      ],
      "text/plain": [
       "        user_id  reordered\n",
       "0        137587        1.0\n",
       "1        173474        1.0\n",
       "2         13918        1.0\n",
       "3         62300        1.0\n",
       "4         62307        1.0\n",
       "...         ...        ...\n",
       "157432   206072        NaN\n",
       "157433   206116        NaN\n",
       "157434   206169        NaN\n",
       "157435   206186        NaN\n",
       "157436   206191        NaN\n",
       "\n",
       "[157437 rows x 2 columns]"
      ]
     },
     "execution_count": 68,
     "metadata": {},
     "output_type": "execute_result"
    }
   ],
   "source": [
    "# Merging order_products with order on order_id\n",
    "customer_order_reorders_merged = order_products.merge(orders, on='order_id', how='outer')\n",
    "\n",
    "# Grouping the data, & Mean\n",
    "customer_order_reorders_grouped = customer_order_reorders_merged.groupby('user_id')['reordered'].mean()\n",
    "\n",
    "# Sorting the result\n",
    "customer_order_reorders_grouped =  customer_order_reorders_grouped.sort_values(ascending=False)\n",
    "\n",
    "# Converting to DataFrame\n",
    "customer_order_reorders_grouped.reset_index()"
   ]
  },
  {
   "cell_type": "markdown",
   "id": "92d35137",
   "metadata": {
    "id": "92d35137"
   },
   "source": [
    "### [C5] What are the top 20 items that people put in their carts first?\n",
    "\n",
    "To identify the top 20 items that people most frequently add to their carts first:\n",
    "\n",
    "1. **Merge the datasets**: Combine `order_products` with `products` to link product names and IDs.\n",
    "2. **Filter the data**: Focus on rows where `add_to_cart_order` equals 1, indicating the first item added to the cart.\n",
    "3. **Group the data**: Group by `product_id` and `product_name` to aggregate the count of how often each product was the first in a cart.\n",
    "4. **Count occurrences**: Use `.count()` to calculate the total number of times each product was the first added.\n",
    "5. **Sort the results**: Use `.sort_values(ascending=False)` to rank products by their first-in-cart frequency.\n",
    "6. **Display the top 20**: Use `.head(20)` to extract the most popular first-in-cart items.\n",
    "\n",
    "This provides insights into which products customers prioritize in their shopping process.\n"
   ]
  },
  {
   "cell_type": "code",
   "execution_count": 69,
   "id": "0ae57274",
   "metadata": {
    "id": "0ae57274",
    "scrolled": true
   },
   "outputs": [],
   "source": [
    "# # Reviwer - For this cell block I tried my best to eye ball this since the Tripleten is bugging out for this process. \n",
    "# # Merging the datasets to link product names and IDs\n",
    "# item_in_cart = order_products.merge(products, on='product_id', how='outer')\n",
    "\n",
    "# # Filtering for the first item added to the cart\n",
    "# first_item_to_cart = item_in_cart[item_in_cart['add_to_cart_order'] == 1]\n",
    "\n",
    "# # Grouping by product_id and product_name, counting occurrences of first-in-cart\n",
    "# item_to_cart_grouped = first_item_to_cart.groupby(['product_id', 'product_name'])['order_id'].count().reset_index(name='first_in_cart_count')\n",
    "\n",
    "# # Sorting the results in descending order\n",
    "# item_to_cart_sorted = item_to_cart_grouped.sort_values(by='first_in_cart_count', ascending=False)\n",
    "\n",
    "# # Displaying the top 20 items\n",
    "# top_20_in_cart = item_to_cart_sorted.head(20)\n",
    "\n",
    "# top_20_in_cart"
   ]
  },
  {
   "cell_type": "markdown",
   "id": "28ce9872",
   "metadata": {
    "id": "28ce9872"
   },
   "source": [
    "The products that are most often placed into the cart first are produce, dairy, and beverages such as soda or water. I couldn't really say why that is without experience using Instacart because this could have more to do with app design than properties of the products. I do notice that there is considerable overlap between this result and the previous result for most popular and most reordered item types. It could simply be that the app prioritizes popular items as the first suggested purchases, so it happens to be more convenient for customers to place these items in their cart first."
   ]
  },
  {
   "cell_type": "code",
   "execution_count": null,
   "id": "f4a2af09",
   "metadata": {
    "editable": true,
    "id": "f4a2af09",
    "slideshow": {
     "slide_type": ""
    },
    "tags": []
   },
   "outputs": [],
   "source": []
  }
 ],
 "metadata": {
  "ExecuteTimeLog": [
   {
    "duration": 2452,
    "start_time": "2025-05-07T18:26:31.851Z"
   },
   {
    "duration": 1092,
    "start_time": "2025-05-07T18:26:34.306Z"
   },
   {
    "duration": 218,
    "start_time": "2025-05-07T18:28:38.010Z"
   },
   {
    "duration": 2,
    "start_time": "2025-05-07T18:29:29.668Z"
   },
   {
    "duration": 13,
    "start_time": "2025-05-07T18:29:41.214Z"
   },
   {
    "duration": 468,
    "start_time": "2025-05-07T18:30:11.725Z"
   },
   {
    "duration": 985,
    "start_time": "2025-05-07T18:30:12.195Z"
   },
   {
    "duration": 12,
    "start_time": "2025-05-07T18:30:13.182Z"
   },
   {
    "duration": 10,
    "start_time": "2025-05-07T18:30:29.095Z"
   },
   {
    "duration": 6,
    "start_time": "2025-05-07T18:31:34.675Z"
   },
   {
    "duration": 10,
    "start_time": "2025-05-07T18:32:06.226Z"
   },
   {
    "duration": 9,
    "start_time": "2025-05-07T18:32:29.304Z"
   },
   {
    "duration": 12,
    "start_time": "2025-05-07T18:33:33.713Z"
   },
   {
    "duration": 7,
    "start_time": "2025-05-07T18:33:59.903Z"
   },
   {
    "duration": 25,
    "start_time": "2025-05-07T18:34:57.910Z"
   },
   {
    "duration": 9,
    "start_time": "2025-05-07T18:41:20.126Z"
   },
   {
    "duration": 10,
    "start_time": "2025-05-07T18:42:06.104Z"
   },
   {
    "duration": 9,
    "start_time": "2025-05-07T18:42:59.523Z"
   },
   {
    "duration": 467,
    "start_time": "2025-05-07T18:56:55.466Z"
   },
   {
    "duration": 1042,
    "start_time": "2025-05-07T18:56:55.935Z"
   },
   {
    "duration": 12,
    "start_time": "2025-05-07T18:56:56.978Z"
   },
   {
    "duration": 9,
    "start_time": "2025-05-07T18:56:56.991Z"
   },
   {
    "duration": 12,
    "start_time": "2025-05-07T18:56:57.013Z"
   },
   {
    "duration": 15,
    "start_time": "2025-05-07T18:56:57.028Z"
   },
   {
    "duration": 11,
    "start_time": "2025-05-07T18:56:57.045Z"
   },
   {
    "duration": 13,
    "start_time": "2025-05-07T18:56:57.058Z"
   },
   {
    "duration": 22,
    "start_time": "2025-05-07T18:56:57.073Z"
   },
   {
    "duration": 20,
    "start_time": "2025-05-07T18:56:57.097Z"
   },
   {
    "duration": 10,
    "start_time": "2025-05-07T18:56:57.119Z"
   },
   {
    "duration": 10,
    "start_time": "2025-05-07T18:56:57.131Z"
   },
   {
    "duration": 7,
    "start_time": "2025-05-07T19:00:58.057Z"
   },
   {
    "duration": 10,
    "start_time": "2025-05-07T19:01:03.210Z"
   },
   {
    "duration": 8,
    "start_time": "2025-05-07T19:01:30.690Z"
   },
   {
    "duration": 9,
    "start_time": "2025-05-07T19:04:05.944Z"
   },
   {
    "duration": 16,
    "start_time": "2025-05-07T19:04:57.347Z"
   },
   {
    "duration": 561,
    "start_time": "2025-05-07T19:42:17.362Z"
   },
   {
    "duration": 16,
    "start_time": "2025-05-07T19:43:55.354Z"
   },
   {
    "duration": 8,
    "start_time": "2025-05-07T19:45:24.975Z"
   },
   {
    "duration": 12,
    "start_time": "2025-05-07T20:52:52.111Z"
   },
   {
    "duration": 11,
    "start_time": "2025-05-07T20:53:15.129Z"
   },
   {
    "duration": 7,
    "start_time": "2025-05-07T20:53:22.978Z"
   },
   {
    "duration": 12,
    "start_time": "2025-05-07T20:54:14.473Z"
   },
   {
    "duration": 9,
    "start_time": "2025-05-07T20:54:58.931Z"
   },
   {
    "duration": 10,
    "start_time": "2025-05-07T20:58:01.804Z"
   },
   {
    "duration": 17,
    "start_time": "2025-05-07T21:30:17.205Z"
   },
   {
    "duration": 8,
    "start_time": "2025-05-07T21:30:21.832Z"
   },
   {
    "duration": 12,
    "start_time": "2025-05-07T21:31:21.246Z"
   },
   {
    "duration": 8,
    "start_time": "2025-05-07T21:32:34.938Z"
   },
   {
    "duration": 9,
    "start_time": "2025-05-07T21:33:02.580Z"
   },
   {
    "duration": 404,
    "start_time": "2025-05-07T21:33:13.478Z"
   },
   {
    "duration": 917,
    "start_time": "2025-05-07T21:33:13.884Z"
   },
   {
    "duration": 15,
    "start_time": "2025-05-07T21:33:14.803Z"
   },
   {
    "duration": 10,
    "start_time": "2025-05-07T21:33:14.819Z"
   },
   {
    "duration": 7,
    "start_time": "2025-05-07T21:33:14.831Z"
   },
   {
    "duration": 7,
    "start_time": "2025-05-07T21:33:14.839Z"
   },
   {
    "duration": 11,
    "start_time": "2025-05-07T21:33:14.848Z"
   },
   {
    "duration": 11,
    "start_time": "2025-05-07T21:33:14.861Z"
   },
   {
    "duration": 61,
    "start_time": "2025-05-07T21:33:14.873Z"
   },
   {
    "duration": 9,
    "start_time": "2025-05-07T21:33:14.936Z"
   },
   {
    "duration": 9,
    "start_time": "2025-05-07T21:33:14.947Z"
   },
   {
    "duration": 7,
    "start_time": "2025-05-07T21:33:14.958Z"
   },
   {
    "duration": 12,
    "start_time": "2025-05-07T21:33:14.967Z"
   },
   {
    "duration": 36,
    "start_time": "2025-05-07T21:33:14.981Z"
   },
   {
    "duration": 9,
    "start_time": "2025-05-07T21:33:15.019Z"
   },
   {
    "duration": 6,
    "start_time": "2025-05-07T21:34:28.859Z"
   },
   {
    "duration": 6,
    "start_time": "2025-05-07T21:42:50.324Z"
   },
   {
    "duration": 6,
    "start_time": "2025-05-07T21:42:51.450Z"
   },
   {
    "duration": 666,
    "start_time": "2025-05-07T21:53:12.107Z"
   },
   {
    "duration": 5,
    "start_time": "2025-05-07T21:54:13.318Z"
   },
   {
    "duration": 6,
    "start_time": "2025-05-07T21:54:21.186Z"
   },
   {
    "duration": 6,
    "start_time": "2025-05-07T21:54:21.919Z"
   },
   {
    "duration": 8,
    "start_time": "2025-05-07T22:26:45.100Z"
   },
   {
    "duration": 7,
    "start_time": "2025-05-07T22:27:07.779Z"
   },
   {
    "duration": 7,
    "start_time": "2025-05-07T22:27:22.790Z"
   },
   {
    "duration": 5,
    "start_time": "2025-05-07T22:27:54.225Z"
   },
   {
    "duration": 3,
    "start_time": "2025-05-07T22:29:47.792Z"
   },
   {
    "duration": 8,
    "start_time": "2025-05-07T22:29:53.277Z"
   },
   {
    "duration": 6,
    "start_time": "2025-05-07T22:30:01.942Z"
   },
   {
    "duration": 7,
    "start_time": "2025-05-07T22:32:57.118Z"
   },
   {
    "duration": 3,
    "start_time": "2025-05-07T22:33:08.619Z"
   },
   {
    "duration": 10,
    "start_time": "2025-05-07T22:34:42.310Z"
   },
   {
    "duration": 15,
    "start_time": "2025-05-07T22:35:02.837Z"
   },
   {
    "duration": 397,
    "start_time": "2025-05-07T22:35:22.578Z"
   },
   {
    "duration": 905,
    "start_time": "2025-05-07T22:35:22.978Z"
   },
   {
    "duration": 12,
    "start_time": "2025-05-07T22:35:23.886Z"
   },
   {
    "duration": 20,
    "start_time": "2025-05-07T22:35:23.899Z"
   },
   {
    "duration": 7,
    "start_time": "2025-05-07T22:35:23.922Z"
   },
   {
    "duration": 10,
    "start_time": "2025-05-07T22:35:23.931Z"
   },
   {
    "duration": 10,
    "start_time": "2025-05-07T22:35:23.943Z"
   },
   {
    "duration": 10,
    "start_time": "2025-05-07T22:35:23.955Z"
   },
   {
    "duration": 51,
    "start_time": "2025-05-07T22:35:23.966Z"
   },
   {
    "duration": 7,
    "start_time": "2025-05-07T22:35:24.020Z"
   },
   {
    "duration": 9,
    "start_time": "2025-05-07T22:35:24.029Z"
   },
   {
    "duration": 8,
    "start_time": "2025-05-07T22:35:24.039Z"
   },
   {
    "duration": 10,
    "start_time": "2025-05-07T22:35:24.049Z"
   },
   {
    "duration": 8,
    "start_time": "2025-05-07T22:35:24.062Z"
   },
   {
    "duration": 41,
    "start_time": "2025-05-07T22:35:24.072Z"
   },
   {
    "duration": 6,
    "start_time": "2025-05-07T22:35:24.114Z"
   },
   {
    "duration": 5,
    "start_time": "2025-05-07T22:35:24.122Z"
   },
   {
    "duration": 14,
    "start_time": "2025-05-07T22:35:24.129Z"
   },
   {
    "duration": 6,
    "start_time": "2025-05-07T22:35:30.133Z"
   },
   {
    "duration": 12,
    "start_time": "2025-05-07T22:36:33.749Z"
   },
   {
    "duration": 7,
    "start_time": "2025-05-07T22:38:18.414Z"
   },
   {
    "duration": 21,
    "start_time": "2025-05-07T22:38:34.404Z"
   },
   {
    "duration": 12,
    "start_time": "2025-05-07T22:38:44.176Z"
   },
   {
    "duration": 7,
    "start_time": "2025-05-07T22:38:52.230Z"
   },
   {
    "duration": 13,
    "start_time": "2025-05-07T22:39:01.547Z"
   },
   {
    "duration": 8,
    "start_time": "2025-05-07T22:39:09.153Z"
   },
   {
    "duration": 6,
    "start_time": "2025-05-07T22:39:26.835Z"
   },
   {
    "duration": 22,
    "start_time": "2025-05-07T22:39:58.324Z"
   },
   {
    "duration": 18,
    "start_time": "2025-05-07T22:41:23.434Z"
   },
   {
    "duration": 17,
    "start_time": "2025-05-07T22:41:57.254Z"
   },
   {
    "duration": 7,
    "start_time": "2025-05-07T22:45:48.221Z"
   },
   {
    "duration": 8,
    "start_time": "2025-05-07T22:45:59.363Z"
   },
   {
    "duration": 8,
    "start_time": "2025-05-07T22:46:13.153Z"
   },
   {
    "duration": 8,
    "start_time": "2025-05-07T22:46:40.709Z"
   },
   {
    "duration": 6,
    "start_time": "2025-05-07T22:47:02.504Z"
   },
   {
    "duration": 84,
    "start_time": "2025-05-07T23:03:47.477Z"
   },
   {
    "duration": 4,
    "start_time": "2025-05-07T23:04:14.361Z"
   },
   {
    "duration": 6,
    "start_time": "2025-05-07T23:05:08.983Z"
   },
   {
    "duration": 8,
    "start_time": "2025-05-07T23:05:21.381Z"
   },
   {
    "duration": 62,
    "start_time": "2025-05-07T23:07:36.603Z"
   },
   {
    "duration": 63,
    "start_time": "2025-05-07T23:07:49.122Z"
   },
   {
    "duration": 160,
    "start_time": "2025-05-08T03:19:36.985Z"
   },
   {
    "duration": 13,
    "start_time": "2025-05-08T03:19:51.051Z"
   },
   {
    "duration": 2189,
    "start_time": "2025-05-08T03:20:10.720Z"
   },
   {
    "duration": 1014,
    "start_time": "2025-05-08T03:20:12.911Z"
   },
   {
    "duration": 13,
    "start_time": "2025-05-08T03:20:13.927Z"
   },
   {
    "duration": 9,
    "start_time": "2025-05-08T03:20:13.942Z"
   },
   {
    "duration": 6,
    "start_time": "2025-05-08T03:20:13.952Z"
   },
   {
    "duration": 8,
    "start_time": "2025-05-08T03:20:13.959Z"
   },
   {
    "duration": 8,
    "start_time": "2025-05-08T03:20:13.969Z"
   },
   {
    "duration": 12,
    "start_time": "2025-05-08T03:20:14.009Z"
   },
   {
    "duration": 23,
    "start_time": "2025-05-08T03:20:14.023Z"
   },
   {
    "duration": 8,
    "start_time": "2025-05-08T03:20:14.049Z"
   },
   {
    "duration": 10,
    "start_time": "2025-05-08T03:20:14.059Z"
   },
   {
    "duration": 37,
    "start_time": "2025-05-08T03:20:14.071Z"
   },
   {
    "duration": 12,
    "start_time": "2025-05-08T03:20:14.110Z"
   },
   {
    "duration": 9,
    "start_time": "2025-05-08T03:20:14.124Z"
   },
   {
    "duration": 7,
    "start_time": "2025-05-08T03:20:14.135Z"
   },
   {
    "duration": 6,
    "start_time": "2025-05-08T03:20:14.145Z"
   },
   {
    "duration": 5,
    "start_time": "2025-05-08T03:20:14.153Z"
   },
   {
    "duration": 6,
    "start_time": "2025-05-08T03:20:14.159Z"
   },
   {
    "duration": 51,
    "start_time": "2025-05-08T03:20:14.168Z"
   },
   {
    "duration": 6,
    "start_time": "2025-05-08T03:20:14.221Z"
   },
   {
    "duration": 18,
    "start_time": "2025-05-08T03:20:14.229Z"
   },
   {
    "duration": 18,
    "start_time": "2025-05-08T03:20:14.249Z"
   },
   {
    "duration": 45,
    "start_time": "2025-05-08T03:20:14.269Z"
   },
   {
    "duration": 8,
    "start_time": "2025-05-08T03:20:25.589Z"
   },
   {
    "duration": 63,
    "start_time": "2025-05-08T03:20:31.898Z"
   },
   {
    "duration": 8,
    "start_time": "2025-05-08T03:20:44.219Z"
   },
   {
    "duration": 7,
    "start_time": "2025-05-08T03:20:53.985Z"
   },
   {
    "duration": 9,
    "start_time": "2025-05-08T03:21:04.006Z"
   },
   {
    "duration": 12,
    "start_time": "2025-05-08T03:21:09.988Z"
   },
   {
    "duration": 10,
    "start_time": "2025-05-08T03:21:32.601Z"
   },
   {
    "duration": 9,
    "start_time": "2025-05-08T03:21:40.598Z"
   },
   {
    "duration": 6,
    "start_time": "2025-05-08T03:21:46.818Z"
   },
   {
    "duration": 66,
    "start_time": "2025-05-08T03:28:36.009Z"
   },
   {
    "duration": 1086,
    "start_time": "2025-05-08T03:30:50.288Z"
   },
   {
    "duration": 62,
    "start_time": "2025-05-08T03:31:43.990Z"
   },
   {
    "duration": 68,
    "start_time": "2025-05-08T03:32:10.552Z"
   },
   {
    "duration": 8,
    "start_time": "2025-05-08T03:32:39.350Z"
   },
   {
    "duration": 63,
    "start_time": "2025-05-08T03:33:45.169Z"
   },
   {
    "duration": 63,
    "start_time": "2025-05-08T03:34:51.441Z"
   },
   {
    "duration": 63,
    "start_time": "2025-05-08T03:35:32.017Z"
   },
   {
    "duration": 409,
    "start_time": "2025-05-08T03:35:49.290Z"
   },
   {
    "duration": 920,
    "start_time": "2025-05-08T03:35:49.701Z"
   },
   {
    "duration": 11,
    "start_time": "2025-05-08T03:35:50.622Z"
   },
   {
    "duration": 8,
    "start_time": "2025-05-08T03:35:50.635Z"
   },
   {
    "duration": 5,
    "start_time": "2025-05-08T03:35:50.646Z"
   },
   {
    "duration": 7,
    "start_time": "2025-05-08T03:35:50.653Z"
   },
   {
    "duration": 8,
    "start_time": "2025-05-08T03:35:50.662Z"
   },
   {
    "duration": 47,
    "start_time": "2025-05-08T03:35:50.672Z"
   },
   {
    "duration": 23,
    "start_time": "2025-05-08T03:35:50.721Z"
   },
   {
    "duration": 7,
    "start_time": "2025-05-08T03:35:50.746Z"
   },
   {
    "duration": 9,
    "start_time": "2025-05-08T03:35:50.755Z"
   },
   {
    "duration": 7,
    "start_time": "2025-05-08T03:35:50.766Z"
   },
   {
    "duration": 41,
    "start_time": "2025-05-08T03:35:50.775Z"
   },
   {
    "duration": 8,
    "start_time": "2025-05-08T03:35:50.819Z"
   },
   {
    "duration": 8,
    "start_time": "2025-05-08T03:35:50.828Z"
   },
   {
    "duration": 7,
    "start_time": "2025-05-08T03:35:50.837Z"
   },
   {
    "duration": 6,
    "start_time": "2025-05-08T03:35:50.847Z"
   },
   {
    "duration": 7,
    "start_time": "2025-05-08T03:35:50.854Z"
   },
   {
    "duration": 46,
    "start_time": "2025-05-08T03:35:50.863Z"
   },
   {
    "duration": 7,
    "start_time": "2025-05-08T03:35:50.911Z"
   },
   {
    "duration": 17,
    "start_time": "2025-05-08T03:35:50.920Z"
   },
   {
    "duration": 18,
    "start_time": "2025-05-08T03:35:50.938Z"
   },
   {
    "duration": 17,
    "start_time": "2025-05-08T03:35:50.957Z"
   },
   {
    "duration": 37,
    "start_time": "2025-05-08T03:35:50.976Z"
   },
   {
    "duration": 62,
    "start_time": "2025-05-08T03:35:51.015Z"
   },
   {
    "duration": 7,
    "start_time": "2025-05-08T03:36:22.950Z"
   },
   {
    "duration": 10,
    "start_time": "2025-05-08T03:36:49.555Z"
   },
   {
    "duration": 7,
    "start_time": "2025-05-08T03:40:06.955Z"
   },
   {
    "duration": 16,
    "start_time": "2025-05-08T03:42:40.069Z"
   },
   {
    "duration": 17,
    "start_time": "2025-05-08T03:42:47.506Z"
   },
   {
    "duration": 74,
    "start_time": "2025-05-08T03:43:07.072Z"
   },
   {
    "duration": 605,
    "start_time": "2025-05-08T03:43:14.591Z"
   },
   {
    "duration": 638,
    "start_time": "2025-05-08T03:43:25.942Z"
   },
   {
    "duration": 122,
    "start_time": "2025-05-08T03:44:09.135Z"
   },
   {
    "duration": 42,
    "start_time": "2025-05-08T03:53:20.823Z"
   },
   {
    "duration": 25,
    "start_time": "2025-05-08T03:55:27.753Z"
   },
   {
    "duration": 63,
    "start_time": "2025-05-08T03:55:32.620Z"
   },
   {
    "duration": 25,
    "start_time": "2025-05-08T03:55:33.176Z"
   },
   {
    "duration": 43,
    "start_time": "2025-05-08T03:56:05.304Z"
   },
   {
    "duration": 25,
    "start_time": "2025-05-08T03:56:10.586Z"
   },
   {
    "duration": 41,
    "start_time": "2025-05-08T03:58:20.070Z"
   },
   {
    "duration": 49,
    "start_time": "2025-05-08T03:58:32.164Z"
   },
   {
    "duration": 9,
    "start_time": "2025-05-08T03:58:58.570Z"
   },
   {
    "duration": 464,
    "start_time": "2025-05-08T03:59:32.023Z"
   },
   {
    "duration": 920,
    "start_time": "2025-05-08T03:59:32.489Z"
   },
   {
    "duration": 13,
    "start_time": "2025-05-08T03:59:33.410Z"
   },
   {
    "duration": 8,
    "start_time": "2025-05-08T03:59:33.425Z"
   },
   {
    "duration": 5,
    "start_time": "2025-05-08T03:59:33.437Z"
   },
   {
    "duration": 7,
    "start_time": "2025-05-08T03:59:33.444Z"
   },
   {
    "duration": 9,
    "start_time": "2025-05-08T03:59:33.453Z"
   },
   {
    "duration": 46,
    "start_time": "2025-05-08T03:59:33.464Z"
   },
   {
    "duration": 23,
    "start_time": "2025-05-08T03:59:33.512Z"
   },
   {
    "duration": 8,
    "start_time": "2025-05-08T03:59:33.536Z"
   },
   {
    "duration": 9,
    "start_time": "2025-05-08T03:59:33.546Z"
   },
   {
    "duration": 8,
    "start_time": "2025-05-08T03:59:33.556Z"
   },
   {
    "duration": 10,
    "start_time": "2025-05-08T03:59:33.565Z"
   },
   {
    "duration": 10,
    "start_time": "2025-05-08T03:59:33.610Z"
   },
   {
    "duration": 8,
    "start_time": "2025-05-08T03:59:33.621Z"
   },
   {
    "duration": 6,
    "start_time": "2025-05-08T03:59:33.630Z"
   },
   {
    "duration": 5,
    "start_time": "2025-05-08T03:59:33.638Z"
   },
   {
    "duration": 6,
    "start_time": "2025-05-08T03:59:33.644Z"
   },
   {
    "duration": 11,
    "start_time": "2025-05-08T03:59:33.651Z"
   },
   {
    "duration": 6,
    "start_time": "2025-05-08T03:59:33.664Z"
   },
   {
    "duration": 49,
    "start_time": "2025-05-08T03:59:33.672Z"
   },
   {
    "duration": 18,
    "start_time": "2025-05-08T03:59:33.723Z"
   },
   {
    "duration": 18,
    "start_time": "2025-05-08T03:59:33.742Z"
   },
   {
    "duration": 7,
    "start_time": "2025-05-08T03:59:33.762Z"
   },
   {
    "duration": 95,
    "start_time": "2025-05-08T03:59:33.771Z"
   },
   {
    "duration": 9,
    "start_time": "2025-05-08T03:59:33.868Z"
   },
   {
    "duration": 36,
    "start_time": "2025-05-08T03:59:46.639Z"
   },
   {
    "duration": 35,
    "start_time": "2025-05-08T04:00:23.411Z"
   },
   {
    "duration": 18,
    "start_time": "2025-05-08T04:00:42.869Z"
   },
   {
    "duration": 21,
    "start_time": "2025-05-08T04:00:48.706Z"
   },
   {
    "duration": 14,
    "start_time": "2025-05-08T04:00:57.990Z"
   },
   {
    "duration": 23,
    "start_time": "2025-05-08T04:08:40.672Z"
   },
   {
    "duration": 23,
    "start_time": "2025-05-08T04:08:52.255Z"
   },
   {
    "duration": 422,
    "start_time": "2025-05-08T04:15:02.271Z"
   },
   {
    "duration": 915,
    "start_time": "2025-05-08T04:15:02.695Z"
   },
   {
    "duration": 11,
    "start_time": "2025-05-08T04:15:03.613Z"
   },
   {
    "duration": 9,
    "start_time": "2025-05-08T04:15:03.626Z"
   },
   {
    "duration": 6,
    "start_time": "2025-05-08T04:15:03.638Z"
   },
   {
    "duration": 8,
    "start_time": "2025-05-08T04:15:03.646Z"
   },
   {
    "duration": 10,
    "start_time": "2025-05-08T04:15:03.655Z"
   },
   {
    "duration": 47,
    "start_time": "2025-05-08T04:15:03.666Z"
   },
   {
    "duration": 25,
    "start_time": "2025-05-08T04:15:03.715Z"
   },
   {
    "duration": 8,
    "start_time": "2025-05-08T04:15:03.742Z"
   },
   {
    "duration": 8,
    "start_time": "2025-05-08T04:15:03.752Z"
   },
   {
    "duration": 7,
    "start_time": "2025-05-08T04:15:03.762Z"
   },
   {
    "duration": 39,
    "start_time": "2025-05-08T04:15:03.771Z"
   },
   {
    "duration": 8,
    "start_time": "2025-05-08T04:15:03.814Z"
   },
   {
    "duration": 7,
    "start_time": "2025-05-08T04:15:03.823Z"
   },
   {
    "duration": 5,
    "start_time": "2025-05-08T04:15:03.833Z"
   },
   {
    "duration": 5,
    "start_time": "2025-05-08T04:15:03.841Z"
   },
   {
    "duration": 5,
    "start_time": "2025-05-08T04:15:03.847Z"
   },
   {
    "duration": 11,
    "start_time": "2025-05-08T04:15:03.854Z"
   },
   {
    "duration": 43,
    "start_time": "2025-05-08T04:15:03.867Z"
   },
   {
    "duration": 17,
    "start_time": "2025-05-08T04:15:03.912Z"
   },
   {
    "duration": 18,
    "start_time": "2025-05-08T04:15:03.931Z"
   },
   {
    "duration": 17,
    "start_time": "2025-05-08T04:15:03.951Z"
   },
   {
    "duration": 8,
    "start_time": "2025-05-08T04:15:03.970Z"
   },
   {
    "duration": 63,
    "start_time": "2025-05-08T04:15:04.009Z"
   },
   {
    "duration": 39,
    "start_time": "2025-05-08T04:15:04.074Z"
   },
   {
    "duration": 159,
    "start_time": "2025-05-10T19:26:19.589Z"
   },
   {
    "duration": 11,
    "start_time": "2025-05-10T19:26:40.769Z"
   },
   {
    "duration": 12,
    "start_time": "2025-05-10T19:26:54.385Z"
   },
   {
    "duration": 2132,
    "start_time": "2025-05-10T19:27:23.002Z"
   },
   {
    "duration": 993,
    "start_time": "2025-05-10T19:27:25.136Z"
   },
   {
    "duration": 11,
    "start_time": "2025-05-10T19:27:26.131Z"
   },
   {
    "duration": 9,
    "start_time": "2025-05-10T19:27:26.144Z"
   },
   {
    "duration": 6,
    "start_time": "2025-05-10T19:27:26.154Z"
   },
   {
    "duration": 7,
    "start_time": "2025-05-10T19:27:26.187Z"
   },
   {
    "duration": 9,
    "start_time": "2025-05-10T19:27:26.196Z"
   },
   {
    "duration": 10,
    "start_time": "2025-05-10T19:27:26.207Z"
   },
   {
    "duration": 22,
    "start_time": "2025-05-10T19:27:26.219Z"
   },
   {
    "duration": 7,
    "start_time": "2025-05-10T19:27:26.245Z"
   },
   {
    "duration": 10,
    "start_time": "2025-05-10T19:27:26.286Z"
   },
   {
    "duration": 7,
    "start_time": "2025-05-10T19:27:26.297Z"
   },
   {
    "duration": 11,
    "start_time": "2025-05-10T19:27:26.306Z"
   },
   {
    "duration": 8,
    "start_time": "2025-05-10T19:27:26.318Z"
   },
   {
    "duration": 7,
    "start_time": "2025-05-10T19:27:26.328Z"
   },
   {
    "duration": 6,
    "start_time": "2025-05-10T19:27:26.336Z"
   },
   {
    "duration": 47,
    "start_time": "2025-05-10T19:27:26.344Z"
   },
   {
    "duration": 5,
    "start_time": "2025-05-10T19:27:26.392Z"
   },
   {
    "duration": 11,
    "start_time": "2025-05-10T19:27:26.399Z"
   },
   {
    "duration": 7,
    "start_time": "2025-05-10T19:27:26.411Z"
   },
   {
    "duration": 16,
    "start_time": "2025-05-10T19:27:26.420Z"
   },
   {
    "duration": 18,
    "start_time": "2025-05-10T19:27:26.437Z"
   },
   {
    "duration": 47,
    "start_time": "2025-05-10T19:27:26.457Z"
   },
   {
    "duration": 7,
    "start_time": "2025-05-10T19:27:26.506Z"
   },
   {
    "duration": 83,
    "start_time": "2025-05-10T19:27:26.514Z"
   },
   {
    "duration": 27,
    "start_time": "2025-05-10T19:27:26.598Z"
   },
   {
    "duration": 112,
    "start_time": "2025-05-10T19:27:26.627Z"
   },
   {
    "duration": 3,
    "start_time": "2025-05-12T02:24:56.436Z"
   },
   {
    "duration": 2087,
    "start_time": "2025-05-12T02:25:06.518Z"
   },
   {
    "duration": 983,
    "start_time": "2025-05-12T02:25:08.607Z"
   },
   {
    "duration": 12,
    "start_time": "2025-05-12T02:25:09.592Z"
   },
   {
    "duration": 14,
    "start_time": "2025-05-12T02:25:09.607Z"
   },
   {
    "duration": 6,
    "start_time": "2025-05-12T02:25:09.623Z"
   },
   {
    "duration": 6,
    "start_time": "2025-05-12T02:25:09.631Z"
   },
   {
    "duration": 9,
    "start_time": "2025-05-12T02:25:09.638Z"
   },
   {
    "duration": 11,
    "start_time": "2025-05-12T02:25:09.649Z"
   },
   {
    "duration": 59,
    "start_time": "2025-05-12T02:25:09.661Z"
   },
   {
    "duration": 7,
    "start_time": "2025-05-12T02:25:09.724Z"
   },
   {
    "duration": 10,
    "start_time": "2025-05-12T02:25:09.732Z"
   },
   {
    "duration": 7,
    "start_time": "2025-05-12T02:25:09.743Z"
   },
   {
    "duration": 10,
    "start_time": "2025-05-12T02:25:09.752Z"
   },
   {
    "duration": 8,
    "start_time": "2025-05-12T02:25:09.763Z"
   },
   {
    "duration": 6,
    "start_time": "2025-05-12T02:25:09.773Z"
   },
   {
    "duration": 40,
    "start_time": "2025-05-12T02:25:09.781Z"
   },
   {
    "duration": 7,
    "start_time": "2025-05-12T02:25:09.822Z"
   },
   {
    "duration": 5,
    "start_time": "2025-05-12T02:25:09.830Z"
   },
   {
    "duration": 13,
    "start_time": "2025-05-12T02:25:09.836Z"
   },
   {
    "duration": 6,
    "start_time": "2025-05-12T02:25:09.850Z"
   },
   {
    "duration": 17,
    "start_time": "2025-05-12T02:25:09.858Z"
   },
   {
    "duration": 58,
    "start_time": "2025-05-12T02:25:09.876Z"
   },
   {
    "duration": 18,
    "start_time": "2025-05-12T02:25:09.935Z"
   },
   {
    "duration": 7,
    "start_time": "2025-05-12T02:25:09.955Z"
   },
   {
    "duration": 82,
    "start_time": "2025-05-12T02:25:09.964Z"
   },
   {
    "duration": 25,
    "start_time": "2025-05-12T02:25:10.049Z"
   },
   {
    "duration": 106,
    "start_time": "2025-05-12T02:25:10.076Z"
   },
   {
    "duration": 86,
    "start_time": "2025-05-12T02:26:02.310Z"
   },
   {
    "duration": 84,
    "start_time": "2025-05-12T02:26:12.652Z"
   },
   {
    "duration": 82,
    "start_time": "2025-05-12T02:28:09.572Z"
   },
   {
    "duration": 83,
    "start_time": "2025-05-12T02:28:15.419Z"
   },
   {
    "duration": 92,
    "start_time": "2025-05-12T02:28:39.577Z"
   },
   {
    "duration": 91,
    "start_time": "2025-05-12T02:29:02.869Z"
   },
   {
    "duration": 91,
    "start_time": "2025-05-12T02:29:43.269Z"
   },
   {
    "duration": 297,
    "start_time": "2025-05-12T02:29:47.790Z"
   },
   {
    "duration": 84,
    "start_time": "2025-05-12T02:30:08.712Z"
   },
   {
    "duration": 158,
    "start_time": "2025-05-12T02:30:18.273Z"
   },
   {
    "duration": 99,
    "start_time": "2025-05-12T02:30:50.895Z"
   },
   {
    "duration": 290,
    "start_time": "2025-05-12T02:30:51.959Z"
   },
   {
    "duration": 15,
    "start_time": "2025-05-12T02:31:18.611Z"
   },
   {
    "duration": 301,
    "start_time": "2025-05-12T02:31:28.936Z"
   },
   {
    "duration": 12,
    "start_time": "2025-05-12T02:31:44.202Z"
   },
   {
    "duration": 90,
    "start_time": "2025-05-12T02:32:07.816Z"
   },
   {
    "duration": 12,
    "start_time": "2025-05-12T02:32:21.358Z"
   },
   {
    "duration": 98,
    "start_time": "2025-05-12T02:32:21.881Z"
   },
   {
    "duration": 86,
    "start_time": "2025-05-12T02:33:25.489Z"
   },
   {
    "duration": 87,
    "start_time": "2025-05-12T02:33:28.155Z"
   },
   {
    "duration": 433,
    "start_time": "2025-05-12T02:33:45.749Z"
   },
   {
    "duration": 918,
    "start_time": "2025-05-12T02:33:46.184Z"
   },
   {
    "duration": 11,
    "start_time": "2025-05-12T02:33:47.106Z"
   },
   {
    "duration": 8,
    "start_time": "2025-05-12T02:33:47.119Z"
   },
   {
    "duration": 6,
    "start_time": "2025-05-12T02:33:47.129Z"
   },
   {
    "duration": 7,
    "start_time": "2025-05-12T02:33:47.136Z"
   },
   {
    "duration": 8,
    "start_time": "2025-05-12T02:33:47.145Z"
   },
   {
    "duration": 11,
    "start_time": "2025-05-12T02:33:47.155Z"
   },
   {
    "duration": 59,
    "start_time": "2025-05-12T02:33:47.167Z"
   },
   {
    "duration": 7,
    "start_time": "2025-05-12T02:33:47.230Z"
   },
   {
    "duration": 9,
    "start_time": "2025-05-12T02:33:47.239Z"
   },
   {
    "duration": 7,
    "start_time": "2025-05-12T02:33:47.249Z"
   },
   {
    "duration": 11,
    "start_time": "2025-05-12T02:33:47.258Z"
   },
   {
    "duration": 8,
    "start_time": "2025-05-12T02:33:47.271Z"
   },
   {
    "duration": 7,
    "start_time": "2025-05-12T02:33:47.281Z"
   },
   {
    "duration": 6,
    "start_time": "2025-05-12T02:33:47.320Z"
   },
   {
    "duration": 5,
    "start_time": "2025-05-12T02:33:47.328Z"
   },
   {
    "duration": 5,
    "start_time": "2025-05-12T02:33:47.335Z"
   },
   {
    "duration": 11,
    "start_time": "2025-05-12T02:33:47.343Z"
   },
   {
    "duration": 6,
    "start_time": "2025-05-12T02:33:47.355Z"
   },
   {
    "duration": 16,
    "start_time": "2025-05-12T02:33:47.363Z"
   },
   {
    "duration": 55,
    "start_time": "2025-05-12T02:33:47.381Z"
   },
   {
    "duration": 20,
    "start_time": "2025-05-12T02:33:47.438Z"
   },
   {
    "duration": 9,
    "start_time": "2025-05-12T02:33:47.460Z"
   },
   {
    "duration": 88,
    "start_time": "2025-05-12T02:33:47.471Z"
   },
   {
    "duration": 28,
    "start_time": "2025-05-12T02:33:47.561Z"
   },
   {
    "duration": 117,
    "start_time": "2025-05-12T02:33:47.592Z"
   },
   {
    "duration": 89,
    "start_time": "2025-05-12T02:33:47.721Z"
   },
   {
    "duration": 100,
    "start_time": "2025-05-12T02:33:47.812Z"
   },
   {
    "duration": 90,
    "start_time": "2025-05-12T02:33:47.919Z"
   },
   {
    "duration": 21,
    "start_time": "2025-05-12T02:34:29.539Z"
   },
   {
    "duration": 15,
    "start_time": "2025-05-12T02:34:36.795Z"
   },
   {
    "duration": 53,
    "start_time": "2025-05-12T02:35:23.279Z"
   },
   {
    "duration": 16,
    "start_time": "2025-05-12T02:37:42.669Z"
   },
   {
    "duration": 15,
    "start_time": "2025-05-12T02:37:56.163Z"
   },
   {
    "duration": 8,
    "start_time": "2025-05-12T02:38:45.088Z"
   },
   {
    "duration": 7,
    "start_time": "2025-05-12T02:38:59.323Z"
   },
   {
    "duration": 18,
    "start_time": "2025-05-12T02:40:41.439Z"
   },
   {
    "duration": 27,
    "start_time": "2025-05-12T02:40:51.895Z"
   },
   {
    "duration": 18,
    "start_time": "2025-05-12T02:43:34.924Z"
   },
   {
    "duration": 32,
    "start_time": "2025-05-12T02:43:45.355Z"
   },
   {
    "duration": 186,
    "start_time": "2025-05-12T02:44:15.772Z"
   },
   {
    "duration": 34,
    "start_time": "2025-05-12T02:45:14.073Z"
   },
   {
    "duration": 6,
    "start_time": "2025-05-12T02:45:27.146Z"
   },
   {
    "duration": 13,
    "start_time": "2025-05-12T02:45:58.618Z"
   },
   {
    "duration": 4,
    "start_time": "2025-05-12T02:46:04.801Z"
   },
   {
    "duration": 158,
    "start_time": "2025-05-12T02:46:35.197Z"
   },
   {
    "duration": 21,
    "start_time": "2025-05-12T02:46:38.863Z"
   },
   {
    "duration": 6,
    "start_time": "2025-05-12T02:46:53.110Z"
   },
   {
    "duration": 752,
    "start_time": "2025-05-12T02:47:03.833Z"
   },
   {
    "duration": 395,
    "start_time": "2025-05-12T02:47:16.690Z"
   },
   {
    "duration": 903,
    "start_time": "2025-05-12T02:47:17.087Z"
   },
   {
    "duration": 12,
    "start_time": "2025-05-12T02:47:17.992Z"
   },
   {
    "duration": 18,
    "start_time": "2025-05-12T02:47:18.007Z"
   },
   {
    "duration": 5,
    "start_time": "2025-05-12T02:47:18.027Z"
   },
   {
    "duration": 8,
    "start_time": "2025-05-12T02:47:18.034Z"
   },
   {
    "duration": 8,
    "start_time": "2025-05-12T02:47:18.043Z"
   },
   {
    "duration": 10,
    "start_time": "2025-05-12T02:47:18.053Z"
   },
   {
    "duration": 55,
    "start_time": "2025-05-12T02:47:18.065Z"
   },
   {
    "duration": 9,
    "start_time": "2025-05-12T02:47:18.123Z"
   },
   {
    "duration": 11,
    "start_time": "2025-05-12T02:47:18.133Z"
   },
   {
    "duration": 7,
    "start_time": "2025-05-12T02:47:18.146Z"
   },
   {
    "duration": 11,
    "start_time": "2025-05-12T02:47:18.155Z"
   },
   {
    "duration": 8,
    "start_time": "2025-05-12T02:47:18.168Z"
   },
   {
    "duration": 44,
    "start_time": "2025-05-12T02:47:18.178Z"
   },
   {
    "duration": 7,
    "start_time": "2025-05-12T02:47:18.224Z"
   },
   {
    "duration": 6,
    "start_time": "2025-05-12T02:47:18.233Z"
   },
   {
    "duration": 7,
    "start_time": "2025-05-12T02:47:18.240Z"
   },
   {
    "duration": 12,
    "start_time": "2025-05-12T02:47:18.248Z"
   },
   {
    "duration": 5,
    "start_time": "2025-05-12T02:47:18.262Z"
   },
   {
    "duration": 50,
    "start_time": "2025-05-12T02:47:18.270Z"
   },
   {
    "duration": 17,
    "start_time": "2025-05-12T02:47:18.322Z"
   },
   {
    "duration": 16,
    "start_time": "2025-05-12T02:47:18.341Z"
   },
   {
    "duration": 7,
    "start_time": "2025-05-12T02:47:18.359Z"
   },
   {
    "duration": 88,
    "start_time": "2025-05-12T02:47:18.367Z"
   },
   {
    "duration": 29,
    "start_time": "2025-05-12T02:47:18.457Z"
   },
   {
    "duration": 104,
    "start_time": "2025-05-12T02:47:18.488Z"
   },
   {
    "duration": 91,
    "start_time": "2025-05-12T02:47:18.596Z"
   },
   {
    "duration": 102,
    "start_time": "2025-05-12T02:47:18.689Z"
   },
   {
    "duration": 97,
    "start_time": "2025-05-12T02:47:18.794Z"
   },
   {
    "duration": 14,
    "start_time": "2025-05-12T02:47:18.893Z"
   },
   {
    "duration": 12,
    "start_time": "2025-05-12T02:47:18.908Z"
   },
   {
    "duration": 18,
    "start_time": "2025-05-12T02:47:18.922Z"
   },
   {
    "duration": 17,
    "start_time": "2025-05-12T02:47:18.941Z"
   },
   {
    "duration": 25,
    "start_time": "2025-05-12T02:47:18.960Z"
   },
   {
    "duration": 4,
    "start_time": "2025-05-12T02:47:18.987Z"
   },
   {
    "duration": 4,
    "start_time": "2025-05-12T02:47:19.020Z"
   },
   {
    "duration": 748,
    "start_time": "2025-05-12T02:47:19.025Z"
   },
   {
    "duration": 8,
    "start_time": "2025-05-12T02:48:06.466Z"
   },
   {
    "duration": 184,
    "start_time": "2025-05-12T02:49:28.527Z"
   },
   {
    "duration": 6,
    "start_time": "2025-05-12T02:49:33.519Z"
   },
   {
    "duration": 8,
    "start_time": "2025-05-12T02:50:03.025Z"
   },
   {
    "duration": 6,
    "start_time": "2025-05-12T02:51:31.570Z"
   },
   {
    "duration": 6,
    "start_time": "2025-05-12T02:51:34.374Z"
   },
   {
    "duration": 5,
    "start_time": "2025-05-12T02:51:34.726Z"
   },
   {
    "duration": 2,
    "start_time": "2025-05-12T02:52:17.106Z"
   },
   {
    "duration": 3,
    "start_time": "2025-05-12T02:52:20.119Z"
   },
   {
    "duration": 14,
    "start_time": "2025-05-12T02:52:31.865Z"
   },
   {
    "duration": 15,
    "start_time": "2025-05-12T02:52:38.826Z"
   },
   {
    "duration": 4,
    "start_time": "2025-05-12T02:54:00.866Z"
   },
   {
    "duration": 6,
    "start_time": "2025-05-12T02:54:06.472Z"
   },
   {
    "duration": 5,
    "start_time": "2025-05-12T02:55:25.958Z"
   },
   {
    "duration": 6,
    "start_time": "2025-05-12T02:55:28.702Z"
   },
   {
    "duration": 406,
    "start_time": "2025-05-12T02:55:46.178Z"
   },
   {
    "duration": 907,
    "start_time": "2025-05-12T02:55:46.586Z"
   },
   {
    "duration": 12,
    "start_time": "2025-05-12T02:55:47.494Z"
   },
   {
    "duration": 16,
    "start_time": "2025-05-12T02:55:47.509Z"
   },
   {
    "duration": 6,
    "start_time": "2025-05-12T02:55:47.527Z"
   },
   {
    "duration": 7,
    "start_time": "2025-05-12T02:55:47.534Z"
   },
   {
    "duration": 8,
    "start_time": "2025-05-12T02:55:47.542Z"
   },
   {
    "duration": 10,
    "start_time": "2025-05-12T02:55:47.552Z"
   },
   {
    "duration": 22,
    "start_time": "2025-05-12T02:55:47.564Z"
   },
   {
    "duration": 36,
    "start_time": "2025-05-12T02:55:47.589Z"
   },
   {
    "duration": 9,
    "start_time": "2025-05-12T02:55:47.627Z"
   },
   {
    "duration": 7,
    "start_time": "2025-05-12T02:55:47.637Z"
   },
   {
    "duration": 12,
    "start_time": "2025-05-12T02:55:47.646Z"
   },
   {
    "duration": 9,
    "start_time": "2025-05-12T02:55:47.659Z"
   },
   {
    "duration": 8,
    "start_time": "2025-05-12T02:55:47.670Z"
   },
   {
    "duration": 43,
    "start_time": "2025-05-12T02:55:47.679Z"
   },
   {
    "duration": 6,
    "start_time": "2025-05-12T02:55:47.724Z"
   },
   {
    "duration": 7,
    "start_time": "2025-05-12T02:55:47.731Z"
   },
   {
    "duration": 11,
    "start_time": "2025-05-12T02:55:47.739Z"
   },
   {
    "duration": 6,
    "start_time": "2025-05-12T02:55:47.752Z"
   },
   {
    "duration": 17,
    "start_time": "2025-05-12T02:55:47.760Z"
   },
   {
    "duration": 50,
    "start_time": "2025-05-12T02:55:47.779Z"
   },
   {
    "duration": 17,
    "start_time": "2025-05-12T02:55:47.830Z"
   },
   {
    "duration": 8,
    "start_time": "2025-05-12T02:55:47.849Z"
   },
   {
    "duration": 86,
    "start_time": "2025-05-12T02:55:47.858Z"
   },
   {
    "duration": 26,
    "start_time": "2025-05-12T02:55:47.946Z"
   },
   {
    "duration": 100,
    "start_time": "2025-05-12T02:55:47.974Z"
   },
   {
    "duration": 95,
    "start_time": "2025-05-12T02:55:48.078Z"
   },
   {
    "duration": 92,
    "start_time": "2025-05-12T02:55:48.175Z"
   },
   {
    "duration": 112,
    "start_time": "2025-05-12T02:55:48.268Z"
   },
   {
    "duration": 12,
    "start_time": "2025-05-12T02:55:48.382Z"
   },
   {
    "duration": 5,
    "start_time": "2025-05-12T02:55:48.395Z"
   },
   {
    "duration": 33,
    "start_time": "2025-05-12T02:55:48.401Z"
   },
   {
    "duration": 23,
    "start_time": "2025-05-12T02:55:48.436Z"
   },
   {
    "duration": 31,
    "start_time": "2025-05-12T02:55:48.460Z"
   },
   {
    "duration": 5,
    "start_time": "2025-05-12T02:55:48.493Z"
   },
   {
    "duration": 21,
    "start_time": "2025-05-12T02:55:48.500Z"
   },
   {
    "duration": 748,
    "start_time": "2025-05-12T02:55:48.522Z"
   },
   {
    "duration": 5,
    "start_time": "2025-05-12T02:55:49.271Z"
   },
   {
    "duration": 5,
    "start_time": "2025-05-12T02:55:49.278Z"
   },
   {
    "duration": 3,
    "start_time": "2025-05-12T02:55:49.285Z"
   },
   {
    "duration": 4,
    "start_time": "2025-05-12T02:55:49.290Z"
   },
   {
    "duration": 4,
    "start_time": "2025-05-12T02:58:41.476Z"
   },
   {
    "duration": 3,
    "start_time": "2025-05-12T02:58:47.291Z"
   },
   {
    "duration": 3,
    "start_time": "2025-05-12T02:59:07.174Z"
   },
   {
    "duration": 3,
    "start_time": "2025-05-12T02:59:51.527Z"
   },
   {
    "duration": 4,
    "start_time": "2025-05-12T02:59:51.990Z"
   },
   {
    "duration": 400,
    "start_time": "2025-05-12T03:00:09.398Z"
   },
   {
    "duration": 891,
    "start_time": "2025-05-12T03:00:09.800Z"
   },
   {
    "duration": 12,
    "start_time": "2025-05-12T03:00:10.692Z"
   },
   {
    "duration": 20,
    "start_time": "2025-05-12T03:00:10.706Z"
   },
   {
    "duration": 5,
    "start_time": "2025-05-12T03:00:10.729Z"
   },
   {
    "duration": 6,
    "start_time": "2025-05-12T03:00:10.736Z"
   },
   {
    "duration": 8,
    "start_time": "2025-05-12T03:00:10.744Z"
   },
   {
    "duration": 10,
    "start_time": "2025-05-12T03:00:10.753Z"
   },
   {
    "duration": 22,
    "start_time": "2025-05-12T03:00:10.764Z"
   },
   {
    "duration": 9,
    "start_time": "2025-05-12T03:00:10.819Z"
   },
   {
    "duration": 13,
    "start_time": "2025-05-12T03:00:10.830Z"
   },
   {
    "duration": 9,
    "start_time": "2025-05-12T03:00:10.844Z"
   },
   {
    "duration": 11,
    "start_time": "2025-05-12T03:00:10.854Z"
   },
   {
    "duration": 8,
    "start_time": "2025-05-12T03:00:10.869Z"
   },
   {
    "duration": 7,
    "start_time": "2025-05-12T03:00:10.878Z"
   },
   {
    "duration": 42,
    "start_time": "2025-05-12T03:00:10.887Z"
   },
   {
    "duration": 6,
    "start_time": "2025-05-12T03:00:10.931Z"
   },
   {
    "duration": 6,
    "start_time": "2025-05-12T03:00:10.939Z"
   },
   {
    "duration": 12,
    "start_time": "2025-05-12T03:00:10.947Z"
   },
   {
    "duration": 7,
    "start_time": "2025-05-12T03:00:10.960Z"
   },
   {
    "duration": 17,
    "start_time": "2025-05-12T03:00:10.968Z"
   },
   {
    "duration": 20,
    "start_time": "2025-05-12T03:00:11.019Z"
   },
   {
    "duration": 20,
    "start_time": "2025-05-12T03:00:11.041Z"
   },
   {
    "duration": 8,
    "start_time": "2025-05-12T03:00:11.062Z"
   },
   {
    "duration": 88,
    "start_time": "2025-05-12T03:00:11.071Z"
   },
   {
    "duration": 26,
    "start_time": "2025-05-12T03:00:11.161Z"
   },
   {
    "duration": 105,
    "start_time": "2025-05-12T03:00:11.189Z"
   },
   {
    "duration": 88,
    "start_time": "2025-05-12T03:00:11.295Z"
   },
   {
    "duration": 97,
    "start_time": "2025-05-12T03:00:11.385Z"
   },
   {
    "duration": 87,
    "start_time": "2025-05-12T03:00:11.483Z"
   },
   {
    "duration": 13,
    "start_time": "2025-05-12T03:00:11.572Z"
   },
   {
    "duration": 5,
    "start_time": "2025-05-12T03:00:11.587Z"
   },
   {
    "duration": 36,
    "start_time": "2025-05-12T03:00:11.593Z"
   },
   {
    "duration": 18,
    "start_time": "2025-05-12T03:00:11.630Z"
   },
   {
    "duration": 26,
    "start_time": "2025-05-12T03:00:11.650Z"
   },
   {
    "duration": 4,
    "start_time": "2025-05-12T03:00:11.677Z"
   },
   {
    "duration": 4,
    "start_time": "2025-05-12T03:00:11.683Z"
   },
   {
    "duration": 758,
    "start_time": "2025-05-12T03:00:11.689Z"
   },
   {
    "duration": 6,
    "start_time": "2025-05-12T03:00:12.449Z"
   },
   {
    "duration": 6,
    "start_time": "2025-05-12T03:00:12.458Z"
   },
   {
    "duration": 4,
    "start_time": "2025-05-12T03:00:12.468Z"
   },
   {
    "duration": 5,
    "start_time": "2025-05-12T03:00:12.473Z"
   },
   {
    "duration": 3,
    "start_time": "2025-05-12T03:00:12.479Z"
   },
   {
    "duration": 4,
    "start_time": "2025-05-12T03:00:12.483Z"
   },
   {
    "duration": 7,
    "start_time": "2025-05-12T03:02:44.030Z"
   },
   {
    "duration": 8,
    "start_time": "2025-05-12T03:03:45.264Z"
   },
   {
    "duration": 50,
    "start_time": "2025-05-12T03:04:23.176Z"
   },
   {
    "duration": 322,
    "start_time": "2025-05-12T03:04:54.237Z"
   },
   {
    "duration": 157,
    "start_time": "2025-05-12T03:09:30.536Z"
   },
   {
    "duration": 454,
    "start_time": "2025-05-12T03:09:48.819Z"
   },
   {
    "duration": 1004,
    "start_time": "2025-05-12T03:09:49.275Z"
   },
   {
    "duration": 12,
    "start_time": "2025-05-12T03:09:50.281Z"
   },
   {
    "duration": 7,
    "start_time": "2025-05-12T03:09:50.296Z"
   },
   {
    "duration": 19,
    "start_time": "2025-05-12T03:09:50.305Z"
   },
   {
    "duration": 8,
    "start_time": "2025-05-12T03:09:50.327Z"
   },
   {
    "duration": 9,
    "start_time": "2025-05-12T03:09:50.337Z"
   },
   {
    "duration": 10,
    "start_time": "2025-05-12T03:09:50.348Z"
   },
   {
    "duration": 22,
    "start_time": "2025-05-12T03:09:50.360Z"
   },
   {
    "duration": 35,
    "start_time": "2025-05-12T03:09:50.385Z"
   },
   {
    "duration": 10,
    "start_time": "2025-05-12T03:09:50.422Z"
   },
   {
    "duration": 7,
    "start_time": "2025-05-12T03:09:50.434Z"
   },
   {
    "duration": 12,
    "start_time": "2025-05-12T03:09:50.443Z"
   },
   {
    "duration": 8,
    "start_time": "2025-05-12T03:09:50.457Z"
   },
   {
    "duration": 7,
    "start_time": "2025-05-12T03:09:50.466Z"
   },
   {
    "duration": 6,
    "start_time": "2025-05-12T03:09:50.475Z"
   },
   {
    "duration": 44,
    "start_time": "2025-05-12T03:09:50.482Z"
   },
   {
    "duration": 6,
    "start_time": "2025-05-12T03:09:50.528Z"
   },
   {
    "duration": 12,
    "start_time": "2025-05-12T03:09:50.535Z"
   },
   {
    "duration": 6,
    "start_time": "2025-05-12T03:09:50.549Z"
   },
   {
    "duration": 16,
    "start_time": "2025-05-12T03:09:50.557Z"
   },
   {
    "duration": 50,
    "start_time": "2025-05-12T03:09:50.575Z"
   },
   {
    "duration": 18,
    "start_time": "2025-05-12T03:09:50.627Z"
   },
   {
    "duration": 7,
    "start_time": "2025-05-12T03:09:50.647Z"
   },
   {
    "duration": 78,
    "start_time": "2025-05-12T03:09:50.656Z"
   },
   {
    "duration": 26,
    "start_time": "2025-05-12T03:09:50.736Z"
   },
   {
    "duration": 109,
    "start_time": "2025-05-12T03:09:50.764Z"
   },
   {
    "duration": 110,
    "start_time": "2025-05-12T03:09:50.876Z"
   },
   {
    "duration": 90,
    "start_time": "2025-05-12T03:09:50.988Z"
   },
   {
    "duration": 98,
    "start_time": "2025-05-12T03:09:51.080Z"
   },
   {
    "duration": 13,
    "start_time": "2025-05-12T03:09:51.180Z"
   },
   {
    "duration": 6,
    "start_time": "2025-05-12T03:09:51.194Z"
   },
   {
    "duration": 39,
    "start_time": "2025-05-12T03:09:51.201Z"
   },
   {
    "duration": 19,
    "start_time": "2025-05-12T03:09:51.241Z"
   },
   {
    "duration": 27,
    "start_time": "2025-05-12T03:09:51.261Z"
   },
   {
    "duration": 5,
    "start_time": "2025-05-12T03:09:51.290Z"
   },
   {
    "duration": 26,
    "start_time": "2025-05-12T03:09:51.297Z"
   },
   {
    "duration": 837,
    "start_time": "2025-05-12T03:09:51.325Z"
   },
   {
    "duration": 5,
    "start_time": "2025-05-12T03:09:52.164Z"
   },
   {
    "duration": 5,
    "start_time": "2025-05-12T03:09:52.172Z"
   },
   {
    "duration": 4,
    "start_time": "2025-05-12T03:09:52.179Z"
   },
   {
    "duration": 3,
    "start_time": "2025-05-12T03:09:52.185Z"
   },
   {
    "duration": 30,
    "start_time": "2025-05-12T03:09:52.190Z"
   },
   {
    "duration": 3,
    "start_time": "2025-05-12T03:09:52.222Z"
   },
   {
    "duration": 181,
    "start_time": "2025-05-12T03:09:52.227Z"
   }
  ],
  "colab": {
   "provenance": []
  },
  "kernelspec": {
   "display_name": "Python 3 (ipykernel)",
   "language": "python",
   "name": "python3"
  },
  "language_info": {
   "codemirror_mode": {
    "name": "ipython",
    "version": 3
   },
   "file_extension": ".py",
   "mimetype": "text/x-python",
   "name": "python",
   "nbconvert_exporter": "python",
   "pygments_lexer": "ipython3",
   "version": "3.11.5"
  },
  "toc": {
   "base_numbering": 1,
   "nav_menu": {},
   "number_sections": true,
   "sideBar": true,
   "skip_h1_title": true,
   "title_cell": "Table of Contents",
   "title_sidebar": "Contents",
   "toc_cell": false,
   "toc_position": {},
   "toc_section_display": true,
   "toc_window_display": false
  }
 },
 "nbformat": 4,
 "nbformat_minor": 5
}
